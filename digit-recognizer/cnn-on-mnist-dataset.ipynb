{
 "cells": [
  {
   "cell_type": "markdown",
   "metadata": {},
   "source": [
    "Solving MNIST\n",
    "Problem statement: Predict digit value given handwriting picture (28 x 28 pixel) Type: Multiclass Classification (0-9 digit) Performance metric: Accuracy;\n",
    "\n",
    "I will approach this problem using Convolutional Neural Network (CNN). I want to beat my previous CNN architecture that has score in public leaderboard 0.98371. My previous CNN could be found [here](https://www.kaggle.com/ajisamudra/solving-mnist-using-cnn-mlp-and-stacking).\n",
    "\n",
    "What I did in this notebook:\n",
    "Data pre-processing: Normalize the data to range 0-1 so it could be faster to converge.\n",
    "Compare several CNN architecture to beat my previous CNN."
   ]
  },
  {
   "cell_type": "code",
   "execution_count": 1,
   "metadata": {
    "_cell_guid": "b1076dfc-b9ad-4769-8c92-a6c4dae69d19",
    "_uuid": "8f2839f25d086af736a60e9eeb907d3b93b6e0e5"
   },
   "outputs": [],
   "source": [
    "# Library\n",
    "\n",
    "import tensorflow as tf\n",
    "from tensorflow import keras\n",
    "from tensorflow.keras import backend as K\n",
    "from tensorflow.keras.models import Sequential\n",
    "import numpy as np\n",
    "import pandas as pd\n",
    "import matplotlib as mpl\n",
    "import matplotlib.pyplot as plt\n",
    "import datetime\n",
    "\n",
    "from sklearn.linear_model import LogisticRegression\n",
    "from sklearn.ensemble import RandomForestClassifier\n",
    "from sklearn.model_selection import StratifiedKFold\n",
    "from sklearn.model_selection import cross_val_score\n",
    "from sklearn.metrics import accuracy_score\n",
    "from sklearn.model_selection import train_test_split \n",
    "\n",
    "import warnings\n",
    "warnings.filterwarnings('ignore')"
   ]
  },
  {
   "cell_type": "code",
   "execution_count": 2,
   "metadata": {},
   "outputs": [
    {
     "data": {
      "text/plain": [
       "((33600, 784), (33600,), (8400, 784), (8400,))"
      ]
     },
     "execution_count": 2,
     "metadata": {},
     "output_type": "execute_result"
    }
   ],
   "source": [
    "# Read file\n",
    "df_train = pd.read_csv(\"/kaggle/input/digit-recognizer/train.csv\")\n",
    "df_test = pd.read_csv(\"/kaggle/input/digit-recognizer/test.csv\")\n",
    "\n",
    "X_train = df_train.iloc[:,1:]\n",
    "y_train = df_train.iloc[:,0]\n",
    "\n",
    "X_train, X_val, y_train, y_val = train_test_split(X_train, y_train,\n",
    "                                                    stratify = y_train,\n",
    "                                                    test_size=0.2, random_state = 41)\n",
    "\n",
    "X_train.shape, y_train.shape, X_val.shape, y_val.shape"
   ]
  },
  {
   "cell_type": "code",
   "execution_count": 3,
   "metadata": {
    "_cell_guid": "79c7e3d0-c299-4dcb-8224-4455121ee9b0",
    "_uuid": "d629ff2d2480ee46fbb7e2d37f6b5fab8052498a"
   },
   "outputs": [
    {
     "data": {
      "text/plain": [
       "((33600, 28, 28, 1),\n",
       " (33600, 10),\n",
       " (8400, 28, 28, 1),\n",
       " (8400, 10),\n",
       " (28000, 28, 28, 1))"
      ]
     },
     "execution_count": 3,
     "metadata": {},
     "output_type": "execute_result"
    }
   ],
   "source": [
    "# Prepare dataset for CNN\n",
    "\n",
    "# Get data from previous model\n",
    "arr_X_train = X_train.to_numpy()\n",
    "arr_X_val = X_val.to_numpy()\n",
    "arr_y_train = y_train.to_numpy()\n",
    "arr_y_val = y_val.to_numpy()\n",
    "\n",
    "# Get data from csv file and normalize it\n",
    "arr_X_test = df_test.to_numpy()\n",
    "\n",
    "# Normalize data\n",
    "arr_X_train = arr_X_train / 255\n",
    "arr_X_val = arr_X_val / 255\n",
    "arr_X_test = arr_X_test / 255\n",
    "\n",
    "# input image dimensions\n",
    "img_rows, img_cols = 28, 28\n",
    "num_classes = 10\n",
    "\n",
    "# Reshape the array to (28,28,1)\n",
    "X_train = arr_X_train.reshape(arr_X_train.shape[0], img_rows, img_cols, 1)\n",
    "X_val = arr_X_val.reshape(arr_X_val.shape[0], img_rows, img_cols, 1)\n",
    "X_test = arr_X_test.reshape(arr_X_test.shape[0], img_rows, img_cols, 1)\n",
    "input_shape = (img_rows, img_cols, 1)\n",
    "\n",
    "# convert class vectors to binary class matrices\n",
    "y_train = keras.utils.to_categorical(y_train, num_classes)\n",
    "y_val = keras.utils.to_categorical(y_val, num_classes)\n",
    "\n",
    "X_train.shape, y_train.shape, X_val.shape, y_val.shape, X_test.shape"
   ]
  },
  {
   "cell_type": "code",
   "execution_count": 4,
   "metadata": {},
   "outputs": [],
   "source": [
    "# Define CNN architecture\n",
    "\n",
    "# This is my previous CNN architecture\n",
    "# The model is constructed by several layers\n",
    "# I use relu activation and he initializer to get faster converge time\n",
    "# The first layer is convolutional layer with 16 filter, 3x3 kernel size, 1 stride\n",
    "# The second layer is the same with the first layer. They are supposed to capture feature maps from digit image.\n",
    "# The third layer is pooling with maximum aggregation. It is used to reduce the size of feature maps.\n",
    "# The fourth layer is convolutional layer for the result from maximum pooling.\n",
    "# The next layer is dense neural network with 256 units, before feeding this layer with data I need to flatten first the data\n",
    "# The last layer / output layer is dense neural network with 10 units (the same with number of class)\n",
    "\n",
    "cnn_model = keras.models.Sequential([\n",
    "    keras.layers.Conv2D(16, kernel_size=(3, 3), activation='relu', input_shape=input_shape, kernel_initializer= 'he_normal'),\n",
    "    keras.layers.Conv2D(16, kernel_size=(3, 3), activation='relu', kernel_initializer= 'he_normal'),\n",
    "    keras.layers.MaxPooling2D(pool_size=(3, 3)),\n",
    "    keras.layers.Conv2D(16, kernel_size=(3, 3), activation='relu', kernel_initializer= 'he_normal'),\n",
    "    keras.layers.Flatten(),\n",
    "    keras.layers.Dense(256, activation='relu', kernel_initializer= 'he_normal'),\n",
    "    keras.layers.Dense(num_classes, activation='softmax')\n",
    "])\n",
    "\n",
    "# Compile the model\n",
    "cnn_model.compile(optimizer= 'adam',\n",
    "                  loss=keras.losses.categorical_crossentropy,\n",
    "                  metrics= ['accuracy']\n",
    "                 )"
   ]
  },
  {
   "cell_type": "code",
   "execution_count": 5,
   "metadata": {},
   "outputs": [
    {
     "name": "stdout",
     "output_type": "stream",
     "text": [
      "Train on 33600 samples\n",
      "Epoch 1/3\n",
      "33600/33600 [==============================] - 8s 234us/sample - loss: 0.1676 - accuracy: 0.9477\n",
      "Epoch 2/3\n",
      "33600/33600 [==============================] - 4s 110us/sample - loss: 0.0507 - accuracy: 0.9842\n",
      "Epoch 3/3\n",
      "33600/33600 [==============================] - 4s 112us/sample - loss: 0.0342 - accuracy: 0.9886\n"
     ]
    },
    {
     "data": {
      "text/plain": [
       "<tensorflow.python.keras.callbacks.History at 0x7f6aa9e31b00>"
      ]
     },
     "execution_count": 5,
     "metadata": {},
     "output_type": "execute_result"
    }
   ],
   "source": [
    "# Train the model\n",
    "cnn_model.fit(X_train, y_train, epochs=3)"
   ]
  },
  {
   "cell_type": "code",
   "execution_count": 6,
   "metadata": {},
   "outputs": [
    {
     "name": "stdout",
     "output_type": "stream",
     "text": [
      "CNN Accuracy on Validation: 0.98416668176651\n"
     ]
    }
   ],
   "source": [
    "## Evaluate model in validation dataset\n",
    "test_loss, test_accuracy = cnn_model.evaluate(X_val, y_val, verbose= 0)\n",
    "print(\"CNN Accuracy on Validation: {}\".format(test_accuracy))"
   ]
  },
  {
   "cell_type": "code",
   "execution_count": 7,
   "metadata": {},
   "outputs": [],
   "source": [
    "# Function to train and evaluate\n",
    "def train_and_validate(model, epochs):\n",
    "    model.fit(X_train, y_train, epochs=epochs)\n",
    "    test_loss, test_accuracy = model.evaluate(X_val, y_val, verbose= 0)\n",
    "    print(\"CNN Accuracy on Validation: {}\".format(test_accuracy))"
   ]
  },
  {
   "cell_type": "code",
   "execution_count": 8,
   "metadata": {},
   "outputs": [],
   "source": [
    "# Challenger architecture\n",
    "\n",
    "cnn2_model = keras.models.Sequential([\n",
    "    keras.layers.Conv2D(64, 7, input_shape=input_shape, activation='relu',  padding='same', kernel_initializer= 'he_normal'),\n",
    "    keras.layers.MaxPooling2D(2),\n",
    "    keras.layers.Conv2D(128, 3, activation='relu',  padding='same', kernel_initializer= 'he_normal'),\n",
    "    keras.layers.Conv2D(128, 3, activation='relu',  padding='same', kernel_initializer= 'he_normal'),\n",
    "    keras.layers.MaxPooling2D(2),\n",
    "    keras.layers.Conv2D(256, 3, activation='relu',  padding='same', kernel_initializer= 'he_normal'),\n",
    "    keras.layers.Conv2D(256, 3, activation='relu',  padding='same', kernel_initializer= 'he_normal'),\n",
    "    keras.layers.MaxPooling2D(2),    \n",
    "    keras.layers.Flatten(),\n",
    "    keras.layers.Dense(128, activation='relu', kernel_initializer= 'he_normal'),\n",
    "    keras.layers.Dropout(0.5),\n",
    "    keras.layers.Dense(64, activation='relu', kernel_initializer= 'he_normal'),\n",
    "    keras.layers.Dropout(0.5),\n",
    "    keras.layers.Dense(num_classes, activation='softmax')\n",
    "])\n",
    "\n",
    "# Compile the model\n",
    "cnn2_model.compile(optimizer= 'adam',\n",
    "                  loss=keras.losses.categorical_crossentropy,\n",
    "                  metrics= ['accuracy']\n",
    "                 )"
   ]
  },
  {
   "cell_type": "code",
   "execution_count": 9,
   "metadata": {},
   "outputs": [
    {
     "name": "stdout",
     "output_type": "stream",
     "text": [
      "Train on 33600 samples\n",
      "Epoch 1/12\n",
      "33600/33600 [==============================] - 7s 208us/sample - loss: 1.0255 - accuracy: 0.6437\n",
      "Epoch 2/12\n",
      "33600/33600 [==============================] - 6s 187us/sample - loss: 0.3550 - accuracy: 0.8919\n",
      "Epoch 3/12\n",
      "33600/33600 [==============================] - 6s 186us/sample - loss: 0.2105 - accuracy: 0.9431\n",
      "Epoch 4/12\n",
      "33600/33600 [==============================] - 7s 207us/sample - loss: 0.1467 - accuracy: 0.9622\n",
      "Epoch 5/12\n",
      "33600/33600 [==============================] - 7s 194us/sample - loss: 0.1220 - accuracy: 0.9695\n",
      "Epoch 6/12\n",
      "33600/33600 [==============================] - 6s 184us/sample - loss: 0.0967 - accuracy: 0.9776\n",
      "Epoch 7/12\n",
      "33600/33600 [==============================] - 6s 188us/sample - loss: 0.0791 - accuracy: 0.9806\n",
      "Epoch 8/12\n",
      "33600/33600 [==============================] - 6s 184us/sample - loss: 0.0684 - accuracy: 0.9843\n",
      "Epoch 9/12\n",
      "33600/33600 [==============================] - 6s 188us/sample - loss: 0.0529 - accuracy: 0.9871\n",
      "Epoch 10/12\n",
      "33600/33600 [==============================] - 6s 189us/sample - loss: 0.0600 - accuracy: 0.9857\n",
      "Epoch 11/12\n",
      "33600/33600 [==============================] - 6s 185us/sample - loss: 0.0562 - accuracy: 0.9871\n",
      "Epoch 12/12\n",
      "33600/33600 [==============================] - 6s 187us/sample - loss: 0.0432 - accuracy: 0.9894\n",
      "CNN Accuracy on Validation: 0.9888095259666443\n"
     ]
    }
   ],
   "source": [
    "# Train and evaluate \n",
    "train_and_validate(cnn2_model, 12)"
   ]
  },
  {
   "cell_type": "code",
   "execution_count": 10,
   "metadata": {},
   "outputs": [],
   "source": [
    "# Prediction for submission\n",
    "arr_y_pred = cnn2_model.predict(X_test)\n",
    "\n",
    "# Create list of prediction\n",
    "y_pred = []\n",
    "for i in range(len(arr_y_pred)):\n",
    "    y_pred.append(np.argmax(arr_y_pred[i]))\n",
    "\n",
    "# Create file submisssion from CNN\n",
    "submission_cnn = pd.read_csv(\"/kaggle/input/digit-recognizer/sample_submission.csv\")\n",
    "submission_cnn.iloc[:,1] = (y_pred)\n",
    "submission_cnn.to_csv(\"submission_cnn2.csv\", index=False)"
   ]
  }
 ],
 "metadata": {
  "kernelspec": {
   "display_name": "Python 3",
   "language": "python",
   "name": "python3"
  },
  "language_info": {
   "codemirror_mode": {
    "name": "ipython",
    "version": 3
   },
   "file_extension": ".py",
   "mimetype": "text/x-python",
   "name": "python",
   "nbconvert_exporter": "python",
   "pygments_lexer": "ipython3",
   "version": "3.6.6"
  }
 },
 "nbformat": 4,
 "nbformat_minor": 4
}
