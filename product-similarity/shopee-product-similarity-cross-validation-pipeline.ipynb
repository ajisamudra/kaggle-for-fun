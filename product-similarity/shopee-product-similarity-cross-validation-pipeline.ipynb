{
 "cells": [
  {
   "cell_type": "code",
   "execution_count": 1,
   "metadata": {
    "execution": {
     "iopub.execute_input": "2020-11-27T14:56:15.485922Z",
     "iopub.status.busy": "2020-11-27T14:56:15.484994Z",
     "iopub.status.idle": "2020-11-27T14:56:29.389015Z",
     "shell.execute_reply": "2020-11-27T14:56:29.387804Z"
    },
    "papermill": {
     "duration": 13.925367,
     "end_time": "2020-11-27T14:56:29.389227",
     "exception": false,
     "start_time": "2020-11-27T14:56:15.463860",
     "status": "completed"
    },
    "tags": []
   },
   "outputs": [
    {
     "name": "stdout",
     "output_type": "stream",
     "text": [
      "Collecting wandb\r\n",
      "  Downloading wandb-0.10.11-py2.py3-none-any.whl (1.8 MB)\r\n",
      "\u001b[K     |████████████████████████████████| 1.8 MB 3.0 MB/s \r\n",
      "\u001b[?25hRequirement already satisfied, skipping upgrade: requests<3,>=2.0.0 in /opt/conda/lib/python3.7/site-packages (from wandb) (2.23.0)\r\n",
      "Requirement already satisfied, skipping upgrade: watchdog>=0.8.3 in /opt/conda/lib/python3.7/site-packages (from wandb) (0.10.2)\r\n",
      "Requirement already satisfied, skipping upgrade: configparser>=3.8.1 in /opt/conda/lib/python3.7/site-packages (from wandb) (5.0.0)\r\n",
      "Requirement already satisfied, skipping upgrade: sentry-sdk>=0.4.0 in /opt/conda/lib/python3.7/site-packages (from wandb) (0.16.2)\r\n",
      "Requirement already satisfied, skipping upgrade: protobuf>=3.12.0 in /opt/conda/lib/python3.7/site-packages (from wandb) (3.12.2)\r\n",
      "Requirement already satisfied, skipping upgrade: PyYAML in /opt/conda/lib/python3.7/site-packages (from wandb) (5.3.1)\r\n",
      "Requirement already satisfied, skipping upgrade: docker-pycreds>=0.4.0 in /opt/conda/lib/python3.7/site-packages (from wandb) (0.4.0)\r\n",
      "Requirement already satisfied, skipping upgrade: shortuuid>=0.5.0 in /opt/conda/lib/python3.7/site-packages (from wandb) (1.0.1)\r\n",
      "Requirement already satisfied, skipping upgrade: promise<3,>=2.0 in /opt/conda/lib/python3.7/site-packages (from wandb) (2.3)\r\n",
      "Requirement already satisfied, skipping upgrade: GitPython>=1.0.0 in /opt/conda/lib/python3.7/site-packages (from wandb) (3.1.1)\r\n",
      "Requirement already satisfied, skipping upgrade: Click>=7.0 in /opt/conda/lib/python3.7/site-packages (from wandb) (7.1.1)\r\n",
      "Requirement already satisfied, skipping upgrade: six>=1.13.0 in /opt/conda/lib/python3.7/site-packages (from wandb) (1.14.0)\r\n",
      "Requirement already satisfied, skipping upgrade: python-dateutil>=2.6.1 in /opt/conda/lib/python3.7/site-packages (from wandb) (2.8.1)\r\n",
      "Requirement already satisfied, skipping upgrade: subprocess32>=3.5.3 in /opt/conda/lib/python3.7/site-packages (from wandb) (3.5.4)\r\n",
      "Requirement already satisfied, skipping upgrade: psutil>=5.0.0 in /opt/conda/lib/python3.7/site-packages (from wandb) (5.7.0)\r\n",
      "Requirement already satisfied, skipping upgrade: urllib3!=1.25.0,!=1.25.1,<1.26,>=1.21.1 in /opt/conda/lib/python3.7/site-packages (from requests<3,>=2.0.0->wandb) (1.24.3)\r\n",
      "Requirement already satisfied, skipping upgrade: chardet<4,>=3.0.2 in /opt/conda/lib/python3.7/site-packages (from requests<3,>=2.0.0->wandb) (3.0.4)\r\n",
      "Requirement already satisfied, skipping upgrade: idna<3,>=2.5 in /opt/conda/lib/python3.7/site-packages (from requests<3,>=2.0.0->wandb) (2.9)\r\n",
      "Requirement already satisfied, skipping upgrade: certifi>=2017.4.17 in /opt/conda/lib/python3.7/site-packages (from requests<3,>=2.0.0->wandb) (2020.6.20)\r\n",
      "Requirement already satisfied, skipping upgrade: pathtools>=0.1.1 in /opt/conda/lib/python3.7/site-packages (from watchdog>=0.8.3->wandb) (0.1.2)\r\n",
      "Requirement already satisfied, skipping upgrade: setuptools in /opt/conda/lib/python3.7/site-packages (from protobuf>=3.12.0->wandb) (46.1.3.post20200325)\r\n",
      "Requirement already satisfied, skipping upgrade: gitdb<5,>=4.0.1 in /opt/conda/lib/python3.7/site-packages (from GitPython>=1.0.0->wandb) (4.0.4)\r\n",
      "Requirement already satisfied, skipping upgrade: smmap<4,>=3.0.1 in /opt/conda/lib/python3.7/site-packages (from gitdb<5,>=4.0.1->GitPython>=1.0.0->wandb) (3.0.2)\r\n",
      "Installing collected packages: wandb\r\n",
      "  Attempting uninstall: wandb\r\n",
      "    Found existing installation: wandb 0.9.4\r\n",
      "    Uninstalling wandb-0.9.4:\r\n",
      "      Successfully uninstalled wandb-0.9.4\r\n",
      "Successfully installed wandb-0.10.11\r\n",
      "\u001b[33mWARNING: You are using pip version 20.1.1; however, version 20.2.4 is available.\r\n",
      "You should consider upgrading via the '/opt/conda/bin/python3.7 -m pip install --upgrade pip' command.\u001b[0m\r\n"
     ]
    }
   ],
   "source": [
    "!pip install --upgrade wandb\n",
    "# !pip install git+https://github.com/qubvel/efficientnet"
   ]
  },
  {
   "cell_type": "code",
   "execution_count": 2,
   "metadata": {
    "execution": {
     "iopub.execute_input": "2020-11-27T14:56:29.447010Z",
     "iopub.status.busy": "2020-11-27T14:56:29.445725Z",
     "iopub.status.idle": "2020-11-27T14:56:32.057861Z",
     "shell.execute_reply": "2020-11-27T14:56:32.057069Z"
    },
    "papermill": {
     "duration": 2.641635,
     "end_time": "2020-11-27T14:56:32.057986",
     "exception": false,
     "start_time": "2020-11-27T14:56:29.416351",
     "status": "completed"
    },
    "tags": []
   },
   "outputs": [
    {
     "name": "stdout",
     "output_type": "stream",
     "text": [
      "\u001b[34m\u001b[1mwandb\u001b[0m: Appending key for api.wandb.ai to your netrc file: /root/.netrc\r\n"
     ]
    }
   ],
   "source": [
    "!wandb login "
   ]
  },
  {
   "cell_type": "code",
   "execution_count": 3,
   "metadata": {
    "_cell_guid": "b1076dfc-b9ad-4769-8c92-a6c4dae69d19",
    "_uuid": "8f2839f25d086af736a60e9eeb907d3b93b6e0e5",
    "execution": {
     "iopub.execute_input": "2020-11-27T14:56:32.114404Z",
     "iopub.status.busy": "2020-11-27T14:56:32.113630Z",
     "iopub.status.idle": "2020-11-27T14:56:39.278043Z",
     "shell.execute_reply": "2020-11-27T14:56:39.277271Z"
    },
    "papermill": {
     "duration": 7.1992,
     "end_time": "2020-11-27T14:56:39.278208",
     "exception": false,
     "start_time": "2020-11-27T14:56:32.079008",
     "status": "completed"
    },
    "tags": []
   },
   "outputs": [],
   "source": [
    "import numpy as np # linear algebra\n",
    "import pandas as pd # data processing, CSV file I/O (e.g. pd.read_csv)\n",
    "import cv2\n",
    "import os\n",
    "import matplotlib.pyplot as plt\n",
    "import tensorflow as tf\n",
    "from tensorflow import keras\n",
    "\n",
    "# Model Evaluation\n",
    "from sklearn.model_selection import train_test_split\n",
    "from sklearn.model_selection import StratifiedKFold\n",
    "from sklearn.metrics import f1_score, roc_auc_score, accuracy_score\n",
    "\n",
    "# Image Data Generator\n",
    "from keras.preprocessing.image import ImageDataGenerator\n",
    "\n",
    "# Kaggle dataset\n",
    "from kaggle_datasets import KaggleDatasets\n",
    "\n",
    "# Pre-trained\n",
    "from tensorflow.keras.applications import DenseNet201, Xception\n",
    "\n",
    "# Keras components\n",
    "from keras.models import Model, Sequential\n",
    "from keras.layers.core import Lambda, Flatten, Dense\n",
    "from keras.layers import Input, Reshape, Concatenate, Conv2D, MaxPooling2D\n",
    "from keras.layers import BatchNormalization, Dropout, GlobalMaxPooling2D, GlobalAvgPool2D\n",
    "from keras.layers import Subtract, Multiply\n",
    "from keras.optimizers import Adam\n",
    "from keras.models import load_model\n",
    "from keras.utils import to_categorical\n",
    "\n",
    "# For tf.dataset\n",
    "AUTO = tf.data.experimental.AUTOTUNE\n",
    "\n",
    "# Experiment tracking using Weights and Biases\n",
    "import wandb\n",
    "from wandb.keras import WandbCallback\n",
    "\n",
    "# for error\n",
    "# https://stackoverflow.com/questions/12984426/python-pil-ioerror-image-file-truncated-with-big-images\n",
    "from PIL import ImageFile\n",
    "ImageFile.LOAD_TRUNCATED_IMAGES = True"
   ]
  },
  {
   "cell_type": "code",
   "execution_count": 4,
   "metadata": {
    "execution": {
     "iopub.execute_input": "2020-11-27T14:56:39.416973Z",
     "iopub.status.busy": "2020-11-27T14:56:39.331558Z",
     "iopub.status.idle": "2020-11-27T14:56:43.442074Z",
     "shell.execute_reply": "2020-11-27T14:56:43.441330Z"
    },
    "papermill": {
     "duration": 4.141906,
     "end_time": "2020-11-27T14:56:43.442218",
     "exception": false,
     "start_time": "2020-11-27T14:56:39.300312",
     "status": "completed"
    },
    "tags": []
   },
   "outputs": [
    {
     "name": "stdout",
     "output_type": "stream",
     "text": [
      "Running on TPU  grpc://10.0.0.2:8470\n",
      "REPLICAS:  8\n",
      "64\n"
     ]
    }
   ],
   "source": [
    "# TPU setting\n",
    "try:\n",
    "    # TPU detection. No parameters necessary if TPU_NAME environment variable is\n",
    "    # set: this is always the case on Kaggle.\n",
    "    tpu = tf.distribute.cluster_resolver.TPUClusterResolver()\n",
    "    print('Running on TPU ', tpu.master())\n",
    "except ValueError:\n",
    "    tpu = None\n",
    "\n",
    "if tpu:\n",
    "    tf.config.experimental_connect_to_cluster(tpu)\n",
    "    tf.tpu.experimental.initialize_tpu_system(tpu)\n",
    "    strategy = tf.distribute.experimental.TPUStrategy(tpu)\n",
    "else:\n",
    "    # Default distribution strategy in Tensorflow. Works on CPU and single GPU.\n",
    "    strategy = tf.distribute.get_strategy()\n",
    "\n",
    "print(\"REPLICAS: \", strategy.num_replicas_in_sync)\n",
    "\n",
    "# Configuration\n",
    "BATCH_SIZE = 8 * strategy.num_replicas_in_sync\n",
    "print(BATCH_SIZE)"
   ]
  },
  {
   "cell_type": "code",
   "execution_count": 5,
   "metadata": {
    "execution": {
     "iopub.execute_input": "2020-11-27T14:56:43.508476Z",
     "iopub.status.busy": "2020-11-27T14:56:43.497592Z",
     "iopub.status.idle": "2020-11-27T14:56:43.859510Z",
     "shell.execute_reply": "2020-11-27T14:56:43.858659Z"
    },
    "papermill": {
     "duration": 0.395302,
     "end_time": "2020-11-27T14:56:43.859647",
     "exception": false,
     "start_time": "2020-11-27T14:56:43.464345",
     "status": "completed"
    },
    "tags": []
   },
   "outputs": [],
   "source": [
    "# Get Images path and labels\n",
    "\n",
    "# Data access\n",
    "GCS_DS_PATH = KaggleDatasets().get_gcs_path(\"pre-product-matching-id-ndsc-2020\")\n",
    "\n",
    "def get_images_path_and_labels(df, path, get_label=True):\n",
    "    image1_paths = []\n",
    "    image2_paths = []\n",
    "    labels = []\n",
    "\n",
    "    image1_paths = df.image_1.apply(lambda x: '{}/{}/{}/{}'.format(GCS_DS_PATH, path, path, x)).tolist()\n",
    "    image2_paths = df.image_2.apply(lambda x: '{}/{}/{}/{}'.format(GCS_DS_PATH, path, path, x)).tolist()\n",
    "    \n",
    "    if get_label:\n",
    "        labels = df.Label.tolist()\n",
    "        return image1_paths, image2_paths, labels\n",
    "    else:\n",
    "        return image1_paths, image2_paths, [0] * len(image1_paths)"
   ]
  },
  {
   "cell_type": "code",
   "execution_count": 6,
   "metadata": {
    "execution": {
     "iopub.execute_input": "2020-11-27T14:56:43.921963Z",
     "iopub.status.busy": "2020-11-27T14:56:43.921197Z",
     "iopub.status.idle": "2020-11-27T14:56:43.924661Z",
     "shell.execute_reply": "2020-11-27T14:56:43.923926Z"
    },
    "papermill": {
     "duration": 0.042514,
     "end_time": "2020-11-27T14:56:43.924785",
     "exception": false,
     "start_time": "2020-11-27T14:56:43.882271",
     "status": "completed"
    },
    "tags": []
   },
   "outputs": [],
   "source": [
    "from keras import backend as K\n",
    "\n",
    "def cosine_distance(vests):\n",
    "    x, y = vests\n",
    "    x = K.l2_normalize(x, axis=-1)\n",
    "    y = K.l2_normalize(y, axis=-1)\n",
    "    return -K.mean(x * y, axis=-1, keepdims=True)\n",
    "\n",
    "def cos_dist_output_shape(shapes):\n",
    "    shape1, shape2 = shapes\n",
    "    return (shape1[0],1)\n",
    "\n",
    "def recall_m(y_true, y_pred):\n",
    "    true_positives = K.sum(K.round(K.clip(y_true * y_pred, 0, 1)))\n",
    "    possible_positives = K.sum(K.round(K.clip(y_true, 0, 1)))\n",
    "    recall = true_positives / (possible_positives + K.epsilon())\n",
    "    return recall\n",
    "\n",
    "def precision_m(y_true, y_pred):\n",
    "    true_positives = K.sum(K.round(K.clip(y_true * y_pred, 0, 1)))\n",
    "    predicted_positives = K.sum(K.round(K.clip(y_pred, 0, 1)))\n",
    "    precision = true_positives / (predicted_positives + K.epsilon())\n",
    "    return precision\n",
    "\n",
    "def f1_m(y_true, y_pred):\n",
    "    precision = precision_m(y_true, y_pred)\n",
    "    recall = recall_m(y_true, y_pred)\n",
    "    return 2*((precision*recall)/(precision+recall+K.epsilon()))"
   ]
  },
  {
   "cell_type": "markdown",
   "metadata": {
    "papermill": {
     "duration": 0.022682,
     "end_time": "2020-11-27T14:56:43.971633",
     "exception": false,
     "start_time": "2020-11-27T14:56:43.948951",
     "status": "completed"
    },
    "tags": []
   },
   "source": [
    "### Cross-Validation Pipeline"
   ]
  },
  {
   "cell_type": "code",
   "execution_count": 7,
   "metadata": {
    "execution": {
     "iopub.execute_input": "2020-11-27T14:56:44.047647Z",
     "iopub.status.busy": "2020-11-27T14:56:44.025837Z",
     "iopub.status.idle": "2020-11-27T14:56:44.275697Z",
     "shell.execute_reply": "2020-11-27T14:56:44.276281Z"
    },
    "papermill": {
     "duration": 0.282237,
     "end_time": "2020-11-27T14:56:44.276432",
     "exception": false,
     "start_time": "2020-11-27T14:56:43.994195",
     "status": "completed"
    },
    "tags": []
   },
   "outputs": [
    {
     "data": {
      "image/png": "[encoded data removed]",
      "text/plain": [
       "<Figure size 432x288 with 1 Axes>"
      ]
     },
     "metadata": {
      "needs_background": "light"
     },
     "output_type": "display_data"
    },
    {
     "name": "stdout",
     "output_type": "stream",
     "text": [
      "[1e-05, 0.000175, 0.00034, 0.000505, 0.00067, 0.000835, 0.001, 0.0006500000000000001, 0.0004225, 0.000274625, 0.00017850625000000005, 0.00011602906250000002, 7.541889062500001e-05, 4.9022278906250016e-05, 3.186448128906251e-05, 2.0711912837890633e-05]\n"
     ]
    }
   ],
   "source": [
    "# Model Parameter\n",
    "# Configuration\n",
    "BATCH_SIZE = 10 * strategy.num_replicas_in_sync\n",
    "IMAGE_CHANNELS = 3\n",
    "DIM = 299\n",
    "IMAGE_SIZE = (DIM, DIM)\n",
    "EMBEDDING_SIZE = 128\n",
    "COEF_SMOOTHING = 0.1\n",
    "COEF_DROPOUT = 0.01\n",
    "NUM_FOLDS = 4\n",
    "\n",
    "\n",
    "# CUSTOM LEARNING SCHEUDLE\n",
    "# # Xception\n",
    "# EPOCH = 12\n",
    "# SUSTAIN_EPOCHS = 1\n",
    "# LR_START = 1e-5\n",
    "# LR_MAX = 3e-4\n",
    "# LR_RAMPUP_EPOCHS = 3\n",
    "# LR_SUSTAIN_EPOCHS = 0\n",
    "# LR_STEP_DECAY = 0.7\n",
    "\n",
    "# DenseNet201\n",
    "EPOCH = 15\n",
    "SUSTAIN_EPOCHS = 1\n",
    "LR_START = 1e-5\n",
    "LR_MAX = 1e-3\n",
    "LR_RAMPUP_EPOCHS = 6\n",
    "LR_SUSTAIN_EPOCHS = 0\n",
    "LR_STEP_DECAY = 0.65\n",
    "\n",
    "# Define model and Scheduler Learning Rate\n",
    "def get_model():\n",
    "    with strategy.scope():\n",
    "        input_shape = (2, DIM, DIM, IMAGE_CHANNELS)\n",
    "        first_input = Input(input_shape)\n",
    "\n",
    "        # slice the tensor of 2 images\n",
    "        input_1 = Lambda( lambda x: tf.reshape(tf.slice( x, [0,0,0,0,0], [-1, 1, DIM, DIM, IMAGE_CHANNELS]), shape=(-1, DIM, DIM, IMAGE_CHANNELS)) )(first_input)\n",
    "        input_2 = Lambda( lambda x: tf.reshape(tf.slice( x, [0,1,0,0,0], [-1, 1, DIM, DIM, IMAGE_CHANNELS]), shape=(-1, DIM, DIM, IMAGE_CHANNELS)) )(first_input)\n",
    "\n",
    "        base_model = DenseNet201(weights='imagenet', include_top=False, input_shape=(DIM, DIM, IMAGE_CHANNELS))\n",
    "\n",
    "        x1 = base_model(input_1)\n",
    "        x2 = base_model(input_2)\n",
    "\n",
    "        x1 = Concatenate(axis=-1)([GlobalMaxPooling2D()(x1), GlobalAvgPool2D()(x1)]) # concatenating max pool and avg pool\n",
    "        x2 = Concatenate(axis=-1)([GlobalMaxPooling2D()(x2), GlobalAvgPool2D()(x2)])\n",
    "        x3 = Lambda(cosine_distance, output_shape=cos_dist_output_shape)([x1, x2]) # calculate cosine distance between input1 and input2\n",
    "        x = Concatenate(axis=-1)([x1, x2, x3])\n",
    "        x = Dense(EMBEDDING_SIZE, activation='relu')(x)\n",
    "        x = Dropout(COEF_DROPOUT)(x)\n",
    "        \n",
    "        out = Dense(1, activation='sigmoid')(x)\n",
    "\n",
    "        model = Model(first_input, out)\n",
    "        model.compile(loss= tf.keras.losses.BinaryCrossentropy(label_smoothing = COEF_SMOOTHING), \n",
    "                      metrics=['acc', f1_m], optimizer= Adam(learning_rate = LR_START))\n",
    "    return model\n",
    "\n",
    "def learning_rate_function(epoch):\n",
    "    if epoch < LR_RAMPUP_EPOCHS:\n",
    "        lr = (LR_MAX - LR_START) / LR_RAMPUP_EPOCHS * epoch + LR_START\n",
    "    elif epoch < LR_RAMPUP_EPOCHS + LR_SUSTAIN_EPOCHS:\n",
    "        lr = LR_MAX\n",
    "    else:\n",
    "        lr = LR_MAX * LR_STEP_DECAY**((epoch - LR_RAMPUP_EPOCHS - LR_SUSTAIN_EPOCHS)//SUSTAIN_EPOCHS)\n",
    "    return lr\n",
    "    \n",
    "learning_rate_scheduler = tf.keras.callbacks.LearningRateScheduler(learning_rate_function, verbose = True)\n",
    "\n",
    "# Plotting learning rate curve\n",
    "rng = [i for i in range(EPOCH+1)]\n",
    "y = [learning_rate_function(x) for x in rng]\n",
    "plt.plot(rng, y); \n",
    "plt.xlabel('epoch',size=14); plt.ylabel('learning rate',size=14)\n",
    "plt.title('Training Schedule',size=16); plt.show()\n",
    "print(y)"
   ]
  },
  {
   "cell_type": "code",
   "execution_count": 8,
   "metadata": {
    "execution": {
     "iopub.execute_input": "2020-11-27T14:56:44.371099Z",
     "iopub.status.busy": "2020-11-27T14:56:44.349796Z",
     "iopub.status.idle": "2020-11-27T14:56:44.374663Z",
     "shell.execute_reply": "2020-11-27T14:56:44.373900Z"
    },
    "papermill": {
     "duration": 0.073854,
     "end_time": "2020-11-27T14:56:44.374787",
     "exception": false,
     "start_time": "2020-11-27T14:56:44.300933",
     "status": "completed"
    },
    "tags": []
   },
   "outputs": [],
   "source": [
    "# Preprocess Image\n",
    "\n",
    "# Data Generator using GPU\n",
    "def decode_image(filename1, filename2, label=None, image_size=(DIM, DIM)):\n",
    "    bits1 = tf.io.read_file(filename1)\n",
    "    image1 = tf.image.decode_jpeg(bits1, channels=3, try_recover_truncated=True)\n",
    "    image1 = tf.cast(image1, tf.float32) / 255.0\n",
    "    image1 = tf.image.resize(image1, image_size)\n",
    "\n",
    "    bits2 = tf.io.read_file(filename2)\n",
    "    image2 = tf.image.decode_jpeg(bits2, channels=3, try_recover_truncated=True)\n",
    "    image2 = tf.cast(image2, tf.float32) / 255.0\n",
    "    image2 = tf.image.resize(image2, image_size)\n",
    "        \n",
    "    if label is None:\n",
    "        return [image1, image2]\n",
    "    else:\n",
    "        return [image1, image2], label\n",
    "\n",
    "def get_training_dataset(df):\n",
    "    image1, image2, label = get_images_path_and_labels(df, 'training_img', get_label=True)\n",
    "    dataset = ( tf.data.Dataset.from_tensor_slices((image1, image2, label))\n",
    "                 .map(decode_image, num_parallel_calls=AUTO)\n",
    "                 .cache()\n",
    "                 .repeat()\n",
    "                 .shuffle(2048)\n",
    "                 .batch(BATCH_SIZE)\n",
    "                 .prefetch(AUTO)\n",
    "              )\n",
    "    return dataset\n",
    "\n",
    "def get_validation_dataset(df):\n",
    "    image1, image2, label = get_images_path_and_labels(df, 'training_img', get_label=True)\n",
    "    dataset = ( tf.data.Dataset.from_tensor_slices((image1, image2, label))\n",
    "                 .map(decode_image, num_parallel_calls=AUTO)\n",
    "                 .cache()\n",
    "                 .batch(BATCH_SIZE)\n",
    "                 .prefetch(AUTO)\n",
    "              )\n",
    "    return dataset\n",
    "\n",
    "# Cross validation pipeline\n",
    "\n",
    "def train_cross_validate(df, folds = 4):\n",
    "    histories = []\n",
    "    models = []\n",
    "    accuracies = []\n",
    "    f1_scores = []\n",
    "    roc_aucs = []\n",
    "    \n",
    "    # for optimizing the threshold\n",
    "    y_probas = []\n",
    "    y_vals = []\n",
    "        \n",
    "    X = df.iloc[:,:-1]\n",
    "    y = df.iloc[:,-1]\n",
    "    \n",
    "    skfold = StratifiedKFold(folds, shuffle=True, random_state=333)\n",
    "    i=0\n",
    "    for train_idx, val_idx in skfold.split(X, y): # split X and y\n",
    "        train = pd.concat([X.iloc[train_idx,:], y[train_idx]], axis=1)\n",
    "        validation = pd.concat([X.iloc[val_idx,:], y[val_idx]], axis=1)\n",
    "\n",
    "        print(\"Training shape \", train.shape)\n",
    "        print(\"Validation shape \", validation.shape)\n",
    "        \n",
    "        # apply label smoothing\n",
    "        # Perform label smoothing; change label 1 to 0.9, and label 0 to 0.1\n",
    "        train.iloc[:,-1] = train.iloc[:,-1].apply(lambda x: (1-COEF_SMOOTHING) if x == 1 else (COEF_SMOOTHING))\n",
    "        \n",
    "        # get samples in training data that have the same image and labelled 1 -> assign label to 1\n",
    "        # the idea is to make sure the model confident with these samples are similar\n",
    "        identic_img_idx = train.loc[(train.image_1 == train.image_2) & (train.Label == 0.9)].index\n",
    "        train.loc[identic_img_idx, 'Label'] = 1\n",
    "\n",
    "        # get samples in training data that have the same title and labelled 1 -> assign label to 1\n",
    "        identic_txt_idx = train.loc[(train.title_1 == train.title_2) & (train.Label == 0.9)].index\n",
    "        train.loc[identic_txt_idx, 'Label'] = 1\n",
    "        \n",
    "        print(\"Identic Image with Label 1 :\", len(identic_img_idx))\n",
    "        print(\"Identic Title with Label 1 :\", len(identic_txt_idx))\n",
    " \n",
    "        train_dataset = get_training_dataset(train)\n",
    "        validation_dataset = get_validation_dataset(validation)\n",
    "        \n",
    "        print(\"Train dataset\", train_dataset)\n",
    "        print(\"Validation dataset\", validation_dataset)\n",
    "        \n",
    "        # experiment tracking\n",
    "        run = wandb.init(project=\"shopee-product-matching\")\n",
    "        config = wandb.config\n",
    "        config.flag_result_cv = 0\n",
    "        config.batch_size = BATCH_SIZE\n",
    "        config.embedding_size = EMBEDDING_SIZE\n",
    "        config.base_model = \"DenseNet201\"\n",
    "        config.pooling = \"GlobalMax_n_GlobalAvg\"\n",
    "        config.loss = \"Binary_CrossEntropy_Loss\"\n",
    "        config.optimizer = \"Adam\"\n",
    "        config.learning_rate_start = LR_START\n",
    "        config.learning_rate_ramp_up_epoch = LR_RAMPUP_EPOCHS\n",
    "        config.learning_rate_max = LR_MAX\n",
    "        config.learning_rate_decay = LR_STEP_DECAY\n",
    "        config.epoch = EPOCH\n",
    "        config.label_smoothing = COEF_SMOOTHING\n",
    "        config.pipeline = \"tf dataset gpu\"\n",
    "        config.cv_iter = i\n",
    "        config.cv_folds = folds\n",
    "        config.dropout = COEF_DROPOUT\n",
    "        config.add_smoothing = \"identic image & text\"\n",
    "        \n",
    "        model = get_model()\n",
    "        history = model.fit(train_dataset, steps_per_epoch = len(train.Label) // BATCH_SIZE,\n",
    "                            validation_data = validation_dataset,\n",
    "                            callbacks = [learning_rate_scheduler, WandbCallback()],\n",
    "                            epochs = EPOCH\n",
    "                           )\n",
    "        \n",
    "        run.finish()\n",
    "        y_proba = model.predict(validation_dataset, verbose=1)\n",
    "        y_proba = np.nan_to_num(y_proba) # to mitigate nan or inf value\n",
    "        y_pred = np.where(y_proba >= 0.5,1,0)\n",
    "        \n",
    "        print(\"Size y_proba\", len(y_proba))\n",
    "        \n",
    "        # append\n",
    "        y_probas.append(y_proba)\n",
    "        y_vals.append(validation.Label)\n",
    "        \n",
    "        accuracies.append(accuracy_score(validation.Label, y_pred))\n",
    "        f1_scores.append(f1_score(validation.Label, y_pred))\n",
    "        roc_aucs.append(roc_auc_score(validation.Label, y_proba))        \n",
    "        \n",
    "        models.append(model)\n",
    "        histories.append(history)\n",
    "        i+=1\n",
    "        \n",
    "    return models, histories, accuracies, f1_scores, roc_aucs, y_probas, y_vals"
   ]
  },
  {
   "cell_type": "code",
   "execution_count": 9,
   "metadata": {
    "execution": {
     "iopub.execute_input": "2020-11-27T14:56:44.433533Z",
     "iopub.status.busy": "2020-11-27T14:56:44.432631Z",
     "iopub.status.idle": "2020-11-27T16:42:37.496566Z",
     "shell.execute_reply": "2020-11-27T16:42:37.495893Z"
    },
    "papermill": {
     "duration": 6353.097437,
     "end_time": "2020-11-27T16:42:37.496707",
     "exception": false,
     "start_time": "2020-11-27T14:56:44.399270",
     "status": "completed"
    },
    "tags": []
   },
   "outputs": [
    {
     "name": "stdout",
     "output_type": "stream",
     "text": [
      "Training shape  (7635, 5)\n",
      "Validation shape  (2546, 5)\n",
      "Identic Image with Label 1 : 504\n",
      "Identic Title with Label 1 : 352\n",
      "Train dataset <PrefetchDataset shapes: ((None, 2, 299, 299, 3), (None,)), types: (tf.float32, tf.float32)>\n",
      "Validation dataset <PrefetchDataset shapes: ((None, 2, 299, 299, 3), (None,)), types: (tf.float32, tf.int32)>\n"
     ]
    },
    {
     "name": "stderr",
     "output_type": "stream",
     "text": [
      "\u001b[34m\u001b[1mwandb\u001b[0m: Currently logged in as: \u001b[33majisamudra\u001b[0m (use `wandb login --relogin` to force relogin)\n"
     ]
    },
    {
     "data": {
      "text/html": [
       "\n",
       "                Tracking run with wandb version 0.10.11<br/>\n",
       "                Syncing run <strong style=\"color:#cdcd00\">twilight-oath-79</strong> to <a href=\"https://wandb.ai\" target=\"_blank\">Weights & Biases</a> <a href=\"https://docs.wandb.com/integrations/jupyter.html\" target=\"_blank\">(Documentation)</a>.<br/>\n",
       "                Project page: <a href=\"https://wandb.ai/ajisamudra/shopee-product-matching\" target=\"_blank\">https://wandb.ai/ajisamudra/shopee-product-matching</a><br/>\n",
       "                Run page: <a href=\"https://wandb.ai/ajisamudra/shopee-product-matching/runs/3gwborjf\" target=\"_blank\">https://wandb.ai/ajisamudra/shopee-product-matching/runs/3gwborjf</a><br/>\n",
       "                Run data is saved locally in <code>/kaggle/working/wandb/run-20201127_145645-3gwborjf</code><br/><br/>\n",
       "            "
      ],
      "text/plain": [
       "<IPython.core.display.HTML object>"
      ]
     },
     "metadata": {},
     "output_type": "display_data"
    },
    {
     "name": "stdout",
     "output_type": "stream",
     "text": [
      "Downloading data from https://storage.googleapis.com/tensorflow/keras-applications/densenet/densenet201_weights_tf_dim_ordering_tf_kernels_notop.h5\n",
      "74842112/74836368 [==============================] - 1s 0us/step\n",
      "\n",
      "Epoch 00001: LearningRateScheduler reducing learning rate to 1e-05.\n",
      "Epoch 1/15\n",
      "95/95 [==============================] - 454s 5s/step - loss: 0.8071 - acc: 0.0724 - f1_m: 0.5777 - val_loss: 0.7065 - val_acc: 0.6269 - val_f1_m: 0.6825 - lr: 1.0000e-05\n",
      "\n",
      "Epoch 00002: LearningRateScheduler reducing learning rate to 0.000175.\n",
      "Epoch 2/15\n",
      "95/95 [==============================] - 48s 502ms/step - loss: 0.6484 - acc: 0.0880 - f1_m: 0.6772 - val_loss: 0.5724 - val_acc: 0.7353 - val_f1_m: 0.7317 - lr: 1.7500e-04\n",
      "\n",
      "Epoch 00003: LearningRateScheduler reducing learning rate to 0.00034.\n",
      "Epoch 3/15\n",
      "95/95 [==============================] - 47s 491ms/step - loss: 0.5728 - acc: 0.0936 - f1_m: 0.7666 - val_loss: 0.5662 - val_acc: 0.7431 - val_f1_m: 0.7468 - lr: 3.4000e-04\n",
      "\n",
      "Epoch 00004: LearningRateScheduler reducing learning rate to 0.000505.\n",
      "Epoch 4/15\n",
      "95/95 [==============================] - 47s 491ms/step - loss: 0.5629 - acc: 0.0971 - f1_m: 0.7937 - val_loss: 0.5653 - val_acc: 0.7435 - val_f1_m: 0.7548 - lr: 5.0500e-04\n",
      "\n",
      "Epoch 00005: LearningRateScheduler reducing learning rate to 0.00067.\n",
      "Epoch 5/15\n",
      "95/95 [==============================] - 47s 490ms/step - loss: 0.5400 - acc: 0.1009 - f1_m: 0.8149 - val_loss: 0.5535 - val_acc: 0.7553 - val_f1_m: 0.7792 - lr: 6.7000e-04\n",
      "\n",
      "Epoch 00006: LearningRateScheduler reducing learning rate to 0.000835.\n",
      "Epoch 6/15\n",
      "95/95 [==============================] - 38s 404ms/step - loss: 0.5295 - acc: 0.1029 - f1_m: 0.8370 - val_loss: 0.5701 - val_acc: 0.7447 - val_f1_m: 0.7896 - lr: 8.3500e-04\n",
      "\n",
      "Epoch 00007: LearningRateScheduler reducing learning rate to 0.001.\n",
      "Epoch 7/15\n",
      "95/95 [==============================] - 38s 403ms/step - loss: 0.5386 - acc: 0.1016 - f1_m: 0.8256 - val_loss: 0.5916 - val_acc: 0.7451 - val_f1_m: 0.7568 - lr: 0.0010\n",
      "\n",
      "Epoch 00008: LearningRateScheduler reducing learning rate to 0.0006500000000000001.\n",
      "Epoch 8/15\n",
      "95/95 [==============================] - 47s 494ms/step - loss: 0.4877 - acc: 0.1093 - f1_m: 0.8910 - val_loss: 0.4983 - val_acc: 0.8111 - val_f1_m: 0.8129 - lr: 6.5000e-04\n",
      "\n",
      "Epoch 00009: LearningRateScheduler reducing learning rate to 0.0004225.\n",
      "Epoch 9/15\n",
      "95/95 [==============================] - 47s 495ms/step - loss: 0.4384 - acc: 0.1095 - f1_m: 0.9555 - val_loss: 0.4977 - val_acc: 0.8197 - val_f1_m: 0.8110 - lr: 4.2250e-04\n",
      "\n",
      "Epoch 00010: LearningRateScheduler reducing learning rate to 0.000274625.\n",
      "Epoch 10/15\n",
      "95/95 [==============================] - 47s 494ms/step - loss: 0.4191 - acc: 0.1151 - f1_m: 0.9747 - val_loss: 0.4700 - val_acc: 0.8331 - val_f1_m: 0.8312 - lr: 2.7462e-04\n",
      "\n",
      "Epoch 00011: LearningRateScheduler reducing learning rate to 0.00017850625000000005.\n",
      "Epoch 11/15\n",
      "95/95 [==============================] - 47s 492ms/step - loss: 0.4095 - acc: 0.1117 - f1_m: 0.9839 - val_loss: 0.4652 - val_acc: 0.8386 - val_f1_m: 0.8374 - lr: 1.7851e-04\n",
      "\n",
      "Epoch 00012: LearningRateScheduler reducing learning rate to 0.00011602906250000002.\n",
      "Epoch 12/15\n",
      "95/95 [==============================] - 38s 404ms/step - loss: 0.4051 - acc: 0.1116 - f1_m: 0.9912 - val_loss: 0.4664 - val_acc: 0.8331 - val_f1_m: 0.8321 - lr: 1.1603e-04\n",
      "\n",
      "Epoch 00013: LearningRateScheduler reducing learning rate to 7.541889062500001e-05.\n",
      "Epoch 13/15\n",
      "95/95 [==============================] - 47s 493ms/step - loss: 0.4021 - acc: 0.1108 - f1_m: 0.9924 - val_loss: 0.4594 - val_acc: 0.8386 - val_f1_m: 0.8401 - lr: 7.5419e-05\n",
      "\n",
      "Epoch 00014: LearningRateScheduler reducing learning rate to 4.9022278906250016e-05.\n",
      "Epoch 14/15\n",
      "95/95 [==============================] - 38s 405ms/step - loss: 0.4013 - acc: 0.1136 - f1_m: 0.9928 - val_loss: 0.4609 - val_acc: 0.8382 - val_f1_m: 0.8391 - lr: 4.9022e-05\n",
      "\n",
      "Epoch 00015: LearningRateScheduler reducing learning rate to 3.186448128906251e-05.\n",
      "Epoch 15/15\n",
      "95/95 [==============================] - 39s 408ms/step - loss: 0.4000 - acc: 0.1097 - f1_m: 0.9943 - val_loss: 0.4603 - val_acc: 0.8394 - val_f1_m: 0.8396 - lr: 3.1864e-05\n"
     ]
    },
    {
     "data": {
      "text/html": [
       "<br/>Waiting for W&B process to finish, PID 168<br/>Program ended successfully."
      ],
      "text/plain": [
       "<IPython.core.display.HTML object>"
      ]
     },
     "metadata": {},
     "output_type": "display_data"
    },
    {
     "data": {
      "application/vnd.jupyter.widget-view+json": {
       "model_id": "6d65f096fd18445abd887410a12ff609",
       "version_major": 2,
       "version_minor": 0
      },
      "text/plain": [
       "VBox(children=(Label(value=' 221.69MB of 221.69MB uploaded (0.00MB deduped)\\r'), FloatProgress(value=1.0, max=…"
      ]
     },
     "metadata": {},
     "output_type": "display_data"
    },
    {
     "data": {
      "text/html": [
       "Find user logs for this run at: <code>/kaggle/working/wandb/run-20201127_145645-3gwborjf/logs/debug.log</code>"
      ],
      "text/plain": [
       "<IPython.core.display.HTML object>"
      ]
     },
     "metadata": {},
     "output_type": "display_data"
    },
    {
     "data": {
      "text/html": [
       "Find internal logs for this run at: <code>/kaggle/working/wandb/run-20201127_145645-3gwborjf/logs/debug-internal.log</code>"
      ],
      "text/plain": [
       "<IPython.core.display.HTML object>"
      ]
     },
     "metadata": {},
     "output_type": "display_data"
    },
    {
     "data": {
      "text/html": [
       "<h3>Run summary:</h3><br/><style>\n",
       "    table.wandb td:nth-child(1) { padding: 0 10px; text-align: right }\n",
       "    </style><table class=\"wandb\">\n",
       "<tr><td>epoch</td><td>14</td></tr><tr><td>loss</td><td>0.40004</td></tr><tr><td>acc</td><td>0.10974</td></tr><tr><td>f1_m</td><td>0.99429</td></tr><tr><td>val_loss</td><td>0.46027</td></tr><tr><td>val_acc</td><td>0.83936</td></tr><tr><td>val_f1_m</td><td>0.83956</td></tr><tr><td>lr</td><td>3e-05</td></tr><tr><td>_step</td><td>14</td></tr><tr><td>_runtime</td><td>1630</td></tr><tr><td>_timestamp</td><td>1606490635</td></tr><tr><td>best_val_loss</td><td>0.45937</td></tr><tr><td>best_epoch</td><td>12</td></tr></table>"
      ],
      "text/plain": [
       "<IPython.core.display.HTML object>"
      ]
     },
     "metadata": {},
     "output_type": "display_data"
    },
    {
     "data": {
      "text/html": [
       "<h3>Run history:</h3><br/><style>\n",
       "    table.wandb td:nth-child(1) { padding: 0 10px; text-align: right }\n",
       "    </style><table class=\"wandb\">\n",
       "<tr><td>epoch</td><td>▁▁▂▃▃▃▄▅▅▅▆▇▇▇█</td></tr><tr><td>loss</td><td>█▅▄▄▃▃▃▃▂▁▁▁▁▁▁</td></tr><tr><td>acc</td><td>▁▄▄▅▆▆▆▇▇█▇▇▇█▇</td></tr><tr><td>f1_m</td><td>▁▃▄▅▅▅▅▆▇██████</td></tr><tr><td>val_loss</td><td>█▄▄▄▄▄▅▂▂▁▁▁▁▁▁</td></tr><tr><td>val_acc</td><td>▁▅▅▅▅▅▅▇▇██████</td></tr><tr><td>val_f1_m</td><td>▁▃▄▄▅▆▄▇▇██████</td></tr><tr><td>lr</td><td>▁▂▃▄▆▇█▆▄▃▂▂▁▁▁</td></tr><tr><td>_step</td><td>▁▁▂▃▃▃▄▅▅▅▆▇▇▇█</td></tr><tr><td>_runtime</td><td>▁▂▂▃▃▄▄▅▅▆▆▇▇██</td></tr><tr><td>_timestamp</td><td>▁▂▂▃▃▄▄▅▅▆▆▇▇██</td></tr></table><br/>"
      ],
      "text/plain": [
       "<IPython.core.display.HTML object>"
      ]
     },
     "metadata": {},
     "output_type": "display_data"
    },
    {
     "data": {
      "text/html": [
       "Synced 5 W&B file(s), 1 media file(s), 0 artifact file(s) and 1 other file(s)"
      ],
      "text/plain": [
       "<IPython.core.display.HTML object>"
      ]
     },
     "metadata": {},
     "output_type": "display_data"
    },
    {
     "data": {
      "text/html": [
       "\n",
       "                    <br/>Synced <strong style=\"color:#cdcd00\">twilight-oath-79</strong>: <a href=\"https://wandb.ai/ajisamudra/shopee-product-matching/runs/3gwborjf\" target=\"_blank\">https://wandb.ai/ajisamudra/shopee-product-matching/runs/3gwborjf</a><br/>\n",
       "                "
      ],
      "text/plain": [
       "<IPython.core.display.HTML object>"
      ]
     },
     "metadata": {},
     "output_type": "display_data"
    },
    {
     "name": "stdout",
     "output_type": "stream",
     "text": [
      "32/32 [==============================] - 27s 848ms/step\n",
      "Size y_proba 2546\n",
      "Training shape  (7636, 5)\n",
      "Validation shape  (2545, 5)\n",
      "Identic Image with Label 1 : 479\n",
      "Identic Title with Label 1 : 359\n",
      "Train dataset <PrefetchDataset shapes: ((None, 2, 299, 299, 3), (None,)), types: (tf.float32, tf.float32)>\n",
      "Validation dataset <PrefetchDataset shapes: ((None, 2, 299, 299, 3), (None,)), types: (tf.float32, tf.int32)>\n"
     ]
    },
    {
     "data": {
      "text/html": [
       "\n",
       "                Tracking run with wandb version 0.10.11<br/>\n",
       "                Syncing run <strong style=\"color:#cdcd00\">vague-grass-83</strong> to <a href=\"https://wandb.ai\" target=\"_blank\">Weights & Biases</a> <a href=\"https://docs.wandb.com/integrations/jupyter.html\" target=\"_blank\">(Documentation)</a>.<br/>\n",
       "                Project page: <a href=\"https://wandb.ai/ajisamudra/shopee-product-matching\" target=\"_blank\">https://wandb.ai/ajisamudra/shopee-product-matching</a><br/>\n",
       "                Run page: <a href=\"https://wandb.ai/ajisamudra/shopee-product-matching/runs/1thiq6yf\" target=\"_blank\">https://wandb.ai/ajisamudra/shopee-product-matching/runs/1thiq6yf</a><br/>\n",
       "                Run data is saved locally in <code>/kaggle/working/wandb/run-20201127_152510-1thiq6yf</code><br/><br/>\n",
       "            "
      ],
      "text/plain": [
       "<IPython.core.display.HTML object>"
      ]
     },
     "metadata": {},
     "output_type": "display_data"
    },
    {
     "name": "stdout",
     "output_type": "stream",
     "text": [
      "\n",
      "Epoch 00001: LearningRateScheduler reducing learning rate to 1e-05.\n",
      "Epoch 1/15\n",
      "95/95 [==============================] - 358s 4s/step - loss: 0.8248 - acc: 0.0734 - f1_m: 0.5725 - val_loss: 0.7769 - val_acc: 0.5862 - val_f1_m: 0.5821 - lr: 1.0000e-05\n",
      "\n",
      "Epoch 00002: LearningRateScheduler reducing learning rate to 0.000175.\n",
      "Epoch 2/15\n",
      "95/95 [==============================] - 47s 497ms/step - loss: 0.6676 - acc: 0.0836 - f1_m: 0.6616 - val_loss: 0.5853 - val_acc: 0.7159 - val_f1_m: 0.7394 - lr: 1.7500e-04\n",
      "\n",
      "Epoch 00003: LearningRateScheduler reducing learning rate to 0.00034.\n",
      "Epoch 3/15\n",
      "95/95 [==============================] - 47s 497ms/step - loss: 0.5913 - acc: 0.0921 - f1_m: 0.7405 - val_loss: 0.5478 - val_acc: 0.7466 - val_f1_m: 0.7785 - lr: 3.4000e-04\n",
      "\n",
      "Epoch 00004: LearningRateScheduler reducing learning rate to 0.000505.\n",
      "Epoch 4/15\n",
      "95/95 [==============================] - 48s 501ms/step - loss: 0.5628 - acc: 0.0929 - f1_m: 0.7923 - val_loss: 0.5409 - val_acc: 0.7623 - val_f1_m: 0.7755 - lr: 5.0500e-04\n",
      "\n",
      "Epoch 00005: LearningRateScheduler reducing learning rate to 0.00067.\n",
      "Epoch 5/15\n",
      "95/95 [==============================] - 39s 408ms/step - loss: 0.5532 - acc: 0.1000 - f1_m: 0.8046 - val_loss: 0.5416 - val_acc: 0.7776 - val_f1_m: 0.7921 - lr: 6.7000e-04\n",
      "\n",
      "Epoch 00006: LearningRateScheduler reducing learning rate to 0.000835.\n",
      "Epoch 6/15\n",
      "95/95 [==============================] - 39s 406ms/step - loss: 0.5457 - acc: 0.0964 - f1_m: 0.8133 - val_loss: 0.6339 - val_acc: 0.6892 - val_f1_m: 0.7577 - lr: 8.3500e-04\n",
      "\n",
      "Epoch 00007: LearningRateScheduler reducing learning rate to 0.001.\n",
      "Epoch 7/15\n",
      "95/95 [==============================] - 47s 496ms/step - loss: 0.5442 - acc: 0.1017 - f1_m: 0.8162 - val_loss: 0.5272 - val_acc: 0.7859 - val_f1_m: 0.8076 - lr: 0.0010\n",
      "\n",
      "Epoch 00008: LearningRateScheduler reducing learning rate to 0.0006500000000000001.\n",
      "Epoch 8/15\n",
      "95/95 [==============================] - 51s 537ms/step - loss: 0.4876 - acc: 0.1050 - f1_m: 0.8946 - val_loss: 0.4831 - val_acc: 0.8189 - val_f1_m: 0.8283 - lr: 6.5000e-04\n",
      "\n",
      "Epoch 00009: LearningRateScheduler reducing learning rate to 0.0004225.\n",
      "Epoch 9/15\n",
      "95/95 [==============================] - 48s 501ms/step - loss: 0.4402 - acc: 0.1095 - f1_m: 0.9474 - val_loss: 0.4749 - val_acc: 0.8287 - val_f1_m: 0.8266 - lr: 4.2250e-04\n",
      "\n",
      "Epoch 00010: LearningRateScheduler reducing learning rate to 0.000274625.\n",
      "Epoch 10/15\n",
      "95/95 [==============================] - 47s 498ms/step - loss: 0.4200 - acc: 0.1050 - f1_m: 0.9761 - val_loss: 0.4607 - val_acc: 0.8306 - val_f1_m: 0.8344 - lr: 2.7462e-04\n",
      "\n",
      "Epoch 00011: LearningRateScheduler reducing learning rate to 0.00017850625000000005.\n",
      "Epoch 11/15\n",
      "95/95 [==============================] - 47s 499ms/step - loss: 0.4092 - acc: 0.1143 - f1_m: 0.9868 - val_loss: 0.4538 - val_acc: 0.8377 - val_f1_m: 0.8423 - lr: 1.7851e-04\n",
      "\n",
      "Epoch 00012: LearningRateScheduler reducing learning rate to 0.00011602906250000002.\n",
      "Epoch 12/15\n",
      "95/95 [==============================] - 39s 409ms/step - loss: 0.4060 - acc: 0.1058 - f1_m: 0.9904 - val_loss: 0.4552 - val_acc: 0.8346 - val_f1_m: 0.8377 - lr: 1.1603e-04\n",
      "\n",
      "Epoch 00013: LearningRateScheduler reducing learning rate to 7.541889062500001e-05.\n",
      "Epoch 13/15\n",
      "95/95 [==============================] - 48s 504ms/step - loss: 0.4034 - acc: 0.1116 - f1_m: 0.9922 - val_loss: 0.4495 - val_acc: 0.8377 - val_f1_m: 0.8438 - lr: 7.5419e-05\n",
      "\n",
      "Epoch 00014: LearningRateScheduler reducing learning rate to 4.9022278906250016e-05.\n",
      "Epoch 14/15\n",
      "95/95 [==============================] - 39s 408ms/step - loss: 0.4005 - acc: 0.1114 - f1_m: 0.9940 - val_loss: 0.4515 - val_acc: 0.8346 - val_f1_m: 0.8389 - lr: 4.9022e-05\n",
      "\n",
      "Epoch 00015: LearningRateScheduler reducing learning rate to 3.186448128906251e-05.\n",
      "Epoch 15/15\n",
      "95/95 [==============================] - 39s 409ms/step - loss: 0.4023 - acc: 0.1055 - f1_m: 0.9929 - val_loss: 0.4507 - val_acc: 0.8369 - val_f1_m: 0.8423 - lr: 3.1864e-05\n"
     ]
    },
    {
     "data": {
      "text/html": [
       "<br/>Waiting for W&B process to finish, PID 240<br/>Program ended successfully."
      ],
      "text/plain": [
       "<IPython.core.display.HTML object>"
      ]
     },
     "metadata": {},
     "output_type": "display_data"
    },
    {
     "data": {
      "application/vnd.jupyter.widget-view+json": {
       "model_id": "636f71f1a4b94e749969433cc36c72f3",
       "version_major": 2,
       "version_minor": 0
      },
      "text/plain": [
       "VBox(children=(Label(value=' 221.69MB of 221.69MB uploaded (0.00MB deduped)\\r'), FloatProgress(value=1.0, max=…"
      ]
     },
     "metadata": {},
     "output_type": "display_data"
    },
    {
     "data": {
      "text/html": [
       "Find user logs for this run at: <code>/kaggle/working/wandb/run-20201127_152510-1thiq6yf/logs/debug.log</code>"
      ],
      "text/plain": [
       "<IPython.core.display.HTML object>"
      ]
     },
     "metadata": {},
     "output_type": "display_data"
    },
    {
     "data": {
      "text/html": [
       "Find internal logs for this run at: <code>/kaggle/working/wandb/run-20201127_152510-1thiq6yf/logs/debug-internal.log</code>"
      ],
      "text/plain": [
       "<IPython.core.display.HTML object>"
      ]
     },
     "metadata": {},
     "output_type": "display_data"
    },
    {
     "data": {
      "text/html": [
       "<h3>Run summary:</h3><br/><style>\n",
       "    table.wandb td:nth-child(1) { padding: 0 10px; text-align: right }\n",
       "    </style><table class=\"wandb\">\n",
       "<tr><td>epoch</td><td>14</td></tr><tr><td>loss</td><td>0.40234</td></tr><tr><td>acc</td><td>0.10553</td></tr><tr><td>f1_m</td><td>0.99286</td></tr><tr><td>val_loss</td><td>0.45074</td></tr><tr><td>val_acc</td><td>0.83694</td></tr><tr><td>val_f1_m</td><td>0.84229</td></tr><tr><td>lr</td><td>3e-05</td></tr><tr><td>_step</td><td>14</td></tr><tr><td>_runtime</td><td>1475</td></tr><tr><td>_timestamp</td><td>1606492185</td></tr><tr><td>best_val_loss</td><td>0.44951</td></tr><tr><td>best_epoch</td><td>12</td></tr></table>"
      ],
      "text/plain": [
       "<IPython.core.display.HTML object>"
      ]
     },
     "metadata": {},
     "output_type": "display_data"
    },
    {
     "data": {
      "text/html": [
       "<h3>Run history:</h3><br/><style>\n",
       "    table.wandb td:nth-child(1) { padding: 0 10px; text-align: right }\n",
       "    </style><table class=\"wandb\">\n",
       "<tr><td>epoch</td><td>▁▁▂▃▃▃▄▅▅▅▆▇▇▇█</td></tr><tr><td>loss</td><td>█▅▄▄▄▃▃▂▂▁▁▁▁▁▁</td></tr><tr><td>acc</td><td>▁▃▄▄▆▅▆▆▇▆█▇██▆</td></tr><tr><td>f1_m</td><td>▁▂▄▅▅▅▅▆▇██████</td></tr><tr><td>val_loss</td><td>█▄▃▃▃▅▃▂▂▁▁▁▁▁▁</td></tr><tr><td>val_acc</td><td>▁▅▅▆▆▄▇▇███████</td></tr><tr><td>val_f1_m</td><td>▁▅▆▆▇▆▇████████</td></tr><tr><td>lr</td><td>▁▂▃▄▆▇█▆▄▃▂▂▁▁▁</td></tr><tr><td>_step</td><td>▁▁▂▃▃▃▄▅▅▅▆▇▇▇█</td></tr><tr><td>_runtime</td><td>▁▂▂▃▃▄▄▄▅▆▆▇▇██</td></tr><tr><td>_timestamp</td><td>▁▂▂▃▃▄▄▄▅▆▆▇▇██</td></tr></table><br/>"
      ],
      "text/plain": [
       "<IPython.core.display.HTML object>"
      ]
     },
     "metadata": {},
     "output_type": "display_data"
    },
    {
     "data": {
      "text/html": [
       "Synced 5 W&B file(s), 1 media file(s), 0 artifact file(s) and 1 other file(s)"
      ],
      "text/plain": [
       "<IPython.core.display.HTML object>"
      ]
     },
     "metadata": {},
     "output_type": "display_data"
    },
    {
     "data": {
      "text/html": [
       "\n",
       "                    <br/>Synced <strong style=\"color:#cdcd00\">vague-grass-83</strong>: <a href=\"https://wandb.ai/ajisamudra/shopee-product-matching/runs/1thiq6yf\" target=\"_blank\">https://wandb.ai/ajisamudra/shopee-product-matching/runs/1thiq6yf</a><br/>\n",
       "                "
      ],
      "text/plain": [
       "<IPython.core.display.HTML object>"
      ]
     },
     "metadata": {},
     "output_type": "display_data"
    },
    {
     "name": "stdout",
     "output_type": "stream",
     "text": [
      "32/32 [==============================] - 18s 575ms/step\n",
      "Size y_proba 2545\n",
      "Training shape  (7636, 5)\n",
      "Validation shape  (2545, 5)\n",
      "Identic Image with Label 1 : 485\n",
      "Identic Title with Label 1 : 357\n",
      "Train dataset <PrefetchDataset shapes: ((None, 2, 299, 299, 3), (None,)), types: (tf.float32, tf.float32)>\n",
      "Validation dataset <PrefetchDataset shapes: ((None, 2, 299, 299, 3), (None,)), types: (tf.float32, tf.int32)>\n"
     ]
    },
    {
     "data": {
      "text/html": [
       "\n",
       "                Tracking run with wandb version 0.10.11<br/>\n",
       "                Syncing run <strong style=\"color:#cdcd00\">comfy-universe-86</strong> to <a href=\"https://wandb.ai\" target=\"_blank\">Weights & Biases</a> <a href=\"https://docs.wandb.com/integrations/jupyter.html\" target=\"_blank\">(Documentation)</a>.<br/>\n",
       "                Project page: <a href=\"https://wandb.ai/ajisamudra/shopee-product-matching\" target=\"_blank\">https://wandb.ai/ajisamudra/shopee-product-matching</a><br/>\n",
       "                Run page: <a href=\"https://wandb.ai/ajisamudra/shopee-product-matching/runs/1e477a3x\" target=\"_blank\">https://wandb.ai/ajisamudra/shopee-product-matching/runs/1e477a3x</a><br/>\n",
       "                Run data is saved locally in <code>/kaggle/working/wandb/run-20201127_155040-1e477a3x</code><br/><br/>\n",
       "            "
      ],
      "text/plain": [
       "<IPython.core.display.HTML object>"
      ]
     },
     "metadata": {},
     "output_type": "display_data"
    },
    {
     "name": "stdout",
     "output_type": "stream",
     "text": [
      "\n",
      "Epoch 00001: LearningRateScheduler reducing learning rate to 1e-05.\n",
      "Epoch 1/15\n",
      "95/95 [==============================] - 398s 4s/step - loss: 0.9246 - acc: 0.0663 - f1_m: 0.5302 - val_loss: 0.7412 - val_acc: 0.6130 - val_f1_m: 0.6299 - lr: 1.0000e-05\n",
      "\n",
      "Epoch 00002: LearningRateScheduler reducing learning rate to 0.000175.\n",
      "Epoch 2/15\n",
      "95/95 [==============================] - 48s 502ms/step - loss: 0.6642 - acc: 0.0851 - f1_m: 0.6886 - val_loss: 0.6022 - val_acc: 0.7084 - val_f1_m: 0.7274 - lr: 1.7500e-04\n",
      "\n",
      "Epoch 00003: LearningRateScheduler reducing learning rate to 0.00034.\n",
      "Epoch 3/15\n",
      "95/95 [==============================] - 52s 550ms/step - loss: 0.5889 - acc: 0.0888 - f1_m: 0.7556 - val_loss: 0.5566 - val_acc: 0.7580 - val_f1_m: 0.7729 - lr: 3.4000e-04\n",
      "\n",
      "Epoch 00004: LearningRateScheduler reducing learning rate to 0.000505.\n",
      "Epoch 4/15\n",
      "95/95 [==============================] - 39s 412ms/step - loss: 0.5647 - acc: 0.0943 - f1_m: 0.7792 - val_loss: 0.5830 - val_acc: 0.7407 - val_f1_m: 0.7302 - lr: 5.0500e-04\n",
      "\n",
      "Epoch 00005: LearningRateScheduler reducing learning rate to 0.00067.\n",
      "Epoch 5/15\n",
      "95/95 [==============================] - 39s 413ms/step - loss: 0.5536 - acc: 0.0955 - f1_m: 0.8022 - val_loss: 0.6153 - val_acc: 0.7202 - val_f1_m: 0.7123 - lr: 6.7000e-04\n",
      "\n",
      "Epoch 00006: LearningRateScheduler reducing learning rate to 0.000835.\n",
      "Epoch 6/15\n",
      "95/95 [==============================] - 48s 507ms/step - loss: 0.5486 - acc: 0.1014 - f1_m: 0.8094 - val_loss: 0.5308 - val_acc: 0.7780 - val_f1_m: 0.7972 - lr: 8.3500e-04\n",
      "\n",
      "Epoch 00007: LearningRateScheduler reducing learning rate to 0.001.\n",
      "Epoch 7/15\n",
      "95/95 [==============================] - 39s 413ms/step - loss: 0.5297 - acc: 0.1008 - f1_m: 0.8411 - val_loss: 0.5593 - val_acc: 0.7560 - val_f1_m: 0.8000 - lr: 0.0010\n",
      "\n",
      "Epoch 00008: LearningRateScheduler reducing learning rate to 0.0006500000000000001.\n",
      "Epoch 8/15\n",
      "95/95 [==============================] - 48s 505ms/step - loss: 0.4804 - acc: 0.1057 - f1_m: 0.9022 - val_loss: 0.4818 - val_acc: 0.8314 - val_f1_m: 0.8296 - lr: 6.5000e-04\n",
      "\n",
      "Epoch 00009: LearningRateScheduler reducing learning rate to 0.0004225.\n",
      "Epoch 9/15\n",
      "95/95 [==============================] - 48s 508ms/step - loss: 0.4391 - acc: 0.1087 - f1_m: 0.9588 - val_loss: 0.4632 - val_acc: 0.8456 - val_f1_m: 0.8458 - lr: 4.2250e-04\n",
      "\n",
      "Epoch 00010: LearningRateScheduler reducing learning rate to 0.000274625.\n",
      "Epoch 10/15\n",
      "95/95 [==============================] - 48s 505ms/step - loss: 0.4198 - acc: 0.1088 - f1_m: 0.9798 - val_loss: 0.4496 - val_acc: 0.8519 - val_f1_m: 0.8535 - lr: 2.7462e-04\n",
      "\n",
      "Epoch 00011: LearningRateScheduler reducing learning rate to 0.00017850625000000005.\n",
      "Epoch 11/15\n",
      "95/95 [==============================] - 48s 505ms/step - loss: 0.4092 - acc: 0.1117 - f1_m: 0.9881 - val_loss: 0.4454 - val_acc: 0.8554 - val_f1_m: 0.8580 - lr: 1.7851e-04\n",
      "\n",
      "Epoch 00012: LearningRateScheduler reducing learning rate to 0.00011602906250000002.\n",
      "Epoch 12/15\n",
      "95/95 [==============================] - 48s 506ms/step - loss: 0.4052 - acc: 0.1096 - f1_m: 0.9915 - val_loss: 0.4389 - val_acc: 0.8550 - val_f1_m: 0.8595 - lr: 1.1603e-04\n",
      "\n",
      "Epoch 00013: LearningRateScheduler reducing learning rate to 7.541889062500001e-05.\n",
      "Epoch 13/15\n",
      "95/95 [==============================] - 48s 504ms/step - loss: 0.4034 - acc: 0.1103 - f1_m: 0.9899 - val_loss: 0.4379 - val_acc: 0.8542 - val_f1_m: 0.8586 - lr: 7.5419e-05\n",
      "\n",
      "Epoch 00014: LearningRateScheduler reducing learning rate to 4.9022278906250016e-05.\n",
      "Epoch 14/15\n",
      "95/95 [==============================] - 48s 502ms/step - loss: 0.4022 - acc: 0.1097 - f1_m: 0.9930 - val_loss: 0.4358 - val_acc: 0.8554 - val_f1_m: 0.8612 - lr: 4.9022e-05\n",
      "\n",
      "Epoch 00015: LearningRateScheduler reducing learning rate to 3.186448128906251e-05.\n",
      "Epoch 15/15\n",
      "95/95 [==============================] - 39s 412ms/step - loss: 0.4012 - acc: 0.1103 - f1_m: 0.9929 - val_loss: 0.4379 - val_acc: 0.8558 - val_f1_m: 0.8595 - lr: 3.1864e-05\n"
     ]
    },
    {
     "data": {
      "text/html": [
       "<br/>Waiting for W&B process to finish, PID 314<br/>Program ended successfully."
      ],
      "text/plain": [
       "<IPython.core.display.HTML object>"
      ]
     },
     "metadata": {},
     "output_type": "display_data"
    },
    {
     "data": {
      "application/vnd.jupyter.widget-view+json": {
       "model_id": "9efa089129004e08adb90744262f3880",
       "version_major": 2,
       "version_minor": 0
      },
      "text/plain": [
       "VBox(children=(Label(value=' 221.69MB of 221.69MB uploaded (0.00MB deduped)\\r'), FloatProgress(value=1.0, max=…"
      ]
     },
     "metadata": {},
     "output_type": "display_data"
    },
    {
     "data": {
      "text/html": [
       "Find user logs for this run at: <code>/kaggle/working/wandb/run-20201127_155040-1e477a3x/logs/debug.log</code>"
      ],
      "text/plain": [
       "<IPython.core.display.HTML object>"
      ]
     },
     "metadata": {},
     "output_type": "display_data"
    },
    {
     "data": {
      "text/html": [
       "Find internal logs for this run at: <code>/kaggle/working/wandb/run-20201127_155040-1e477a3x/logs/debug-internal.log</code>"
      ],
      "text/plain": [
       "<IPython.core.display.HTML object>"
      ]
     },
     "metadata": {},
     "output_type": "display_data"
    },
    {
     "data": {
      "text/html": [
       "<h3>Run summary:</h3><br/><style>\n",
       "    table.wandb td:nth-child(1) { padding: 0 10px; text-align: right }\n",
       "    </style><table class=\"wandb\">\n",
       "<tr><td>epoch</td><td>14</td></tr><tr><td>loss</td><td>0.4012</td></tr><tr><td>acc</td><td>0.11026</td></tr><tr><td>f1_m</td><td>0.9929</td></tr><tr><td>val_loss</td><td>0.43786</td></tr><tr><td>val_acc</td><td>0.8558</td></tr><tr><td>val_f1_m</td><td>0.85948</td></tr><tr><td>lr</td><td>3e-05</td></tr><tr><td>_step</td><td>14</td></tr><tr><td>_runtime</td><td>1533</td></tr><tr><td>_timestamp</td><td>1606493773</td></tr><tr><td>best_val_loss</td><td>0.43583</td></tr><tr><td>best_epoch</td><td>13</td></tr></table>"
      ],
      "text/plain": [
       "<IPython.core.display.HTML object>"
      ]
     },
     "metadata": {},
     "output_type": "display_data"
    },
    {
     "data": {
      "text/html": [
       "<h3>Run history:</h3><br/><style>\n",
       "    table.wandb td:nth-child(1) { padding: 0 10px; text-align: right }\n",
       "    </style><table class=\"wandb\">\n",
       "<tr><td>epoch</td><td>▁▁▂▃▃▃▄▅▅▅▆▇▇▇█</td></tr><tr><td>loss</td><td>█▅▄▃▃▃▃▂▂▁▁▁▁▁▁</td></tr><tr><td>acc</td><td>▁▄▄▅▆▆▆▇███████</td></tr><tr><td>f1_m</td><td>▁▃▄▅▅▅▆▇▇██████</td></tr><tr><td>val_loss</td><td>█▅▄▄▅▃▄▂▂▁▁▁▁▁▁</td></tr><tr><td>val_acc</td><td>▁▄▅▅▄▆▅▇███████</td></tr><tr><td>val_f1_m</td><td>▁▄▅▄▃▆▆▇███████</td></tr><tr><td>lr</td><td>▁▂▃▄▆▇█▆▄▃▂▂▁▁▁</td></tr><tr><td>_step</td><td>▁▁▂▃▃▃▄▅▅▅▆▇▇▇█</td></tr><tr><td>_runtime</td><td>▁▂▂▃▃▃▄▄▅▅▆▆▇▇█</td></tr><tr><td>_timestamp</td><td>▁▂▂▃▃▃▄▄▅▅▆▆▇▇█</td></tr></table><br/>"
      ],
      "text/plain": [
       "<IPython.core.display.HTML object>"
      ]
     },
     "metadata": {},
     "output_type": "display_data"
    },
    {
     "data": {
      "text/html": [
       "Synced 5 W&B file(s), 1 media file(s), 0 artifact file(s) and 1 other file(s)"
      ],
      "text/plain": [
       "<IPython.core.display.HTML object>"
      ]
     },
     "metadata": {},
     "output_type": "display_data"
    },
    {
     "data": {
      "text/html": [
       "\n",
       "                    <br/>Synced <strong style=\"color:#cdcd00\">comfy-universe-86</strong>: <a href=\"https://wandb.ai/ajisamudra/shopee-product-matching/runs/1e477a3x\" target=\"_blank\">https://wandb.ai/ajisamudra/shopee-product-matching/runs/1e477a3x</a><br/>\n",
       "                "
      ],
      "text/plain": [
       "<IPython.core.display.HTML object>"
      ]
     },
     "metadata": {},
     "output_type": "display_data"
    },
    {
     "name": "stdout",
     "output_type": "stream",
     "text": [
      "32/32 [==============================] - 18s 571ms/step\n",
      "Size y_proba 2545\n",
      "Training shape  (7636, 5)\n",
      "Validation shape  (2545, 5)\n",
      "Identic Image with Label 1 : 506\n",
      "Identic Title with Label 1 : 366\n",
      "Train dataset <PrefetchDataset shapes: ((None, 2, 299, 299, 3), (None,)), types: (tf.float32, tf.float32)>\n",
      "Validation dataset <PrefetchDataset shapes: ((None, 2, 299, 299, 3), (None,)), types: (tf.float32, tf.int32)>\n"
     ]
    },
    {
     "data": {
      "text/html": [
       "\n",
       "                Tracking run with wandb version 0.10.11<br/>\n",
       "                Syncing run <strong style=\"color:#cdcd00\">curious-blaze-88</strong> to <a href=\"https://wandb.ai\" target=\"_blank\">Weights & Biases</a> <a href=\"https://docs.wandb.com/integrations/jupyter.html\" target=\"_blank\">(Documentation)</a>.<br/>\n",
       "                Project page: <a href=\"https://wandb.ai/ajisamudra/shopee-product-matching\" target=\"_blank\">https://wandb.ai/ajisamudra/shopee-product-matching</a><br/>\n",
       "                Run page: <a href=\"https://wandb.ai/ajisamudra/shopee-product-matching/runs/31djpf0e\" target=\"_blank\">https://wandb.ai/ajisamudra/shopee-product-matching/runs/31djpf0e</a><br/>\n",
       "                Run data is saved locally in <code>/kaggle/working/wandb/run-20201127_161709-31djpf0e</code><br/><br/>\n",
       "            "
      ],
      "text/plain": [
       "<IPython.core.display.HTML object>"
      ]
     },
     "metadata": {},
     "output_type": "display_data"
    },
    {
     "name": "stdout",
     "output_type": "stream",
     "text": [
      "\n",
      "Epoch 00001: LearningRateScheduler reducing learning rate to 1e-05.\n",
      "Epoch 1/15\n",
      "95/95 [==============================] - 353s 4s/step - loss: 0.7925 - acc: 0.0730 - f1_m: 0.5813 - val_loss: 0.7155 - val_acc: 0.6303 - val_f1_m: 0.6938 - lr: 1.0000e-05\n",
      "\n",
      "Epoch 00002: LearningRateScheduler reducing learning rate to 0.000175.\n",
      "Epoch 2/15\n",
      "95/95 [==============================] - 48s 507ms/step - loss: 0.6532 - acc: 0.0849 - f1_m: 0.6739 - val_loss: 0.5753 - val_acc: 0.7383 - val_f1_m: 0.7296 - lr: 1.7500e-04\n",
      "\n",
      "Epoch 00003: LearningRateScheduler reducing learning rate to 0.00034.\n",
      "Epoch 3/15\n",
      "95/95 [==============================] - 47s 498ms/step - loss: 0.5809 - acc: 0.0988 - f1_m: 0.7600 - val_loss: 0.5609 - val_acc: 0.7442 - val_f1_m: 0.7538 - lr: 3.4000e-04\n",
      "\n",
      "Epoch 00004: LearningRateScheduler reducing learning rate to 0.000505.\n",
      "Epoch 4/15\n",
      "95/95 [==============================] - 39s 411ms/step - loss: 0.5564 - acc: 0.0972 - f1_m: 0.7924 - val_loss: 0.5857 - val_acc: 0.7222 - val_f1_m: 0.7777 - lr: 5.0500e-04\n",
      "\n",
      "Epoch 00005: LearningRateScheduler reducing learning rate to 0.00067.\n",
      "Epoch 5/15\n",
      "95/95 [==============================] - 39s 410ms/step - loss: 0.5451 - acc: 0.1034 - f1_m: 0.8116 - val_loss: 0.5782 - val_acc: 0.7218 - val_f1_m: 0.7720 - lr: 6.7000e-04\n",
      "\n",
      "Epoch 00006: LearningRateScheduler reducing learning rate to 0.000835.\n",
      "Epoch 6/15\n",
      "95/95 [==============================] - 39s 408ms/step - loss: 0.5432 - acc: 0.1043 - f1_m: 0.8093 - val_loss: 0.5610 - val_acc: 0.7458 - val_f1_m: 0.7506 - lr: 8.3500e-04\n",
      "\n",
      "Epoch 00007: LearningRateScheduler reducing learning rate to 0.001.\n",
      "Epoch 7/15\n",
      "95/95 [==============================] - 39s 410ms/step - loss: 0.5273 - acc: 0.1062 - f1_m: 0.8385 - val_loss: 0.5708 - val_acc: 0.7544 - val_f1_m: 0.7554 - lr: 0.0010\n",
      "\n",
      "Epoch 00008: LearningRateScheduler reducing learning rate to 0.0006500000000000001.\n",
      "Epoch 8/15\n",
      "95/95 [==============================] - 48s 501ms/step - loss: 0.4807 - acc: 0.1095 - f1_m: 0.8917 - val_loss: 0.5450 - val_acc: 0.7831 - val_f1_m: 0.7650 - lr: 6.5000e-04\n",
      "\n",
      "Epoch 00009: LearningRateScheduler reducing learning rate to 0.0004225.\n",
      "Epoch 9/15\n",
      "95/95 [==============================] - 48s 501ms/step - loss: 0.4390 - acc: 0.1114 - f1_m: 0.9517 - val_loss: 0.4490 - val_acc: 0.8424 - val_f1_m: 0.8496 - lr: 4.2250e-04\n",
      "\n",
      "Epoch 00010: LearningRateScheduler reducing learning rate to 0.000274625.\n",
      "Epoch 10/15\n",
      "95/95 [==============================] - 48s 507ms/step - loss: 0.4177 - acc: 0.1129 - f1_m: 0.9760 - val_loss: 0.4480 - val_acc: 0.8456 - val_f1_m: 0.8477 - lr: 2.7462e-04\n",
      "\n",
      "Epoch 00011: LearningRateScheduler reducing learning rate to 0.00017850625000000005.\n",
      "Epoch 11/15\n",
      "95/95 [==============================] - 48s 503ms/step - loss: 0.4085 - acc: 0.1142 - f1_m: 0.9871 - val_loss: 0.4467 - val_acc: 0.8472 - val_f1_m: 0.8503 - lr: 1.7851e-04\n",
      "\n",
      "Epoch 00012: LearningRateScheduler reducing learning rate to 0.00011602906250000002.\n",
      "Epoch 12/15\n",
      "95/95 [==============================] - 39s 414ms/step - loss: 0.4043 - acc: 0.1136 - f1_m: 0.9889 - val_loss: 0.4476 - val_acc: 0.8432 - val_f1_m: 0.8468 - lr: 1.1603e-04\n",
      "\n",
      "Epoch 00013: LearningRateScheduler reducing learning rate to 7.541889062500001e-05.\n",
      "Epoch 13/15\n",
      "95/95 [==============================] - 48s 505ms/step - loss: 0.4020 - acc: 0.1162 - f1_m: 0.9886 - val_loss: 0.4462 - val_acc: 0.8409 - val_f1_m: 0.8448 - lr: 7.5419e-05\n",
      "\n",
      "Epoch 00014: LearningRateScheduler reducing learning rate to 4.9022278906250016e-05.\n",
      "Epoch 14/15\n",
      "95/95 [==============================] - 48s 509ms/step - loss: 0.4008 - acc: 0.1158 - f1_m: 0.9906 - val_loss: 0.4443 - val_acc: 0.8424 - val_f1_m: 0.8477 - lr: 4.9022e-05\n",
      "\n",
      "Epoch 00015: LearningRateScheduler reducing learning rate to 3.186448128906251e-05.\n",
      "Epoch 15/15\n",
      "95/95 [==============================] - 39s 412ms/step - loss: 0.4006 - acc: 0.1105 - f1_m: 0.9913 - val_loss: 0.4463 - val_acc: 0.8405 - val_f1_m: 0.8437 - lr: 3.1864e-05\n"
     ]
    },
    {
     "data": {
      "text/html": [
       "<br/>Waiting for W&B process to finish, PID 393<br/>Program ended successfully."
      ],
      "text/plain": [
       "<IPython.core.display.HTML object>"
      ]
     },
     "metadata": {},
     "output_type": "display_data"
    },
    {
     "data": {
      "application/vnd.jupyter.widget-view+json": {
       "model_id": "e8ae188793184cf99f19057563e3c8c9",
       "version_major": 2,
       "version_minor": 0
      },
      "text/plain": [
       "VBox(children=(Label(value=' 221.69MB of 221.69MB uploaded (0.00MB deduped)\\r'), FloatProgress(value=1.0, max=…"
      ]
     },
     "metadata": {},
     "output_type": "display_data"
    },
    {
     "data": {
      "text/html": [
       "Find user logs for this run at: <code>/kaggle/working/wandb/run-20201127_161709-31djpf0e/logs/debug.log</code>"
      ],
      "text/plain": [
       "<IPython.core.display.HTML object>"
      ]
     },
     "metadata": {},
     "output_type": "display_data"
    },
    {
     "data": {
      "text/html": [
       "Find internal logs for this run at: <code>/kaggle/working/wandb/run-20201127_161709-31djpf0e/logs/debug-internal.log</code>"
      ],
      "text/plain": [
       "<IPython.core.display.HTML object>"
      ]
     },
     "metadata": {},
     "output_type": "display_data"
    },
    {
     "data": {
      "text/html": [
       "<h3>Run summary:</h3><br/><style>\n",
       "    table.wandb td:nth-child(1) { padding: 0 10px; text-align: right }\n",
       "    </style><table class=\"wandb\">\n",
       "<tr><td>epoch</td><td>14</td></tr><tr><td>loss</td><td>0.40064</td></tr><tr><td>acc</td><td>0.11053</td></tr><tr><td>f1_m</td><td>0.99134</td></tr><tr><td>val_loss</td><td>0.44629</td></tr><tr><td>val_acc</td><td>0.84047</td></tr><tr><td>val_f1_m</td><td>0.84372</td></tr><tr><td>lr</td><td>3e-05</td></tr><tr><td>_step</td><td>14</td></tr><tr><td>_runtime</td><td>1472</td></tr><tr><td>_timestamp</td><td>1606495301</td></tr><tr><td>best_val_loss</td><td>0.44428</td></tr><tr><td>best_epoch</td><td>13</td></tr></table>"
      ],
      "text/plain": [
       "<IPython.core.display.HTML object>"
      ]
     },
     "metadata": {},
     "output_type": "display_data"
    },
    {
     "data": {
      "text/html": [
       "<h3>Run history:</h3><br/><style>\n",
       "    table.wandb td:nth-child(1) { padding: 0 10px; text-align: right }\n",
       "    </style><table class=\"wandb\">\n",
       "<tr><td>epoch</td><td>▁▁▂▃▃▃▄▅▅▅▆▇▇▇█</td></tr><tr><td>loss</td><td>█▆▄▄▄▄▃▂▂▁▁▁▁▁▁</td></tr><tr><td>acc</td><td>▁▃▅▅▆▆▆▇▇▇████▇</td></tr><tr><td>f1_m</td><td>▁▃▄▅▅▅▅▆▇██████</td></tr><tr><td>val_loss</td><td>█▄▄▅▄▄▄▄▁▁▁▁▁▁▁</td></tr><tr><td>val_acc</td><td>▁▄▅▄▄▅▅▆███████</td></tr><tr><td>val_f1_m</td><td>▁▃▄▅▄▄▄▄███████</td></tr><tr><td>lr</td><td>▁▂▃▄▆▇█▆▄▃▂▂▁▁▁</td></tr><tr><td>_step</td><td>▁▁▂▃▃▃▄▅▅▅▆▇▇▇█</td></tr><tr><td>_runtime</td><td>▁▂▂▃▃▃▄▄▅▅▆▆▇▇█</td></tr><tr><td>_timestamp</td><td>▁▂▂▃▃▃▄▄▅▅▆▆▇▇█</td></tr></table><br/>"
      ],
      "text/plain": [
       "<IPython.core.display.HTML object>"
      ]
     },
     "metadata": {},
     "output_type": "display_data"
    },
    {
     "data": {
      "text/html": [
       "Synced 5 W&B file(s), 1 media file(s), 0 artifact file(s) and 1 other file(s)"
      ],
      "text/plain": [
       "<IPython.core.display.HTML object>"
      ]
     },
     "metadata": {},
     "output_type": "display_data"
    },
    {
     "data": {
      "text/html": [
       "\n",
       "                    <br/>Synced <strong style=\"color:#cdcd00\">curious-blaze-88</strong>: <a href=\"https://wandb.ai/ajisamudra/shopee-product-matching/runs/31djpf0e\" target=\"_blank\">https://wandb.ai/ajisamudra/shopee-product-matching/runs/31djpf0e</a><br/>\n",
       "                "
      ],
      "text/plain": [
       "<IPython.core.display.HTML object>"
      ]
     },
     "metadata": {},
     "output_type": "display_data"
    },
    {
     "name": "stdout",
     "output_type": "stream",
     "text": [
      "32/32 [==============================] - 18s 577ms/step\n",
      "Size y_proba 2545\n"
     ]
    }
   ],
   "source": [
    "# read training csv\n",
    "train = pd.read_csv(\"../input/pre-product-matching-id-ndsc-2020/new_training_set.csv\").iloc[:, 1:]\n",
    "GCS_DS_PATH = KaggleDatasets().get_gcs_path(\"pre-product-matching-id-ndsc-2020\")\n",
    "\n",
    "# perform \n",
    "models, histories, accuracies, f1_scores, roc_aucs, y_probas, y_vals = train_cross_validate(train, NUM_FOLDS)"
   ]
  },
  {
   "cell_type": "code",
   "execution_count": 10,
   "metadata": {
    "execution": {
     "iopub.execute_input": "2020-11-27T16:42:42.440579Z",
     "iopub.status.busy": "2020-11-27T16:42:42.438167Z",
     "iopub.status.idle": "2020-11-27T16:42:42.446641Z",
     "shell.execute_reply": "2020-11-27T16:42:42.446027Z"
    },
    "papermill": {
     "duration": 2.462828,
     "end_time": "2020-11-27T16:42:42.446772",
     "exception": false,
     "start_time": "2020-11-27T16:42:39.983944",
     "status": "completed"
    },
    "tags": []
   },
   "outputs": [
    {
     "name": "stdout",
     "output_type": "stream",
     "text": [
      "accuracy\n",
      "avg : 0.8431395524703028\n",
      "std : 0.007417997205737734\n",
      "f1\n",
      "avg : 0.8616908208626628\n",
      "std : 0.007435825476157508\n",
      "roc_auc\n",
      "avg : 0.9131866745691747\n",
      "std : 0.005317559492815802\n"
     ]
    }
   ],
   "source": [
    "# Evaluation CV\n",
    "def print_evaluation(accuracies, f1_scores, roc_aucs):\n",
    "    metrics = [accuracies, f1_scores, roc_aucs]\n",
    "    m = ['accuracy', 'f1', 'roc_auc']\n",
    "    for i in range(len(m)):\n",
    "        print(m[i])\n",
    "        print('avg :', np.mean(metrics[i]))\n",
    "        print('std :', np.std(metrics[i]))\n",
    "\n",
    "\n",
    "print_evaluation(accuracies, f1_scores, roc_aucs)"
   ]
  },
  {
   "cell_type": "code",
   "execution_count": 11,
   "metadata": {
    "execution": {
     "iopub.execute_input": "2020-11-27T16:42:47.347093Z",
     "iopub.status.busy": "2020-11-27T16:42:47.346374Z",
     "iopub.status.idle": "2020-11-27T16:42:47.349985Z",
     "shell.execute_reply": "2020-11-27T16:42:47.349309Z"
    },
    "papermill": {
     "duration": 2.450305,
     "end_time": "2020-11-27T16:42:47.350166",
     "exception": false,
     "start_time": "2020-11-27T16:42:44.899861",
     "status": "completed"
    },
    "tags": []
   },
   "outputs": [],
   "source": [
    "# how to save list to pickle\n",
    "# import joblib\n",
    "# probas_vals = [y_probas, y_vals]\n",
    "# joblib.dump(probas_vals, 'probas_vals.pkl')\n",
    "# wandb.save(\"./probas_vals.pkl\")\n",
    "\n",
    "# # how to load pkl\n",
    "# import joblib\n",
    "# b = joblib.load(\"./probas_vals.pkl\")"
   ]
  },
  {
   "cell_type": "code",
   "execution_count": 12,
   "metadata": {
    "execution": {
     "iopub.execute_input": "2020-11-27T16:42:52.331292Z",
     "iopub.status.busy": "2020-11-27T16:42:52.330511Z",
     "iopub.status.idle": "2020-11-27T16:43:01.999426Z",
     "shell.execute_reply": "2020-11-27T16:43:01.998659Z"
    },
    "papermill": {
     "duration": 12.12714,
     "end_time": "2020-11-27T16:43:01.999557",
     "exception": false,
     "start_time": "2020-11-27T16:42:49.872417",
     "status": "completed"
    },
    "tags": []
   },
   "outputs": [
    {
     "data": {
      "text/html": [
       "\n",
       "                Tracking run with wandb version 0.10.11<br/>\n",
       "                Syncing run <strong style=\"color:#cdcd00\">dauntless-dust-91</strong> to <a href=\"https://wandb.ai\" target=\"_blank\">Weights & Biases</a> <a href=\"https://docs.wandb.com/integrations/jupyter.html\" target=\"_blank\">(Documentation)</a>.<br/>\n",
       "                Project page: <a href=\"https://wandb.ai/ajisamudra/shopee-product-matching\" target=\"_blank\">https://wandb.ai/ajisamudra/shopee-product-matching</a><br/>\n",
       "                Run page: <a href=\"https://wandb.ai/ajisamudra/shopee-product-matching/runs/ktqru2hq\" target=\"_blank\">https://wandb.ai/ajisamudra/shopee-product-matching/runs/ktqru2hq</a><br/>\n",
       "                Run data is saved locally in <code>/kaggle/working/wandb/run-20201127_164252-ktqru2hq</code><br/><br/>\n",
       "            "
      ],
      "text/plain": [
       "<IPython.core.display.HTML object>"
      ]
     },
     "metadata": {},
     "output_type": "display_data"
    },
    {
     "data": {
      "text/html": [
       "<br/>Waiting for W&B process to finish, PID 460<br/>Program ended successfully."
      ],
      "text/plain": [
       "<IPython.core.display.HTML object>"
      ]
     },
     "metadata": {},
     "output_type": "display_data"
    },
    {
     "data": {
      "application/vnd.jupyter.widget-view+json": {
       "model_id": "fb2e929a89164e8c9fe082be9377de97",
       "version_major": 2,
       "version_minor": 0
      },
      "text/plain": [
       "VBox(children=(Label(value=' 0.00MB of 0.00MB uploaded (0.00MB deduped)\\r'), FloatProgress(value=1.0, max=1.0)…"
      ]
     },
     "metadata": {},
     "output_type": "display_data"
    },
    {
     "data": {
      "text/html": [
       "Find user logs for this run at: <code>/kaggle/working/wandb/run-20201127_164252-ktqru2hq/logs/debug.log</code>"
      ],
      "text/plain": [
       "<IPython.core.display.HTML object>"
      ]
     },
     "metadata": {},
     "output_type": "display_data"
    },
    {
     "data": {
      "text/html": [
       "Find internal logs for this run at: <code>/kaggle/working/wandb/run-20201127_164252-ktqru2hq/logs/debug-internal.log</code>"
      ],
      "text/plain": [
       "<IPython.core.display.HTML object>"
      ]
     },
     "metadata": {},
     "output_type": "display_data"
    },
    {
     "data": {
      "text/html": [
       "<h3>Run summary:</h3><br/><style>\n",
       "    table.wandb td:nth-child(1) { padding: 0 10px; text-align: right }\n",
       "    </style><table class=\"wandb\">\n",
       "<tr><td>f1_mean</td><td>0.86169</td></tr><tr><td>f1_std</td><td>0.00744</td></tr><tr><td>accuracy_mean</td><td>0.84314</td></tr><tr><td>accuracy_std</td><td>0.00742</td></tr><tr><td>roc_auc_mean</td><td>0.91319</td></tr><tr><td>roc_auc_std</td><td>0.00532</td></tr><tr><td>_step</td><td>0</td></tr><tr><td>_runtime</td><td>4</td></tr><tr><td>_timestamp</td><td>1606495376</td></tr></table>"
      ],
      "text/plain": [
       "<IPython.core.display.HTML object>"
      ]
     },
     "metadata": {},
     "output_type": "display_data"
    },
    {
     "data": {
      "text/html": [
       "<h3>Run history:</h3><br/><style>\n",
       "    table.wandb td:nth-child(1) { padding: 0 10px; text-align: right }\n",
       "    </style><table class=\"wandb\">\n",
       "<tr><td>f1_mean</td><td>▁</td></tr><tr><td>f1_std</td><td>▁</td></tr><tr><td>accuracy_mean</td><td>▁</td></tr><tr><td>accuracy_std</td><td>▁</td></tr><tr><td>roc_auc_mean</td><td>▁</td></tr><tr><td>roc_auc_std</td><td>▁</td></tr><tr><td>_step</td><td>▁</td></tr><tr><td>_runtime</td><td>▁</td></tr><tr><td>_timestamp</td><td>▁</td></tr></table><br/>"
      ],
      "text/plain": [
       "<IPython.core.display.HTML object>"
      ]
     },
     "metadata": {},
     "output_type": "display_data"
    },
    {
     "data": {
      "text/html": [
       "Synced 4 W&B file(s), 0 media file(s), 0 artifact file(s) and 1 other file(s)"
      ],
      "text/plain": [
       "<IPython.core.display.HTML object>"
      ]
     },
     "metadata": {},
     "output_type": "display_data"
    },
    {
     "data": {
      "text/html": [
       "\n",
       "                    <br/>Synced <strong style=\"color:#cdcd00\">dauntless-dust-91</strong>: <a href=\"https://wandb.ai/ajisamudra/shopee-product-matching/runs/ktqru2hq\" target=\"_blank\">https://wandb.ai/ajisamudra/shopee-product-matching/runs/ktqru2hq</a><br/>\n",
       "                "
      ],
      "text/plain": [
       "<IPython.core.display.HTML object>"
      ]
     },
     "metadata": {},
     "output_type": "display_data"
    }
   ],
   "source": [
    "# experiment tracking\n",
    "import joblib\n",
    "run = wandb.init(project=\"shopee-product-matching\")\n",
    "\n",
    "config = wandb.config\n",
    "config.flag_result_cv = 1\n",
    "config.batch_size = BATCH_SIZE\n",
    "config.embedding_size = EMBEDDING_SIZE\n",
    "config.base_model = \"DenseNet201\"\n",
    "config.pooling = \"GlobalMax_n_GlobalAvg\"\n",
    "config.loss = \"Binary_CrossEntropy_Loss\"\n",
    "config.optimizer = \"Adam\"\n",
    "config.learning_rate_start = LR_START\n",
    "config.learning_rate_ramp_up_epoch = LR_RAMPUP_EPOCHS\n",
    "config.learning_rate_max = LR_MAX\n",
    "config.learning_rate_decay = LR_STEP_DECAY\n",
    "config.epoch = EPOCH\n",
    "config.label_smoothing = COEF_SMOOTHING\n",
    "config.pipeline = \"tf dataset gpu\"\n",
    "config.cv_folds = NUM_FOLDS\n",
    "config.dropout = COEF_DROPOUT\n",
    "config.add_smoothing = \"identic image & text\"\n",
    "\n",
    "wandb.log({'f1_mean': np.mean(f1_scores),\n",
    "           'f1_std': np.std(f1_scores),\n",
    "           'accuracy_mean': np.mean(accuracies),\n",
    "           'accuracy_std' : np.std(accuracies),\n",
    "           'roc_auc_mean' : np.mean(roc_aucs),\n",
    "           'roc_auc_std' : np.std(roc_aucs)\n",
    "          })\n",
    "\n",
    "probas_vals = [y_probas, y_vals]\n",
    "joblib.dump(probas_vals, 'probas_vals.pkl')\n",
    "wandb.save(\"./probas_vals.pkl\")\n",
    "\n",
    "run.finish()"
   ]
  },
  {
   "cell_type": "markdown",
   "metadata": {
    "papermill": {
     "duration": 2.45713,
     "end_time": "2020-11-27T16:43:06.900386",
     "exception": false,
     "start_time": "2020-11-27T16:43:04.443256",
     "status": "completed"
    },
    "tags": []
   },
   "source": [
    "### Prediction With Several Models"
   ]
  },
  {
   "cell_type": "code",
   "execution_count": 13,
   "metadata": {
    "execution": {
     "iopub.execute_input": "2020-11-27T16:43:11.903890Z",
     "iopub.status.busy": "2020-11-27T16:43:11.902902Z",
     "iopub.status.idle": "2020-11-27T16:43:11.907018Z",
     "shell.execute_reply": "2020-11-27T16:43:11.906054Z"
    },
    "papermill": {
     "duration": 2.502686,
     "end_time": "2020-11-27T16:43:11.907236",
     "exception": false,
     "start_time": "2020-11-27T16:43:09.404550",
     "status": "completed"
    },
    "tags": []
   },
   "outputs": [],
   "source": [
    "# # Test Set\n",
    "# test = pd.read_csv(\"../input/pre-product-matching-id-ndsc-2020/new_test_sample.csv\").iloc[:,1:]\n",
    "# test_im1, test_im2, dummy_label = get_images_path_and_labels(test, 'sample_img', get_label=False)\n",
    "\n",
    "# test_dataset = (tf.data.Dataset.from_tensor_slices((test_im1, test_im2, dummy_label))\n",
    "#                  .map(decode_image, num_parallel_calls=AUTO)\n",
    "#                  .batch(BATCH_SIZE)\n",
    "# )\n",
    "\n",
    "# probabilities = np.average([models[i].predict(test_images_ds) for i in range(folds)], axis = 0)\n",
    "# predictions = np.argmax(probabilities, axis=-1)\n",
    "\n",
    "# # Save Prediction\n",
    "# test['label'] = y_pred\n",
    "# test['pair_index'] = test.index\n",
    "# test.head()\n",
    "\n",
    "# test[['pair_index', 'label']].to_csv(\"submission_gpu.csv\", index=False)"
   ]
  }
 ],
 "metadata": {
  "kernelspec": {
   "display_name": "Python 3",
   "language": "python",
   "name": "python3"
  },
  "language_info": {
   "codemirror_mode": {
    "name": "ipython",
    "version": 3
   },
   "file_extension": ".py",
   "mimetype": "text/x-python",
   "name": "python",
   "nbconvert_exporter": "python",
   "pygments_lexer": "ipython3",
   "version": "3.6.12"
  },
  "papermill": {
   "duration": 6425.521298,
   "end_time": "2020-11-27T16:43:15.980430",
   "environment_variables": {},
   "exception": null,
   "input_path": "__notebook__.ipynb",
   "output_path": "__notebook__.ipynb",
   "parameters": {},
   "start_time": "2020-11-27T14:56:10.459132",
   "version": "2.1.0"
  },
  "widgets": {
   "application/vnd.jupyter.widget-state+json": {
    "state": {
     "03b5bb96e4534bc6b76f99d92217bd0f": {
      "model_module": "@jupyter-widgets/base",
      "model_module_version": "1.2.0",
      "model_name": "LayoutModel",
      "state": {
       "_model_module": "@jupyter-widgets/base",
       "_model_module_version": "1.2.0",
       "_model_name": "LayoutModel",
       "_view_count": null,
       "_view_module": "@jupyter-widgets/base",
       "_view_module_version": "1.2.0",
       "_view_name": "LayoutView",
       "align_content": null,
       "align_items": null,
       "align_self": null,
       "border": null,
       "bottom": null,
       "display": null,
       "flex": null,
       "flex_flow": null,
       "grid_area": null,
       "grid_auto_columns": null,
       "grid_auto_flow": null,
       "grid_auto_rows": null,
       "grid_column": null,
       "grid_gap": null,
       "grid_row": null,
       "grid_template_areas": null,
       "grid_template_columns": null,
       "grid_template_rows": null,
       "height": null,
       "justify_content": null,
       "justify_items": null,
       "left": null,
       "margin": null,
       "max_height": null,
       "max_width": null,
       "min_height": null,
       "min_width": null,
       "object_fit": null,
       "object_position": null,
       "order": null,
       "overflow": null,
       "overflow_x": null,
       "overflow_y": null,
       "padding": null,
       "right": null,
       "top": null,
       "visibility": null,
       "width": null
      }
     },
     "047991fc24554d30a48b8c4e25ad1d66": {
      "model_module": "@jupyter-widgets/base",
      "model_module_version": "1.2.0",
      "model_name": "LayoutModel",
      "state": {
       "_model_module": "@jupyter-widgets/base",
       "_model_module_version": "1.2.0",
       "_model_name": "LayoutModel",
       "_view_count": null,
       "_view_module": "@jupyter-widgets/base",
       "_view_module_version": "1.2.0",
       "_view_name": "LayoutView",
       "align_content": null,
       "align_items": null,
       "align_self": null,
       "border": null,
       "bottom": null,
       "display": null,
       "flex": null,
       "flex_flow": null,
       "grid_area": null,
       "grid_auto_columns": null,
       "grid_auto_flow": null,
       "grid_auto_rows": null,
       "grid_column": null,
       "grid_gap": null,
       "grid_row": null,
       "grid_template_areas": null,
       "grid_template_columns": null,
       "grid_template_rows": null,
       "height": null,
       "justify_content": null,
       "justify_items": null,
       "left": null,
       "margin": null,
       "max_height": null,
       "max_width": null,
       "min_height": null,
       "min_width": null,
       "object_fit": null,
       "object_position": null,
       "order": null,
       "overflow": null,
       "overflow_x": null,
       "overflow_y": null,
       "padding": null,
       "right": null,
       "top": null,
       "visibility": null,
       "width": null
      }
     },
     "07531b48e3e0403b9212c80feb92d6b5": {
      "model_module": "@jupyter-widgets/controls",
      "model_module_version": "1.5.0",
      "model_name": "LabelModel",
      "state": {
       "_dom_classes": [],
       "_model_module": "@jupyter-widgets/controls",
       "_model_module_version": "1.5.0",
       "_model_name": "LabelModel",
       "_view_count": null,
       "_view_module": "@jupyter-widgets/controls",
       "_view_module_version": "1.5.0",
       "_view_name": "LabelView",
       "description": "",
       "description_tooltip": null,
       "layout": "IPY_MODEL_9c814026d47e4f8faa6dc35ea6f3bffa",
       "placeholder": "​",
       "style": "IPY_MODEL_d23ff25622a64332b46fd6b00a7628de",
       "value": " 221.96MB of 221.96MB uploaded (0.00MB deduped)\r"
      }
     },
     "081c1752461641549cf9962b05dade36": {
      "model_module": "@jupyter-widgets/controls",
      "model_module_version": "1.5.0",
      "model_name": "DescriptionStyleModel",
      "state": {
       "_model_module": "@jupyter-widgets/controls",
       "_model_module_version": "1.5.0",
       "_model_name": "DescriptionStyleModel",
       "_view_count": null,
       "_view_module": "@jupyter-widgets/base",
       "_view_module_version": "1.2.0",
       "_view_name": "StyleView",
       "description_width": ""
      }
     },
     "1020c90843b1432fb69c2ff35864639b": {
      "model_module": "@jupyter-widgets/controls",
      "model_module_version": "1.5.0",
      "model_name": "ProgressStyleModel",
      "state": {
       "_model_module": "@jupyter-widgets/controls",
       "_model_module_version": "1.5.0",
       "_model_name": "ProgressStyleModel",
       "_view_count": null,
       "_view_module": "@jupyter-widgets/base",
       "_view_module_version": "1.2.0",
       "_view_name": "StyleView",
       "bar_color": null,
       "description_width": ""
      }
     },
     "17658442177e46579f3d4e61fbd4310f": {
      "model_module": "@jupyter-widgets/base",
      "model_module_version": "1.2.0",
      "model_name": "LayoutModel",
      "state": {
       "_model_module": "@jupyter-widgets/base",
       "_model_module_version": "1.2.0",
       "_model_name": "LayoutModel",
       "_view_count": null,
       "_view_module": "@jupyter-widgets/base",
       "_view_module_version": "1.2.0",
       "_view_name": "LayoutView",
       "align_content": null,
       "align_items": null,
       "align_self": null,
       "border": null,
       "bottom": null,
       "display": null,
       "flex": null,
       "flex_flow": null,
       "grid_area": null,
       "grid_auto_columns": null,
       "grid_auto_flow": null,
       "grid_auto_rows": null,
       "grid_column": null,
       "grid_gap": null,
       "grid_row": null,
       "grid_template_areas": null,
       "grid_template_columns": null,
       "grid_template_rows": null,
       "height": null,
       "justify_content": null,
       "justify_items": null,
       "left": null,
       "margin": null,
       "max_height": null,
       "max_width": null,
       "min_height": null,
       "min_width": null,
       "object_fit": null,
       "object_position": null,
       "order": null,
       "overflow": null,
       "overflow_x": null,
       "overflow_y": null,
       "padding": null,
       "right": null,
       "top": null,
       "visibility": null,
       "width": null
      }
     },
     "1875f137ecd94f0b8f493281fbf998b7": {
      "model_module": "@jupyter-widgets/controls",
      "model_module_version": "1.5.0",
      "model_name": "LabelModel",
      "state": {
       "_dom_classes": [],
       "_model_module": "@jupyter-widgets/controls",
       "_model_module_version": "1.5.0",
       "_model_name": "LabelModel",
       "_view_count": null,
       "_view_module": "@jupyter-widgets/controls",
       "_view_module_version": "1.5.0",
       "_view_name": "LabelView",
       "description": "",
       "description_tooltip": null,
       "layout": "IPY_MODEL_79246a5a766545fc9e826ea8eb0c5c48",
       "placeholder": "​",
       "style": "IPY_MODEL_24e26090b3a841f0866ae5f6c98be077",
       "value": " 0.36MB of 0.36MB uploaded (0.00MB deduped)\r"
      }
     },
     "19e4910ba379414e813d03dbe4693e45": {
      "model_module": "@jupyter-widgets/base",
      "model_module_version": "1.2.0",
      "model_name": "LayoutModel",
      "state": {
       "_model_module": "@jupyter-widgets/base",
       "_model_module_version": "1.2.0",
       "_model_name": "LayoutModel",
       "_view_count": null,
       "_view_module": "@jupyter-widgets/base",
       "_view_module_version": "1.2.0",
       "_view_name": "LayoutView",
       "align_content": null,
       "align_items": null,
       "align_self": null,
       "border": null,
       "bottom": null,
       "display": null,
       "flex": null,
       "flex_flow": null,
       "grid_area": null,
       "grid_auto_columns": null,
       "grid_auto_flow": null,
       "grid_auto_rows": null,
       "grid_column": null,
       "grid_gap": null,
       "grid_row": null,
       "grid_template_areas": null,
       "grid_template_columns": null,
       "grid_template_rows": null,
       "height": null,
       "justify_content": null,
       "justify_items": null,
       "left": null,
       "margin": null,
       "max_height": null,
       "max_width": null,
       "min_height": null,
       "min_width": null,
       "object_fit": null,
       "object_position": null,
       "order": null,
       "overflow": null,
       "overflow_x": null,
       "overflow_y": null,
       "padding": null,
       "right": null,
       "top": null,
       "visibility": null,
       "width": null
      }
     },
     "1f6d039c30a24fb8b3403770d663805c": {
      "model_module": "@jupyter-widgets/base",
      "model_module_version": "1.2.0",
      "model_name": "LayoutModel",
      "state": {
       "_model_module": "@jupyter-widgets/base",
       "_model_module_version": "1.2.0",
       "_model_name": "LayoutModel",
       "_view_count": null,
       "_view_module": "@jupyter-widgets/base",
       "_view_module_version": "1.2.0",
       "_view_name": "LayoutView",
       "align_content": null,
       "align_items": null,
       "align_self": null,
       "border": null,
       "bottom": null,
       "display": null,
       "flex": null,
       "flex_flow": null,
       "grid_area": null,
       "grid_auto_columns": null,
       "grid_auto_flow": null,
       "grid_auto_rows": null,
       "grid_column": null,
       "grid_gap": null,
       "grid_row": null,
       "grid_template_areas": null,
       "grid_template_columns": null,
       "grid_template_rows": null,
       "height": null,
       "justify_content": null,
       "justify_items": null,
       "left": null,
       "margin": null,
       "max_height": null,
       "max_width": null,
       "min_height": null,
       "min_width": null,
       "object_fit": null,
       "object_position": null,
       "order": null,
       "overflow": null,
       "overflow_x": null,
       "overflow_y": null,
       "padding": null,
       "right": null,
       "top": null,
       "visibility": null,
       "width": null
      }
     },
     "24e26090b3a841f0866ae5f6c98be077": {
      "model_module": "@jupyter-widgets/controls",
      "model_module_version": "1.5.0",
      "model_name": "DescriptionStyleModel",
      "state": {
       "_model_module": "@jupyter-widgets/controls",
       "_model_module_version": "1.5.0",
       "_model_name": "DescriptionStyleModel",
       "_view_count": null,
       "_view_module": "@jupyter-widgets/base",
       "_view_module_version": "1.2.0",
       "_view_name": "StyleView",
       "description_width": ""
      }
     },
     "476aba33e3754c89b0df97fefa4a60b7": {
      "model_module": "@jupyter-widgets/controls",
      "model_module_version": "1.5.0",
      "model_name": "ProgressStyleModel",
      "state": {
       "_model_module": "@jupyter-widgets/controls",
       "_model_module_version": "1.5.0",
       "_model_name": "ProgressStyleModel",
       "_view_count": null,
       "_view_module": "@jupyter-widgets/base",
       "_view_module_version": "1.2.0",
       "_view_name": "StyleView",
       "bar_color": null,
       "description_width": ""
      }
     },
     "484ec4ea09e04203883cb39fe50ffc84": {
      "model_module": "@jupyter-widgets/base",
      "model_module_version": "1.2.0",
      "model_name": "LayoutModel",
      "state": {
       "_model_module": "@jupyter-widgets/base",
       "_model_module_version": "1.2.0",
       "_model_name": "LayoutModel",
       "_view_count": null,
       "_view_module": "@jupyter-widgets/base",
       "_view_module_version": "1.2.0",
       "_view_name": "LayoutView",
       "align_content": null,
       "align_items": null,
       "align_self": null,
       "border": null,
       "bottom": null,
       "display": null,
       "flex": null,
       "flex_flow": null,
       "grid_area": null,
       "grid_auto_columns": null,
       "grid_auto_flow": null,
       "grid_auto_rows": null,
       "grid_column": null,
       "grid_gap": null,
       "grid_row": null,
       "grid_template_areas": null,
       "grid_template_columns": null,
       "grid_template_rows": null,
       "height": null,
       "justify_content": null,
       "justify_items": null,
       "left": null,
       "margin": null,
       "max_height": null,
       "max_width": null,
       "min_height": null,
       "min_width": null,
       "object_fit": null,
       "object_position": null,
       "order": null,
       "overflow": null,
       "overflow_x": null,
       "overflow_y": null,
       "padding": null,
       "right": null,
       "top": null,
       "visibility": null,
       "width": null
      }
     },
     "49233151244e4ebd98c89691403bee72": {
      "model_module": "@jupyter-widgets/base",
      "model_module_version": "1.2.0",
      "model_name": "LayoutModel",
      "state": {
       "_model_module": "@jupyter-widgets/base",
       "_model_module_version": "1.2.0",
       "_model_name": "LayoutModel",
       "_view_count": null,
       "_view_module": "@jupyter-widgets/base",
       "_view_module_version": "1.2.0",
       "_view_name": "LayoutView",
       "align_content": null,
       "align_items": null,
       "align_self": null,
       "border": null,
       "bottom": null,
       "display": null,
       "flex": null,
       "flex_flow": null,
       "grid_area": null,
       "grid_auto_columns": null,
       "grid_auto_flow": null,
       "grid_auto_rows": null,
       "grid_column": null,
       "grid_gap": null,
       "grid_row": null,
       "grid_template_areas": null,
       "grid_template_columns": null,
       "grid_template_rows": null,
       "height": null,
       "justify_content": null,
       "justify_items": null,
       "left": null,
       "margin": null,
       "max_height": null,
       "max_width": null,
       "min_height": null,
       "min_width": null,
       "object_fit": null,
       "object_position": null,
       "order": null,
       "overflow": null,
       "overflow_x": null,
       "overflow_y": null,
       "padding": null,
       "right": null,
       "top": null,
       "visibility": null,
       "width": null
      }
     },
     "4c57d33d243d401b8c3d5b03a8889dee": {
      "model_module": "@jupyter-widgets/base",
      "model_module_version": "1.2.0",
      "model_name": "LayoutModel",
      "state": {
       "_model_module": "@jupyter-widgets/base",
       "_model_module_version": "1.2.0",
       "_model_name": "LayoutModel",
       "_view_count": null,
       "_view_module": "@jupyter-widgets/base",
       "_view_module_version": "1.2.0",
       "_view_name": "LayoutView",
       "align_content": null,
       "align_items": null,
       "align_self": null,
       "border": null,
       "bottom": null,
       "display": null,
       "flex": null,
       "flex_flow": null,
       "grid_area": null,
       "grid_auto_columns": null,
       "grid_auto_flow": null,
       "grid_auto_rows": null,
       "grid_column": null,
       "grid_gap": null,
       "grid_row": null,
       "grid_template_areas": null,
       "grid_template_columns": null,
       "grid_template_rows": null,
       "height": null,
       "justify_content": null,
       "justify_items": null,
       "left": null,
       "margin": null,
       "max_height": null,
       "max_width": null,
       "min_height": null,
       "min_width": null,
       "object_fit": null,
       "object_position": null,
       "order": null,
       "overflow": null,
       "overflow_x": null,
       "overflow_y": null,
       "padding": null,
       "right": null,
       "top": null,
       "visibility": null,
       "width": null
      }
     },
     "5571e60f07264e41be189d6617640d0f": {
      "model_module": "@jupyter-widgets/controls",
      "model_module_version": "1.5.0",
      "model_name": "ProgressStyleModel",
      "state": {
       "_model_module": "@jupyter-widgets/controls",
       "_model_module_version": "1.5.0",
       "_model_name": "ProgressStyleModel",
       "_view_count": null,
       "_view_module": "@jupyter-widgets/base",
       "_view_module_version": "1.2.0",
       "_view_name": "StyleView",
       "bar_color": null,
       "description_width": ""
      }
     },
     "592b12465c38484b99c378e425b62273": {
      "model_module": "@jupyter-widgets/controls",
      "model_module_version": "1.5.0",
      "model_name": "LabelModel",
      "state": {
       "_dom_classes": [],
       "_model_module": "@jupyter-widgets/controls",
       "_model_module_version": "1.5.0",
       "_model_name": "LabelModel",
       "_view_count": null,
       "_view_module": "@jupyter-widgets/controls",
       "_view_module_version": "1.5.0",
       "_view_name": "LabelView",
       "description": "",
       "description_tooltip": null,
       "layout": "IPY_MODEL_49233151244e4ebd98c89691403bee72",
       "placeholder": "​",
       "style": "IPY_MODEL_081c1752461641549cf9962b05dade36",
       "value": " 221.96MB of 221.96MB uploaded (0.00MB deduped)\r"
      }
     },
     "60a806fe5173416e9c715fa61cac3db5": {
      "model_module": "@jupyter-widgets/controls",
      "model_module_version": "1.5.0",
      "model_name": "FloatProgressModel",
      "state": {
       "_dom_classes": [],
       "_model_module": "@jupyter-widgets/controls",
       "_model_module_version": "1.5.0",
       "_model_name": "FloatProgressModel",
       "_view_count": null,
       "_view_module": "@jupyter-widgets/controls",
       "_view_module_version": "1.5.0",
       "_view_name": "ProgressView",
       "bar_style": "",
       "description": "",
       "description_tooltip": null,
       "layout": "IPY_MODEL_1f6d039c30a24fb8b3403770d663805c",
       "max": 1,
       "min": 0,
       "orientation": "horizontal",
       "style": "IPY_MODEL_1020c90843b1432fb69c2ff35864639b",
       "value": 1
      }
     },
     "60f6679675c14f7fb681e8a345406dd0": {
      "model_module": "@jupyter-widgets/base",
      "model_module_version": "1.2.0",
      "model_name": "LayoutModel",
      "state": {
       "_model_module": "@jupyter-widgets/base",
       "_model_module_version": "1.2.0",
       "_model_name": "LayoutModel",
       "_view_count": null,
       "_view_module": "@jupyter-widgets/base",
       "_view_module_version": "1.2.0",
       "_view_name": "LayoutView",
       "align_content": null,
       "align_items": null,
       "align_self": null,
       "border": null,
       "bottom": null,
       "display": null,
       "flex": null,
       "flex_flow": null,
       "grid_area": null,
       "grid_auto_columns": null,
       "grid_auto_flow": null,
       "grid_auto_rows": null,
       "grid_column": null,
       "grid_gap": null,
       "grid_row": null,
       "grid_template_areas": null,
       "grid_template_columns": null,
       "grid_template_rows": null,
       "height": null,
       "justify_content": null,
       "justify_items": null,
       "left": null,
       "margin": null,
       "max_height": null,
       "max_width": null,
       "min_height": null,
       "min_width": null,
       "object_fit": null,
       "object_position": null,
       "order": null,
       "overflow": null,
       "overflow_x": null,
       "overflow_y": null,
       "padding": null,
       "right": null,
       "top": null,
       "visibility": null,
       "width": null
      }
     },
     "636f71f1a4b94e749969433cc36c72f3": {
      "model_module": "@jupyter-widgets/controls",
      "model_module_version": "1.5.0",
      "model_name": "VBoxModel",
      "state": {
       "_dom_classes": [],
       "_model_module": "@jupyter-widgets/controls",
       "_model_module_version": "1.5.0",
       "_model_name": "VBoxModel",
       "_view_count": null,
       "_view_module": "@jupyter-widgets/controls",
       "_view_module_version": "1.5.0",
       "_view_name": "VBoxView",
       "box_style": "",
       "children": [
        "IPY_MODEL_814de3c952e84aa59c0801a91c7819d8",
        "IPY_MODEL_7805ec2044404098a5294620b54c24d4"
       ],
       "layout": "IPY_MODEL_60f6679675c14f7fb681e8a345406dd0"
      }
     },
     "6c379cd76cce4df097aac2c17790026e": {
      "model_module": "@jupyter-widgets/controls",
      "model_module_version": "1.5.0",
      "model_name": "DescriptionStyleModel",
      "state": {
       "_model_module": "@jupyter-widgets/controls",
       "_model_module_version": "1.5.0",
       "_model_name": "DescriptionStyleModel",
       "_view_count": null,
       "_view_module": "@jupyter-widgets/base",
       "_view_module_version": "1.2.0",
       "_view_name": "StyleView",
       "description_width": ""
      }
     },
     "6d65f096fd18445abd887410a12ff609": {
      "model_module": "@jupyter-widgets/controls",
      "model_module_version": "1.5.0",
      "model_name": "VBoxModel",
      "state": {
       "_dom_classes": [],
       "_model_module": "@jupyter-widgets/controls",
       "_model_module_version": "1.5.0",
       "_model_name": "VBoxModel",
       "_view_count": null,
       "_view_module": "@jupyter-widgets/controls",
       "_view_module_version": "1.5.0",
       "_view_name": "VBoxView",
       "box_style": "",
       "children": [
        "IPY_MODEL_07531b48e3e0403b9212c80feb92d6b5",
        "IPY_MODEL_e605d41015af42eba49a8487f6219e18"
       ],
       "layout": "IPY_MODEL_17658442177e46579f3d4e61fbd4310f"
      }
     },
     "7805ec2044404098a5294620b54c24d4": {
      "model_module": "@jupyter-widgets/controls",
      "model_module_version": "1.5.0",
      "model_name": "FloatProgressModel",
      "state": {
       "_dom_classes": [],
       "_model_module": "@jupyter-widgets/controls",
       "_model_module_version": "1.5.0",
       "_model_name": "FloatProgressModel",
       "_view_count": null,
       "_view_module": "@jupyter-widgets/controls",
       "_view_module_version": "1.5.0",
       "_view_name": "ProgressView",
       "bar_style": "",
       "description": "",
       "description_tooltip": null,
       "layout": "IPY_MODEL_9f655220a3ae469197f9f855c67cad4a",
       "max": 1,
       "min": 0,
       "orientation": "horizontal",
       "style": "IPY_MODEL_476aba33e3754c89b0df97fefa4a60b7",
       "value": 1
      }
     },
     "79246a5a766545fc9e826ea8eb0c5c48": {
      "model_module": "@jupyter-widgets/base",
      "model_module_version": "1.2.0",
      "model_name": "LayoutModel",
      "state": {
       "_model_module": "@jupyter-widgets/base",
       "_model_module_version": "1.2.0",
       "_model_name": "LayoutModel",
       "_view_count": null,
       "_view_module": "@jupyter-widgets/base",
       "_view_module_version": "1.2.0",
       "_view_name": "LayoutView",
       "align_content": null,
       "align_items": null,
       "align_self": null,
       "border": null,
       "bottom": null,
       "display": null,
       "flex": null,
       "flex_flow": null,
       "grid_area": null,
       "grid_auto_columns": null,
       "grid_auto_flow": null,
       "grid_auto_rows": null,
       "grid_column": null,
       "grid_gap": null,
       "grid_row": null,
       "grid_template_areas": null,
       "grid_template_columns": null,
       "grid_template_rows": null,
       "height": null,
       "justify_content": null,
       "justify_items": null,
       "left": null,
       "margin": null,
       "max_height": null,
       "max_width": null,
       "min_height": null,
       "min_width": null,
       "object_fit": null,
       "object_position": null,
       "order": null,
       "overflow": null,
       "overflow_x": null,
       "overflow_y": null,
       "padding": null,
       "right": null,
       "top": null,
       "visibility": null,
       "width": null
      }
     },
     "814de3c952e84aa59c0801a91c7819d8": {
      "model_module": "@jupyter-widgets/controls",
      "model_module_version": "1.5.0",
      "model_name": "LabelModel",
      "state": {
       "_dom_classes": [],
       "_model_module": "@jupyter-widgets/controls",
       "_model_module_version": "1.5.0",
       "_model_name": "LabelModel",
       "_view_count": null,
       "_view_module": "@jupyter-widgets/controls",
       "_view_module_version": "1.5.0",
       "_view_name": "LabelView",
       "description": "",
       "description_tooltip": null,
       "layout": "IPY_MODEL_484ec4ea09e04203883cb39fe50ffc84",
       "placeholder": "​",
       "style": "IPY_MODEL_6c379cd76cce4df097aac2c17790026e",
       "value": " 221.96MB of 221.96MB uploaded (0.00MB deduped)\r"
      }
     },
     "877401e8759a4b91a612369657d2d17c": {
      "model_module": "@jupyter-widgets/controls",
      "model_module_version": "1.5.0",
      "model_name": "ProgressStyleModel",
      "state": {
       "_model_module": "@jupyter-widgets/controls",
       "_model_module_version": "1.5.0",
       "_model_name": "ProgressStyleModel",
       "_view_count": null,
       "_view_module": "@jupyter-widgets/base",
       "_view_module_version": "1.2.0",
       "_view_name": "StyleView",
       "bar_color": null,
       "description_width": ""
      }
     },
     "8cebda47a46742d2b431e1e7a1a67415": {
      "model_module": "@jupyter-widgets/base",
      "model_module_version": "1.2.0",
      "model_name": "LayoutModel",
      "state": {
       "_model_module": "@jupyter-widgets/base",
       "_model_module_version": "1.2.0",
       "_model_name": "LayoutModel",
       "_view_count": null,
       "_view_module": "@jupyter-widgets/base",
       "_view_module_version": "1.2.0",
       "_view_name": "LayoutView",
       "align_content": null,
       "align_items": null,
       "align_self": null,
       "border": null,
       "bottom": null,
       "display": null,
       "flex": null,
       "flex_flow": null,
       "grid_area": null,
       "grid_auto_columns": null,
       "grid_auto_flow": null,
       "grid_auto_rows": null,
       "grid_column": null,
       "grid_gap": null,
       "grid_row": null,
       "grid_template_areas": null,
       "grid_template_columns": null,
       "grid_template_rows": null,
       "height": null,
       "justify_content": null,
       "justify_items": null,
       "left": null,
       "margin": null,
       "max_height": null,
       "max_width": null,
       "min_height": null,
       "min_width": null,
       "object_fit": null,
       "object_position": null,
       "order": null,
       "overflow": null,
       "overflow_x": null,
       "overflow_y": null,
       "padding": null,
       "right": null,
       "top": null,
       "visibility": null,
       "width": null
      }
     },
     "90adb54782bb4721befc685b12c47097": {
      "model_module": "@jupyter-widgets/controls",
      "model_module_version": "1.5.0",
      "model_name": "FloatProgressModel",
      "state": {
       "_dom_classes": [],
       "_model_module": "@jupyter-widgets/controls",
       "_model_module_version": "1.5.0",
       "_model_name": "FloatProgressModel",
       "_view_count": null,
       "_view_module": "@jupyter-widgets/controls",
       "_view_module_version": "1.5.0",
       "_view_name": "ProgressView",
       "bar_style": "",
       "description": "",
       "description_tooltip": null,
       "layout": "IPY_MODEL_97ab0055ca574279a66bf1b79ef4113c",
       "max": 1,
       "min": 0,
       "orientation": "horizontal",
       "style": "IPY_MODEL_877401e8759a4b91a612369657d2d17c",
       "value": 1
      }
     },
     "97ab0055ca574279a66bf1b79ef4113c": {
      "model_module": "@jupyter-widgets/base",
      "model_module_version": "1.2.0",
      "model_name": "LayoutModel",
      "state": {
       "_model_module": "@jupyter-widgets/base",
       "_model_module_version": "1.2.0",
       "_model_name": "LayoutModel",
       "_view_count": null,
       "_view_module": "@jupyter-widgets/base",
       "_view_module_version": "1.2.0",
       "_view_name": "LayoutView",
       "align_content": null,
       "align_items": null,
       "align_self": null,
       "border": null,
       "bottom": null,
       "display": null,
       "flex": null,
       "flex_flow": null,
       "grid_area": null,
       "grid_auto_columns": null,
       "grid_auto_flow": null,
       "grid_auto_rows": null,
       "grid_column": null,
       "grid_gap": null,
       "grid_row": null,
       "grid_template_areas": null,
       "grid_template_columns": null,
       "grid_template_rows": null,
       "height": null,
       "justify_content": null,
       "justify_items": null,
       "left": null,
       "margin": null,
       "max_height": null,
       "max_width": null,
       "min_height": null,
       "min_width": null,
       "object_fit": null,
       "object_position": null,
       "order": null,
       "overflow": null,
       "overflow_x": null,
       "overflow_y": null,
       "padding": null,
       "right": null,
       "top": null,
       "visibility": null,
       "width": null
      }
     },
     "9a380acb7cf64c66808133fe04d47995": {
      "model_module": "@jupyter-widgets/controls",
      "model_module_version": "1.5.0",
      "model_name": "ProgressStyleModel",
      "state": {
       "_model_module": "@jupyter-widgets/controls",
       "_model_module_version": "1.5.0",
       "_model_name": "ProgressStyleModel",
       "_view_count": null,
       "_view_module": "@jupyter-widgets/base",
       "_view_module_version": "1.2.0",
       "_view_name": "StyleView",
       "bar_color": null,
       "description_width": ""
      }
     },
     "9c814026d47e4f8faa6dc35ea6f3bffa": {
      "model_module": "@jupyter-widgets/base",
      "model_module_version": "1.2.0",
      "model_name": "LayoutModel",
      "state": {
       "_model_module": "@jupyter-widgets/base",
       "_model_module_version": "1.2.0",
       "_model_name": "LayoutModel",
       "_view_count": null,
       "_view_module": "@jupyter-widgets/base",
       "_view_module_version": "1.2.0",
       "_view_name": "LayoutView",
       "align_content": null,
       "align_items": null,
       "align_self": null,
       "border": null,
       "bottom": null,
       "display": null,
       "flex": null,
       "flex_flow": null,
       "grid_area": null,
       "grid_auto_columns": null,
       "grid_auto_flow": null,
       "grid_auto_rows": null,
       "grid_column": null,
       "grid_gap": null,
       "grid_row": null,
       "grid_template_areas": null,
       "grid_template_columns": null,
       "grid_template_rows": null,
       "height": null,
       "justify_content": null,
       "justify_items": null,
       "left": null,
       "margin": null,
       "max_height": null,
       "max_width": null,
       "min_height": null,
       "min_width": null,
       "object_fit": null,
       "object_position": null,
       "order": null,
       "overflow": null,
       "overflow_x": null,
       "overflow_y": null,
       "padding": null,
       "right": null,
       "top": null,
       "visibility": null,
       "width": null
      }
     },
     "9efa089129004e08adb90744262f3880": {
      "model_module": "@jupyter-widgets/controls",
      "model_module_version": "1.5.0",
      "model_name": "VBoxModel",
      "state": {
       "_dom_classes": [],
       "_model_module": "@jupyter-widgets/controls",
       "_model_module_version": "1.5.0",
       "_model_name": "VBoxModel",
       "_view_count": null,
       "_view_module": "@jupyter-widgets/controls",
       "_view_module_version": "1.5.0",
       "_view_name": "VBoxView",
       "box_style": "",
       "children": [
        "IPY_MODEL_592b12465c38484b99c378e425b62273",
        "IPY_MODEL_abd965dc14e940509550b3aba6742802"
       ],
       "layout": "IPY_MODEL_047991fc24554d30a48b8c4e25ad1d66"
      }
     },
     "9f655220a3ae469197f9f855c67cad4a": {
      "model_module": "@jupyter-widgets/base",
      "model_module_version": "1.2.0",
      "model_name": "LayoutModel",
      "state": {
       "_model_module": "@jupyter-widgets/base",
       "_model_module_version": "1.2.0",
       "_model_name": "LayoutModel",
       "_view_count": null,
       "_view_module": "@jupyter-widgets/base",
       "_view_module_version": "1.2.0",
       "_view_name": "LayoutView",
       "align_content": null,
       "align_items": null,
       "align_self": null,
       "border": null,
       "bottom": null,
       "display": null,
       "flex": null,
       "flex_flow": null,
       "grid_area": null,
       "grid_auto_columns": null,
       "grid_auto_flow": null,
       "grid_auto_rows": null,
       "grid_column": null,
       "grid_gap": null,
       "grid_row": null,
       "grid_template_areas": null,
       "grid_template_columns": null,
       "grid_template_rows": null,
       "height": null,
       "justify_content": null,
       "justify_items": null,
       "left": null,
       "margin": null,
       "max_height": null,
       "max_width": null,
       "min_height": null,
       "min_width": null,
       "object_fit": null,
       "object_position": null,
       "order": null,
       "overflow": null,
       "overflow_x": null,
       "overflow_y": null,
       "padding": null,
       "right": null,
       "top": null,
       "visibility": null,
       "width": null
      }
     },
     "abd965dc14e940509550b3aba6742802": {
      "model_module": "@jupyter-widgets/controls",
      "model_module_version": "1.5.0",
      "model_name": "FloatProgressModel",
      "state": {
       "_dom_classes": [],
       "_model_module": "@jupyter-widgets/controls",
       "_model_module_version": "1.5.0",
       "_model_name": "FloatProgressModel",
       "_view_count": null,
       "_view_module": "@jupyter-widgets/controls",
       "_view_module_version": "1.5.0",
       "_view_name": "ProgressView",
       "bar_style": "",
       "description": "",
       "description_tooltip": null,
       "layout": "IPY_MODEL_4c57d33d243d401b8c3d5b03a8889dee",
       "max": 1,
       "min": 0,
       "orientation": "horizontal",
       "style": "IPY_MODEL_5571e60f07264e41be189d6617640d0f",
       "value": 1
      }
     },
     "c13db3e9bd5a47999cb773277324a05c": {
      "model_module": "@jupyter-widgets/controls",
      "model_module_version": "1.5.0",
      "model_name": "DescriptionStyleModel",
      "state": {
       "_model_module": "@jupyter-widgets/controls",
       "_model_module_version": "1.5.0",
       "_model_name": "DescriptionStyleModel",
       "_view_count": null,
       "_view_module": "@jupyter-widgets/base",
       "_view_module_version": "1.2.0",
       "_view_name": "StyleView",
       "description_width": ""
      }
     },
     "d23ff25622a64332b46fd6b00a7628de": {
      "model_module": "@jupyter-widgets/controls",
      "model_module_version": "1.5.0",
      "model_name": "DescriptionStyleModel",
      "state": {
       "_model_module": "@jupyter-widgets/controls",
       "_model_module_version": "1.5.0",
       "_model_name": "DescriptionStyleModel",
       "_view_count": null,
       "_view_module": "@jupyter-widgets/base",
       "_view_module_version": "1.2.0",
       "_view_name": "StyleView",
       "description_width": ""
      }
     },
     "e605d41015af42eba49a8487f6219e18": {
      "model_module": "@jupyter-widgets/controls",
      "model_module_version": "1.5.0",
      "model_name": "FloatProgressModel",
      "state": {
       "_dom_classes": [],
       "_model_module": "@jupyter-widgets/controls",
       "_model_module_version": "1.5.0",
       "_model_name": "FloatProgressModel",
       "_view_count": null,
       "_view_module": "@jupyter-widgets/controls",
       "_view_module_version": "1.5.0",
       "_view_name": "ProgressView",
       "bar_style": "",
       "description": "",
       "description_tooltip": null,
       "layout": "IPY_MODEL_03b5bb96e4534bc6b76f99d92217bd0f",
       "max": 1,
       "min": 0,
       "orientation": "horizontal",
       "style": "IPY_MODEL_9a380acb7cf64c66808133fe04d47995",
       "value": 1
      }
     },
     "e6a13637cf894a6f99847b26c84997f4": {
      "model_module": "@jupyter-widgets/base",
      "model_module_version": "1.2.0",
      "model_name": "LayoutModel",
      "state": {
       "_model_module": "@jupyter-widgets/base",
       "_model_module_version": "1.2.0",
       "_model_name": "LayoutModel",
       "_view_count": null,
       "_view_module": "@jupyter-widgets/base",
       "_view_module_version": "1.2.0",
       "_view_name": "LayoutView",
       "align_content": null,
       "align_items": null,
       "align_self": null,
       "border": null,
       "bottom": null,
       "display": null,
       "flex": null,
       "flex_flow": null,
       "grid_area": null,
       "grid_auto_columns": null,
       "grid_auto_flow": null,
       "grid_auto_rows": null,
       "grid_column": null,
       "grid_gap": null,
       "grid_row": null,
       "grid_template_areas": null,
       "grid_template_columns": null,
       "grid_template_rows": null,
       "height": null,
       "justify_content": null,
       "justify_items": null,
       "left": null,
       "margin": null,
       "max_height": null,
       "max_width": null,
       "min_height": null,
       "min_width": null,
       "object_fit": null,
       "object_position": null,
       "order": null,
       "overflow": null,
       "overflow_x": null,
       "overflow_y": null,
       "padding": null,
       "right": null,
       "top": null,
       "visibility": null,
       "width": null
      }
     },
     "e8ae188793184cf99f19057563e3c8c9": {
      "model_module": "@jupyter-widgets/controls",
      "model_module_version": "1.5.0",
      "model_name": "VBoxModel",
      "state": {
       "_dom_classes": [],
       "_model_module": "@jupyter-widgets/controls",
       "_model_module_version": "1.5.0",
       "_model_name": "VBoxModel",
       "_view_count": null,
       "_view_module": "@jupyter-widgets/controls",
       "_view_module_version": "1.5.0",
       "_view_name": "VBoxView",
       "box_style": "",
       "children": [
        "IPY_MODEL_eeafbb611f0144889d5ceb5d26db9e9a",
        "IPY_MODEL_90adb54782bb4721befc685b12c47097"
       ],
       "layout": "IPY_MODEL_19e4910ba379414e813d03dbe4693e45"
      }
     },
     "eeafbb611f0144889d5ceb5d26db9e9a": {
      "model_module": "@jupyter-widgets/controls",
      "model_module_version": "1.5.0",
      "model_name": "LabelModel",
      "state": {
       "_dom_classes": [],
       "_model_module": "@jupyter-widgets/controls",
       "_model_module_version": "1.5.0",
       "_model_name": "LabelModel",
       "_view_count": null,
       "_view_module": "@jupyter-widgets/controls",
       "_view_module_version": "1.5.0",
       "_view_name": "LabelView",
       "description": "",
       "description_tooltip": null,
       "layout": "IPY_MODEL_e6a13637cf894a6f99847b26c84997f4",
       "placeholder": "​",
       "style": "IPY_MODEL_c13db3e9bd5a47999cb773277324a05c",
       "value": " 221.96MB of 221.96MB uploaded (0.00MB deduped)\r"
      }
     },
     "fb2e929a89164e8c9fe082be9377de97": {
      "model_module": "@jupyter-widgets/controls",
      "model_module_version": "1.5.0",
      "model_name": "VBoxModel",
      "state": {
       "_dom_classes": [],
       "_model_module": "@jupyter-widgets/controls",
       "_model_module_version": "1.5.0",
       "_model_name": "VBoxModel",
       "_view_count": null,
       "_view_module": "@jupyter-widgets/controls",
       "_view_module_version": "1.5.0",
       "_view_name": "VBoxView",
       "box_style": "",
       "children": [
        "IPY_MODEL_1875f137ecd94f0b8f493281fbf998b7",
        "IPY_MODEL_60a806fe5173416e9c715fa61cac3db5"
       ],
       "layout": "IPY_MODEL_8cebda47a46742d2b431e1e7a1a67415"
      }
     }
    },
    "version_major": 2,
    "version_minor": 0
   }
  }
 },
 "nbformat": 4,
 "nbformat_minor": 4
}
