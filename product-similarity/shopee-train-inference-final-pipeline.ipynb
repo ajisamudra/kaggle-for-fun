{
 "cells": [
  {
   "cell_type": "code",
   "execution_count": 1,
   "metadata": {
    "_cell_guid": "b1076dfc-b9ad-4769-8c92-a6c4dae69d19",
    "_uuid": "8f2839f25d086af736a60e9eeb907d3b93b6e0e5",
    "execution": {
     "iopub.execute_input": "2020-12-01T07:12:33.738729Z",
     "iopub.status.busy": "2020-12-01T07:12:33.737920Z",
     "iopub.status.idle": "2020-12-01T07:12:41.423090Z",
     "shell.execute_reply": "2020-12-01T07:12:41.422361Z"
    },
    "papermill": {
     "duration": 7.724082,
     "end_time": "2020-12-01T07:12:41.423253",
     "exception": false,
     "start_time": "2020-12-01T07:12:33.699171",
     "status": "completed"
    },
    "tags": []
   },
   "outputs": [],
   "source": [
    "import numpy as np # linear algebra\n",
    "import pandas as pd # data processing, CSV file I/O (e.g. pd.read_csv)\n",
    "import cv2\n",
    "import os\n",
    "import matplotlib.pyplot as plt\n",
    "import tensorflow as tf\n",
    "from tensorflow import keras\n",
    "\n",
    "# Model Evaluation\n",
    "from sklearn.model_selection import train_test_split\n",
    "from sklearn.model_selection import StratifiedKFold\n",
    "from sklearn.metrics import f1_score, roc_auc_score\n",
    "\n",
    "# Image Data Generator\n",
    "from keras.preprocessing.image import ImageDataGenerator\n",
    "\n",
    "# Kaggle dataset\n",
    "from kaggle_datasets import KaggleDatasets\n",
    "\n",
    "# Pre-trained\n",
    "from tensorflow.keras.applications import DenseNet201, Xception\n",
    "\n",
    "# Keras components\n",
    "from keras.models import Model, Sequential\n",
    "from keras.layers.core import Lambda, Flatten, Dense\n",
    "from keras.layers import Input, Reshape, Concatenate, Conv2D, MaxPooling2D\n",
    "from keras.layers import BatchNormalization, Dropout, GlobalMaxPooling2D, GlobalAvgPool2D\n",
    "from keras.layers import Subtract, Multiply\n",
    "from keras.optimizers import Adam\n",
    "from keras.models import load_model\n",
    "from keras.utils import to_categorical\n",
    "\n",
    "# For tf.dataset\n",
    "AUTO = tf.data.experimental.AUTOTUNE\n",
    "\n",
    "# # Experiment tracking using Weights and Biases\n",
    "# import wandb\n",
    "# from wandb.keras import WandbCallback\n",
    "\n",
    "# for error\n",
    "# https://stackoverflow.com/questions/12984426/python-pil-ioerror-image-file-truncated-with-big-images\n",
    "from PIL import ImageFile\n",
    "ImageFile.LOAD_TRUNCATED_IMAGES = True"
   ]
  },
  {
   "cell_type": "code",
   "execution_count": 2,
   "metadata": {
    "execution": {
     "iopub.execute_input": "2020-12-01T07:12:41.576687Z",
     "iopub.status.busy": "2020-12-01T07:12:41.495169Z",
     "iopub.status.idle": "2020-12-01T07:12:45.668729Z",
     "shell.execute_reply": "2020-12-01T07:12:45.667989Z"
    },
    "papermill": {
     "duration": 4.22004,
     "end_time": "2020-12-01T07:12:45.668851",
     "exception": false,
     "start_time": "2020-12-01T07:12:41.448811",
     "status": "completed"
    },
    "tags": []
   },
   "outputs": [
    {
     "name": "stdout",
     "output_type": "stream",
     "text": [
      "Running on TPU  grpc://10.0.0.2:8470\n",
      "REPLICAS:  8\n",
      "64\n"
     ]
    }
   ],
   "source": [
    "# TPU setting\n",
    "try:\n",
    "    # TPU detection. No parameters necessary if TPU_NAME environment variable is\n",
    "    # set: this is always the case on Kaggle.\n",
    "    tpu = tf.distribute.cluster_resolver.TPUClusterResolver()\n",
    "    print('Running on TPU ', tpu.master())\n",
    "except ValueError:\n",
    "    tpu = None\n",
    "\n",
    "if tpu:\n",
    "    tf.config.experimental_connect_to_cluster(tpu)\n",
    "    tf.tpu.experimental.initialize_tpu_system(tpu)\n",
    "    strategy = tf.distribute.experimental.TPUStrategy(tpu)\n",
    "else:\n",
    "    # Default distribution strategy in Tensorflow. Works on CPU and single GPU.\n",
    "    strategy = tf.distribute.get_strategy()\n",
    "\n",
    "print(\"REPLICAS: \", strategy.num_replicas_in_sync)\n",
    "\n",
    "# Configuration\n",
    "BATCH_SIZE = 8 * strategy.num_replicas_in_sync\n",
    "print(BATCH_SIZE)"
   ]
  },
  {
   "cell_type": "markdown",
   "metadata": {
    "papermill": {
     "duration": 0.024701,
     "end_time": "2020-12-01T07:12:45.718888",
     "exception": false,
     "start_time": "2020-12-01T07:12:45.694187",
     "status": "completed"
    },
    "tags": []
   },
   "source": [
    "### Pipeline: Training All Training Samples"
   ]
  },
  {
   "cell_type": "code",
   "execution_count": 3,
   "metadata": {
    "execution": {
     "iopub.execute_input": "2020-12-01T07:12:45.781722Z",
     "iopub.status.busy": "2020-12-01T07:12:45.780925Z",
     "iopub.status.idle": "2020-12-01T07:12:46.314786Z",
     "shell.execute_reply": "2020-12-01T07:12:46.313963Z"
    },
    "papermill": {
     "duration": 0.569623,
     "end_time": "2020-12-01T07:12:46.314937",
     "exception": false,
     "start_time": "2020-12-01T07:12:45.745314",
     "status": "completed"
    },
    "tags": []
   },
   "outputs": [],
   "source": [
    "# Get Images path and labels\n",
    "\n",
    "# Data access\n",
    "GCS_DS_PATH = KaggleDatasets().get_gcs_path(\"product-matching-id-ndsc-2020\")\n",
    "\n",
    "def get_images_path_and_labels(df, path, get_label=True):\n",
    "    image1_paths = []\n",
    "    image2_paths = []\n",
    "    labels = []\n",
    "\n",
    "    image1_paths = df.image_1.apply(lambda x: '{}/{}/{}/{}'.format(GCS_DS_PATH, path, path, x)).tolist()\n",
    "    image2_paths = df.image_2.apply(lambda x: '{}/{}/{}/{}'.format(GCS_DS_PATH, path, path, x)).tolist()\n",
    "    \n",
    "    if get_label:\n",
    "        labels = df.Label.tolist()\n",
    "        return image1_paths, image2_paths, labels\n",
    "    else:\n",
    "        return image1_paths, image2_paths, [0] * len(image1_paths)"
   ]
  },
  {
   "cell_type": "code",
   "execution_count": 4,
   "metadata": {
    "execution": {
     "iopub.execute_input": "2020-12-01T07:12:46.524502Z",
     "iopub.status.busy": "2020-12-01T07:12:46.523396Z",
     "iopub.status.idle": "2020-12-01T07:12:46.527032Z",
     "shell.execute_reply": "2020-12-01T07:12:46.526284Z"
    },
    "papermill": {
     "duration": 0.187034,
     "end_time": "2020-12-01T07:12:46.527154",
     "exception": false,
     "start_time": "2020-12-01T07:12:46.340120",
     "status": "completed"
    },
    "tags": []
   },
   "outputs": [],
   "source": [
    "# Functions to calculate metrics\n",
    "from keras import backend as K\n",
    "\n",
    "def cosine_distance(vests):\n",
    "    x, y = vests\n",
    "    x = K.l2_normalize(x, axis=-1)\n",
    "    y = K.l2_normalize(y, axis=-1)\n",
    "    return -K.mean(x * y, axis=-1, keepdims=True)\n",
    "\n",
    "def cos_dist_output_shape(shapes):\n",
    "    shape1, shape2 = shapes\n",
    "    return (shape1[0],1)\n",
    "\n",
    "def exponent_neg_manhattan_distance(vests):\n",
    "    ''' Helper function for the similarity estimate of the two vectors'''\n",
    "    x, y = vests\n",
    "    return K.exp(-K.sum(K.abs(x - y), axis=1, keepdims=True))\n",
    "\n",
    "def manhattan_distance(vests):\n",
    "    ''' Helper function for the similarity estimate of the two vectors'''\n",
    "    x, y = vests\n",
    "    return K.sum(K.abs(x - y), axis=1, keepdims=True)\n",
    "\n",
    "def dist_output_shape(shapes):\n",
    "    shape1, shape2 = shapes\n",
    "    return (shape1[0],1)\n",
    "\n",
    "def recall_m(y_true, y_pred):\n",
    "    true_positives = K.sum(K.round(K.clip(y_true * y_pred, 0, 1)))\n",
    "    possible_positives = K.sum(K.round(K.clip(y_true, 0, 1)))\n",
    "    recall = true_positives / (possible_positives + K.epsilon())\n",
    "    return recall\n",
    "\n",
    "def precision_m(y_true, y_pred):\n",
    "    true_positives = K.sum(K.round(K.clip(y_true * y_pred, 0, 1)))\n",
    "    predicted_positives = K.sum(K.round(K.clip(y_pred, 0, 1)))\n",
    "    precision = true_positives / (predicted_positives + K.epsilon())\n",
    "    return precision\n",
    "\n",
    "def f1_m(y_true, y_pred):\n",
    "    precision = precision_m(y_true, y_pred)\n",
    "    recall = recall_m(y_true, y_pred)\n",
    "    return 2*((precision*recall)/(precision+recall+K.epsilon()))"
   ]
  },
  {
   "cell_type": "markdown",
   "metadata": {
    "papermill": {
     "duration": 0.025156,
     "end_time": "2020-12-01T07:12:46.577772",
     "exception": false,
     "start_time": "2020-12-01T07:12:46.552616",
     "status": "completed"
    },
    "tags": []
   },
   "source": [
    "### Define Model"
   ]
  },
  {
   "cell_type": "code",
   "execution_count": 5,
   "metadata": {
    "execution": {
     "iopub.execute_input": "2020-12-01T07:12:46.662751Z",
     "iopub.status.busy": "2020-12-01T07:12:46.661845Z",
     "iopub.status.idle": "2020-12-01T07:12:46.917764Z",
     "shell.execute_reply": "2020-12-01T07:12:46.918327Z"
    },
    "papermill": {
     "duration": 0.315534,
     "end_time": "2020-12-01T07:12:46.918491",
     "exception": false,
     "start_time": "2020-12-01T07:12:46.602957",
     "status": "completed"
    },
    "tags": []
   },
   "outputs": [
    {
     "data": {
      "image/png": "[encoded data removed]",
      "text/plain": [
       "<Figure size 432x288 with 1 Axes>"
      ]
     },
     "metadata": {
      "needs_background": "light"
     },
     "output_type": "display_data"
    },
    {
     "name": "stdout",
     "output_type": "stream",
     "text": [
      "[1e-05, 0.0005090000000000001, 0.0010080000000000002, 0.0015070000000000003, 0.0020060000000000004, 0.0025050000000000007, 0.0030040000000000006, 0.0035030000000000005, 0.004002, 0.004501000000000001, 0.005, 0.00475, 0.0045125, 0.004286875, 0.00407253125, 0.003868904687499999, 0.003675459453124999, 0.003491686480468749, 0.0033171021564453113, 0.0031512470486230455, 0.0029936846961918936, 0.0028440004613822984, 0.0027018004383131834, 0.002566710416397524, 0.0024383748955776477, 0.002316456150798765, 0.0022006333432588268, 0.0020906016760958855, 0.001986071592291091, 0.0018867680126765363, 0.0017924296120427094]\n"
     ]
    }
   ],
   "source": [
    "# Model Parameter\n",
    "# Configuration\n",
    "BATCH_SIZE = 8 * strategy.num_replicas_in_sync\n",
    "IMAGE_CHANNELS = 3\n",
    "DIM = 299\n",
    "IMAGE_SIZE = (DIM, DIM)\n",
    "EMBEDDING_SIZE = 128\n",
    "COEF_SMOOTHING = 0.1\n",
    "COEF_DROPOUT = 0.01\n",
    "NUM_FOLDS = 4\n",
    "\n",
    "# CUSTOM LEARNING SCHEUDLE\n",
    "# # Xception\n",
    "# EPOCH = 15\n",
    "# SUSTAIN_EPOCHS = 1\n",
    "# LR_START = 1e-5\n",
    "# LR_MAX = 1e-3\n",
    "# LR_RAMPUP_EPOCHS = 8\n",
    "# LR_SUSTAIN_EPOCHS = 0\n",
    "# LR_STEP_DECAY = 0.8\n",
    "\n",
    "# DenseNet201\n",
    "EPOCH = 30\n",
    "SUSTAIN_EPOCHS = 1\n",
    "LR_START = 1e-5\n",
    "LR_MAX = 5e-3\n",
    "LR_RAMPUP_EPOCHS = 10\n",
    "LR_SUSTAIN_EPOCHS = 0\n",
    "LR_STEP_DECAY = 0.95\n",
    "\n",
    "# Define model and Scheduler Learning Rate\n",
    "def get_model():\n",
    "    with strategy.scope():\n",
    "        input_shape = (2, DIM, DIM, IMAGE_CHANNELS)\n",
    "        first_input = Input(input_shape)\n",
    "\n",
    "        # slice the tensor of 2 images\n",
    "        input_1 = Lambda( lambda x: tf.reshape(tf.slice( x, [0,0,0,0,0], [-1, 1, DIM, DIM, IMAGE_CHANNELS]), shape=(-1, DIM, DIM, IMAGE_CHANNELS)) )(first_input)\n",
    "        input_2 = Lambda( lambda x: tf.reshape(tf.slice( x, [0,1,0,0,0], [-1, 1, DIM, DIM, IMAGE_CHANNELS]), shape=(-1, DIM, DIM, IMAGE_CHANNELS)) )(first_input)\n",
    "        \n",
    "        # MAKE SURE THE BASE MODEL CORRECT\n",
    "        base_model = DenseNet201(weights='imagenet', include_top=False, input_shape=(DIM, DIM, IMAGE_CHANNELS))\n",
    "\n",
    "        x1 = base_model(input_1)\n",
    "        x2 = base_model(input_2)\n",
    "\n",
    "#         x1 = Concatenate(axis=-1)([GlobalMaxPooling2D()(x1), GlobalAvgPool2D()(x1)]) # concatenating max pool and avg pool\n",
    "#         x2 = Concatenate(axis=-1)([GlobalMaxPooling2D()(x2), GlobalAvgPool2D()(x2)])\n",
    "\n",
    "        x1_max = GlobalMaxPooling2D()(x1) # pooling max\n",
    "        x2_max = GlobalMaxPooling2D()(x2)\n",
    "\n",
    "        x1_avg = GlobalAvgPool2D()(x1) # pooling avg\n",
    "        x2_avg = GlobalAvgPool2D()(x2)\n",
    "        \n",
    "        x3_max = Lambda(cosine_distance, output_shape=cos_dist_output_shape)([x1_max, x2_max]) # calculate cosine distance between input1 and input2\n",
    "        x4_max = Lambda(exponent_neg_manhattan_distance, output_shape=dist_output_shape)([x1_max, x2_max]) # calculate exp negative manhattan distance between input1 and input2\n",
    "        x5_max = Lambda(manhattan_distance, output_shape=dist_output_shape)([x1_max, x2_max]) # calculate manhattan distance between input1 and input2\n",
    "\n",
    "        x3_avg = Lambda(cosine_distance, output_shape=cos_dist_output_shape)([x1_avg, x2_avg])\n",
    "        x4_avg = Lambda(exponent_neg_manhattan_distance, output_shape=dist_output_shape)([x1_avg, x2_avg])\n",
    "        x5_avg = Lambda(manhattan_distance, output_shape=dist_output_shape)([x1_avg, x2_avg])\n",
    "\n",
    "#         x3 = Lambda(cosine_distance, output_shape=cos_dist_output_shape)([x1, x2])\n",
    "#         x4 = Lambda(exponent_neg_manhattan_distance, output_shape=dist_output_shape)([x1, x2])\n",
    "#         x5 = Lambda(manhattan_distance, output_shape=dist_output_shape)([x1, x2])\n",
    "\n",
    "        x = Concatenate(axis=-1)([x3_max, x4_max, x5_max, x3_avg, x4_avg, x5_avg])\n",
    "    \n",
    "#         x = Dense(EMBEDDING_SIZE, activation='relu')(x)\n",
    "#         x = Dropout(COEF_DROPOUT)(x)\n",
    "        \n",
    "        out = Dense(1, activation='sigmoid')(x)\n",
    "\n",
    "        model = Model(first_input, out)\n",
    "        model.compile(loss= tf.keras.losses.BinaryCrossentropy(label_smoothing = COEF_SMOOTHING), \n",
    "                      metrics=['acc', f1_m], optimizer= Adam(learning_rate = LR_START))\n",
    "#         model.summary()\n",
    "    return model\n",
    "\n",
    "def learning_rate_function(epoch):\n",
    "    if epoch < LR_RAMPUP_EPOCHS:\n",
    "        lr = (LR_MAX - LR_START) / LR_RAMPUP_EPOCHS * epoch + LR_START\n",
    "    elif epoch < LR_RAMPUP_EPOCHS + LR_SUSTAIN_EPOCHS:\n",
    "        lr = LR_MAX\n",
    "    else:\n",
    "        lr = LR_MAX * LR_STEP_DECAY**((epoch - LR_RAMPUP_EPOCHS - LR_SUSTAIN_EPOCHS)//SUSTAIN_EPOCHS)\n",
    "    return lr\n",
    "    \n",
    "learning_rate_scheduler = tf.keras.callbacks.LearningRateScheduler(learning_rate_function, verbose = True)\n",
    "\n",
    "# Plotting learning rate curve\n",
    "rng = [i for i in range(EPOCH+1)]\n",
    "y = [learning_rate_function(x) for x in rng]\n",
    "plt.plot(rng, y); \n",
    "plt.xlabel('epoch',size=14); plt.ylabel('learning rate',size=14)\n",
    "plt.title('Training Schedule',size=16); plt.show()\n",
    "print(y)"
   ]
  },
  {
   "cell_type": "markdown",
   "metadata": {
    "papermill": {
     "duration": 0.026688,
     "end_time": "2020-12-01T07:12:46.973186",
     "exception": false,
     "start_time": "2020-12-01T07:12:46.946498",
     "status": "completed"
    },
    "tags": []
   },
   "source": [
    "### Preprocess Image\n",
    "Use TensorFlow Dataset for faster training time (use feature `prefetch()` and `cache()`)"
   ]
  },
  {
   "cell_type": "code",
   "execution_count": 6,
   "metadata": {
    "execution": {
     "iopub.execute_input": "2020-12-01T07:12:47.044946Z",
     "iopub.status.busy": "2020-12-01T07:12:47.040840Z",
     "iopub.status.idle": "2020-12-01T07:12:47.048735Z",
     "shell.execute_reply": "2020-12-01T07:12:47.047965Z"
    },
    "papermill": {
     "duration": 0.048798,
     "end_time": "2020-12-01T07:12:47.048863",
     "exception": false,
     "start_time": "2020-12-01T07:12:47.000065",
     "status": "completed"
    },
    "tags": []
   },
   "outputs": [],
   "source": [
    "# Preprocess Image\n",
    "# Data Generator using GPU\n",
    "def decode_image(filename1, filename2, label=None, image_size=(DIM, DIM)):\n",
    "    bits1 = tf.io.read_file(filename1)\n",
    "    image1 = tf.image.decode_jpeg(bits1, channels=3, try_recover_truncated=True)\n",
    "    image1 = tf.cast(image1, tf.float32) / 255.0\n",
    "    image1 = tf.image.resize(image1, image_size)\n",
    "\n",
    "    bits2 = tf.io.read_file(filename2)\n",
    "    image2 = tf.image.decode_jpeg(bits2, channels=3, try_recover_truncated=True)\n",
    "    image2 = tf.cast(image2, tf.float32) / 255.0\n",
    "    image2 = tf.image.resize(image2, image_size)\n",
    "        \n",
    "    if label is None:\n",
    "        return [image1, image2]\n",
    "    else:\n",
    "        return [image1, image2], label\n",
    "\n",
    "def get_training_dataset(df):\n",
    "    image1, image2, label = get_images_path_and_labels(df, 'training_img', get_label=True)\n",
    "    dataset = ( tf.data.Dataset.from_tensor_slices((image1, image2, label))\n",
    "                 .map(decode_image, num_parallel_calls=AUTO)\n",
    "                 .cache()\n",
    "                 .repeat()\n",
    "                 .shuffle(2048)\n",
    "                 .batch(BATCH_SIZE)\n",
    "                 .prefetch(AUTO)\n",
    "              )\n",
    "    return dataset\n",
    "\n",
    "def get_validation_dataset(df):\n",
    "    image1, image2, label = get_images_path_and_labels(df, 'training_img', get_label=True)\n",
    "    dataset = ( tf.data.Dataset.from_tensor_slices((image1, image2, label))\n",
    "                 .map(decode_image, num_parallel_calls=AUTO)\n",
    "                 .cache()\n",
    "                 .batch(BATCH_SIZE)\n",
    "                 .prefetch(AUTO)\n",
    "              )\n",
    "    return dataset"
   ]
  },
  {
   "cell_type": "markdown",
   "metadata": {
    "papermill": {
     "duration": 0.026657,
     "end_time": "2020-12-01T07:12:47.102835",
     "exception": false,
     "start_time": "2020-12-01T07:12:47.076178",
     "status": "completed"
    },
    "tags": []
   },
   "source": [
    "### Training Model"
   ]
  },
  {
   "cell_type": "code",
   "execution_count": 7,
   "metadata": {
    "execution": {
     "iopub.execute_input": "2020-12-01T07:12:47.166356Z",
     "iopub.status.busy": "2020-12-01T07:12:47.165213Z",
     "iopub.status.idle": "2020-12-01T07:12:47.168880Z",
     "shell.execute_reply": "2020-12-01T07:12:47.168178Z"
    },
    "papermill": {
     "duration": 0.039072,
     "end_time": "2020-12-01T07:12:47.169046",
     "exception": false,
     "start_time": "2020-12-01T07:12:47.129974",
     "status": "completed"
    },
    "tags": []
   },
   "outputs": [],
   "source": [
    "def train_model(model, df, learning_rate_scheduler):\n",
    "    \n",
    "    # copy the training set\n",
    "    train = df.copy()\n",
    "    \n",
    "#     # apply label smoothing\n",
    "#     # Perform label smoothing; change label 1 to 0.9, and label 0 to 0.1\n",
    "#     train.iloc[:,-1] = train.iloc[:,-1].apply(lambda x: (1-COEF_SMOOTHING) if x == 1 else (COEF_SMOOTHING))\n",
    "    \n",
    "#     # get samples in training data that have the same image and labelled 1 -> assign label to 1\n",
    "#     # the idea is to make sure the model confident with these samples are similar\n",
    "#     identic_img_idx = train.loc[(train.image_1 == train.image_2) & (train.Label == 0.9)].index\n",
    "#     train.loc[identic_img_idx, 'Label'] = 1\n",
    "#     # get samples in training data that have the same title and labelled 1 -> assign label to 1\n",
    "#     identic_txt_idx = train.loc[(train.title_1 == train.title_2) & (train.Label == 0.9)].index\n",
    "#     train.loc[identic_txt_idx, 'Label'] = 1\n",
    "    \n",
    "#     print(\"Identic Image with Label 1 :\", len(identic_img_idx))\n",
    "#     print(\"Identic Title with Label 1 :\", len(identic_txt_idx))\n",
    "    print(\"Training data shape :\", train.shape)\n",
    "    \n",
    "    # Get TF Dataset\n",
    "    train_dataset = get_training_dataset(train)\n",
    "    \n",
    "    model = get_model()\n",
    "    history = model.fit(train_dataset, steps_per_epoch = len(train.Label) // BATCH_SIZE,\n",
    "                        callbacks = [learning_rate_scheduler],\n",
    "                        epochs = EPOCH\n",
    "                       )\n",
    "            \n",
    "    return model, history"
   ]
  },
  {
   "cell_type": "code",
   "execution_count": 8,
   "metadata": {
    "execution": {
     "iopub.execute_input": "2020-12-01T07:12:47.228975Z",
     "iopub.status.busy": "2020-12-01T07:12:47.228203Z",
     "iopub.status.idle": "2020-12-01T07:12:47.231949Z",
     "shell.execute_reply": "2020-12-01T07:12:47.231305Z"
    },
    "papermill": {
     "duration": 0.035712,
     "end_time": "2020-12-01T07:12:47.232071",
     "exception": false,
     "start_time": "2020-12-01T07:12:47.196359",
     "status": "completed"
    },
    "tags": []
   },
   "outputs": [],
   "source": [
    "# # Perform Training Model\n",
    "\n",
    "# # Define model\n",
    "# model = get_model()\n",
    "\n",
    "# # Define learning rate scheduler\n",
    "# learning_rate_scheduler = tf.keras.callbacks.LearningRateScheduler(learning_rate_function, verbose = True)\n",
    "\n",
    "# # Get traning data\n",
    "# GCS_DS_PATH = KaggleDatasets().get_gcs_path(\"pre-product-matching-id-ndsc-2020\")\n",
    "# train = pd.read_csv(\"../input/pre-product-matching-id-ndsc-2020/new_training_set.csv\").iloc[:, 1:]\n",
    "\n",
    "# # Perform training\n",
    "# model, history = train_model(model, train, learning_rate_scheduler)"
   ]
  },
  {
   "cell_type": "code",
   "execution_count": 9,
   "metadata": {
    "execution": {
     "iopub.execute_input": "2020-12-01T07:12:47.292216Z",
     "iopub.status.busy": "2020-12-01T07:12:47.291382Z",
     "iopub.status.idle": "2020-12-01T07:12:47.295133Z",
     "shell.execute_reply": "2020-12-01T07:12:47.294336Z"
    },
    "papermill": {
     "duration": 0.035847,
     "end_time": "2020-12-01T07:12:47.295261",
     "exception": false,
     "start_time": "2020-12-01T07:12:47.259414",
     "status": "completed"
    },
    "tags": []
   },
   "outputs": [],
   "source": [
    "# # Print Model Summary\n",
    "# model.summary()\n",
    "\n",
    "# # Save model\n",
    "# model_name = \"Xception\" + \"_\" + str(BATCH_SIZE) + \"_\" + str(EMBEDDING_SIZE) + \"_\" + str(EPOCH) + \"_\" + str(LR_START) + \"_\" + 'BinaryCrossEntropy' + \".h5\"\n",
    "# print(model_name)\n",
    "# model.save(model_name)"
   ]
  },
  {
   "cell_type": "code",
   "execution_count": 10,
   "metadata": {
    "execution": {
     "iopub.execute_input": "2020-12-01T07:12:47.356264Z",
     "iopub.status.busy": "2020-12-01T07:12:47.355139Z",
     "iopub.status.idle": "2020-12-01T07:12:47.358387Z",
     "shell.execute_reply": "2020-12-01T07:12:47.357664Z"
    },
    "papermill": {
     "duration": 0.035499,
     "end_time": "2020-12-01T07:12:47.358530",
     "exception": false,
     "start_time": "2020-12-01T07:12:47.323031",
     "status": "completed"
    },
    "tags": []
   },
   "outputs": [],
   "source": [
    "# # Plot History\n",
    "# history_df = pd.DataFrame(history.history)\n",
    "\n",
    "# # Plot loss, accuracy, and f1 score\n",
    "# history_df['loss'].plot()\n",
    "# history_df['acc'].plot()\n",
    "# history_df['f1_m'].plot()"
   ]
  },
  {
   "cell_type": "markdown",
   "metadata": {
    "papermill": {
     "duration": 0.027718,
     "end_time": "2020-12-01T07:12:47.414140",
     "exception": false,
     "start_time": "2020-12-01T07:12:47.386422",
     "status": "completed"
    },
    "tags": []
   },
   "source": [
    "### Read Model and Optimize Cut-off Prediction"
   ]
  },
  {
   "cell_type": "code",
   "execution_count": 11,
   "metadata": {
    "execution": {
     "iopub.execute_input": "2020-12-01T07:12:47.477062Z",
     "iopub.status.busy": "2020-12-01T07:12:47.476131Z",
     "iopub.status.idle": "2020-12-01T07:12:47.478839Z",
     "shell.execute_reply": "2020-12-01T07:12:47.479401Z"
    },
    "papermill": {
     "duration": 0.037963,
     "end_time": "2020-12-01T07:12:47.479590",
     "exception": false,
     "start_time": "2020-12-01T07:12:47.441627",
     "status": "completed"
    },
    "tags": []
   },
   "outputs": [],
   "source": [
    "# From Kaggle Dataset, get model and y_probas\n",
    "import joblib\n",
    "from sklearn.metrics import roc_curve, auc, f1_score\n",
    "\n",
    "# get probabilities from Cross Validation\n",
    "\n",
    "# Xception 400\n",
    "# probas_vals = joblib.load(\"../input/shopeeproductmatching/probas_vals_xception400.pkl\")\n",
    "\n",
    "# # DenseNet201 128, Manual Label Smoothing\n",
    "# probas_vals = joblib.load(\"../input/shopeeproductmatching/probas_vals_densenet128.pkl\")\n",
    "\n",
    "# # DenseNet201 128, Non Manual Label Smoothing\n",
    "# probas_vals = joblib.load(\"../input/shopeeproductmatching/probas_vals_densenet128_nonmanuallabeling.pkl\")"
   ]
  },
  {
   "cell_type": "code",
   "execution_count": 12,
   "metadata": {
    "execution": {
     "iopub.execute_input": "2020-12-01T07:12:47.550370Z",
     "iopub.status.busy": "2020-12-01T07:12:47.545034Z",
     "iopub.status.idle": "2020-12-01T07:12:47.568061Z",
     "shell.execute_reply": "2020-12-01T07:12:47.567329Z"
    },
    "papermill": {
     "duration": 0.060128,
     "end_time": "2020-12-01T07:12:47.568188",
     "exception": false,
     "start_time": "2020-12-01T07:12:47.508060",
     "status": "completed"
    },
    "tags": []
   },
   "outputs": [],
   "source": [
    "# Optimize cut off / threshold\n",
    "def get_best_threshold(fpr, tpr, thresholds):\n",
    "    # threshold based on min absolute difference of sen and spec\n",
    "    diff = np.abs(tpr - (1-fpr))\n",
    "    idx = np.where(diff == min(diff))[0][0]\n",
    "    cut_min = thresholds[idx]\n",
    "    \n",
    "    # threshold based on youden index    \n",
    "    diff = tpr + (1-fpr) - 1\n",
    "    idx = np.where (diff == max(diff))[0][0]\n",
    "    cut_youden = thresholds[idx]\n",
    "    \n",
    "    # threshold based on highest average of sensitivity and specisficity\n",
    "    diff = (tpr + (1-fpr)) / 2\n",
    "    idx = np.where (diff == max(diff))[0][0]\n",
    "    cut_avg = thresholds[idx]\n",
    "    \n",
    "    # threshold based on min euclidian distance in ROC curve\n",
    "    diff = np.sqrt(fpr**2 + (1-tpr)**2)\n",
    "    idx = np.where (diff == min(diff))[0][0]\n",
    "    cut_euclid = thresholds[idx]\n",
    "    \n",
    "    return cut_min, cut_youden, cut_avg, cut_euclid\n",
    "\n",
    "def get_avg_best_threshold(y_vals, y_probas):\n",
    "    mins = []\n",
    "    youdens = []\n",
    "    avgs = []\n",
    "    euclids = []\n",
    "    \n",
    "    for i in range(len(y_vals)):\n",
    "        fpr, tpr, thresholds = roc_curve(y_vals[i], y_probas[i])\n",
    "        cut_min, cut_youden, cut_avg, cut_euclid = get_best_threshold(fpr, tpr, thresholds)\n",
    "        mins.append(cut_min)\n",
    "        youdens.append(cut_youden)\n",
    "        avgs.append(cut_avg)\n",
    "        euclids.append(cut_euclid)\n",
    "        print(\"Fold \", i)\n",
    "        print(\"Min Abs Diff | Youden Idx | Highest Avg | Euclid Distance\")\n",
    "        print(cut_min, cut_youden, cut_avg, cut_euclid)\n",
    "    \n",
    "    print(\"Average all folds\")\n",
    "    print(\"Min Abs Diff | Youden Idx | Highest Avg | Euclid Distance\")\n",
    "    print(np.mean(mins), np.mean(youdens), np.mean(avgs), np.mean(euclids))\n",
    "    cut_min, cut_youden, cut_avg, cut_euclid = np.mean(mins), np.mean(youdens), np.mean(avgs), np.mean(euclids)\n",
    "    averaged_threshold = np.mean([cut_min, cut_youden, cut_avg, cut_euclid])\n",
    "    print(\"FINAL THRESHOLD \", averaged_threshold)\n",
    "    return averaged_threshold\n",
    "\n",
    "def evaluate_thresholds(y_vals, y_probas, best_threshold):\n",
    "    f1s = []\n",
    "    for i in range(len(y_vals)):\n",
    "        fpr, tpr, thresholds = roc_curve(y_vals[i], y_probas[i])\n",
    "        auc_score = auc(fpr, tpr)\n",
    "        y_pred = np.where(y_probas[i] >= best_threshold, 1, 0)\n",
    "        f1 = f1_score(y_vals[i], y_pred)\n",
    "        f1s.append(f1)\n",
    "        print(\"Fold \", i)\n",
    "        print(\"ROC AUC | F1 \")\n",
    "        print(auc_score, f1)\n",
    "    print(\"F1 mean :\", np.mean(f1s), \", std: \", np.std(f1s))"
   ]
  },
  {
   "cell_type": "code",
   "execution_count": 13,
   "metadata": {
    "execution": {
     "iopub.execute_input": "2020-12-01T07:12:47.631163Z",
     "iopub.status.busy": "2020-12-01T07:12:47.630086Z",
     "iopub.status.idle": "2020-12-01T07:12:47.632864Z",
     "shell.execute_reply": "2020-12-01T07:12:47.633401Z"
    },
    "papermill": {
     "duration": 0.036699,
     "end_time": "2020-12-01T07:12:47.633589",
     "exception": false,
     "start_time": "2020-12-01T07:12:47.596890",
     "status": "completed"
    },
    "tags": []
   },
   "outputs": [],
   "source": [
    "# # Evaluate and get best threshold\n",
    "\n",
    "# # Xception 400\n",
    "# probas_vals = joblib.load(\"../input/shopeeproductmatching/probas_vals_xception400.pkl\")\n",
    "\n",
    "# y_probas = probas_vals[0]\n",
    "# y_vals = probas_vals[1]\n",
    "\n",
    "# best_threshold = get_avg_best_threshold(y_vals, y_probas)\n",
    "# evaluate_thresholds(y_vals, y_probas, best_threshold)"
   ]
  },
  {
   "cell_type": "code",
   "execution_count": 14,
   "metadata": {
    "execution": {
     "iopub.execute_input": "2020-12-01T07:12:47.696316Z",
     "iopub.status.busy": "2020-12-01T07:12:47.695332Z",
     "iopub.status.idle": "2020-12-01T07:12:47.698669Z",
     "shell.execute_reply": "2020-12-01T07:12:47.697985Z"
    },
    "papermill": {
     "duration": 0.036637,
     "end_time": "2020-12-01T07:12:47.698805",
     "exception": false,
     "start_time": "2020-12-01T07:12:47.662168",
     "status": "completed"
    },
    "tags": []
   },
   "outputs": [],
   "source": [
    "# # Evaluate and get best threshold\n",
    "# # DenseNet201 128, Manual Label Smoothing\n",
    "# probas_vals = joblib.load(\"../input/shopeeproductmatching/probas_vals_densenet128.pkl\")\n",
    "\n",
    "# y_probas = probas_vals[0]\n",
    "# y_vals = probas_vals[1]\n",
    "\n",
    "# best_threshold = get_avg_best_threshold(y_vals, y_probas)\n",
    "# evaluate_thresholds(y_vals, y_probas, best_threshold)"
   ]
  },
  {
   "cell_type": "code",
   "execution_count": 15,
   "metadata": {
    "execution": {
     "iopub.execute_input": "2020-12-01T07:12:47.761290Z",
     "iopub.status.busy": "2020-12-01T07:12:47.760389Z",
     "iopub.status.idle": "2020-12-01T07:12:47.763693Z",
     "shell.execute_reply": "2020-12-01T07:12:47.763031Z"
    },
    "papermill": {
     "duration": 0.03651,
     "end_time": "2020-12-01T07:12:47.763830",
     "exception": false,
     "start_time": "2020-12-01T07:12:47.727320",
     "status": "completed"
    },
    "tags": []
   },
   "outputs": [],
   "source": [
    "# # Evaluate and get best threshold\n",
    "\n",
    "# # # DenseNet201 128, Non Manual Label Smoothing\n",
    "# probas_vals = joblib.load(\"../input/shopeeproductmatching/probas_vals_densenet128_nonmanuallabeling.pkl\")\n",
    "\n",
    "# y_probas = probas_vals[0]\n",
    "# y_vals = probas_vals[1]\n",
    "\n",
    "# best_threshold = get_avg_best_threshold(y_vals, y_probas)\n",
    "# evaluate_thresholds(y_vals, y_probas, best_threshold)"
   ]
  },
  {
   "cell_type": "code",
   "execution_count": 16,
   "metadata": {
    "execution": {
     "iopub.execute_input": "2020-12-01T07:12:47.828061Z",
     "iopub.status.busy": "2020-12-01T07:12:47.827134Z",
     "iopub.status.idle": "2020-12-01T07:12:47.881274Z",
     "shell.execute_reply": "2020-12-01T07:12:47.880505Z"
    },
    "papermill": {
     "duration": 0.088795,
     "end_time": "2020-12-01T07:12:47.881399",
     "exception": false,
     "start_time": "2020-12-01T07:12:47.792604",
     "status": "completed"
    },
    "tags": []
   },
   "outputs": [
    {
     "name": "stdout",
     "output_type": "stream",
     "text": [
      "Fold  0\n",
      "Min Abs Diff | Youden Idx | Highest Avg | Euclid Distance\n",
      "0.16996369 0.30516595 0.30516595 0.28864905\n",
      "Fold  1\n",
      "Min Abs Diff | Youden Idx | Highest Avg | Euclid Distance\n",
      "0.64035034 0.78223264 0.78223264 0.6937445\n",
      "Fold  2\n",
      "Min Abs Diff | Youden Idx | Highest Avg | Euclid Distance\n",
      "0.56644654 0.6728268 0.6728268 0.5633914\n",
      "Fold  3\n",
      "Min Abs Diff | Youden Idx | Highest Avg | Euclid Distance\n",
      "0.57972807 0.5965923 0.5965923 0.5965923\n",
      "Average all folds\n",
      "Min Abs Diff | Youden Idx | Highest Avg | Euclid Distance\n",
      "0.48912215 0.58920443 0.58920443 0.53559434\n",
      "FINAL THRESHOLD  0.55078137\n",
      "Fold  0\n",
      "ROC AUC | F1 \n",
      "0.9297384847825333 0.844715757344525\n",
      "Fold  1\n",
      "ROC AUC | F1 \n",
      "0.916684977938075 0.8554012868269556\n",
      "Fold  2\n",
      "ROC AUC | F1 \n",
      "0.935221035988594 0.8812737971616476\n",
      "Fold  3\n",
      "ROC AUC | F1 \n",
      "0.9398900944861606 0.8860585197934596\n",
      "F1 mean : 0.866862340281647 , std:  0.017306142546332847\n"
     ]
    }
   ],
   "source": [
    "# Evaluate and get best threshold\n",
    "\n",
    "# # DenseNet201 128, Non Manual Label Smoothing + Distance embedding\n",
    "probas_vals = joblib.load(\"../input/shopeeproductmatching/probas_vals_densenet_distance.pkl\")\n",
    "\n",
    "y_probas = probas_vals[0]\n",
    "y_vals = probas_vals[1]\n",
    "\n",
    "best_threshold = get_avg_best_threshold(y_vals, y_probas)\n",
    "evaluate_thresholds(y_vals, y_probas, best_threshold)"
   ]
  },
  {
   "cell_type": "markdown",
   "metadata": {
    "papermill": {
     "duration": 0.028809,
     "end_time": "2020-12-01T07:12:47.939662",
     "exception": false,
     "start_time": "2020-12-01T07:12:47.910853",
     "status": "completed"
    },
    "tags": []
   },
   "source": [
    "### Get The Model from previous Training"
   ]
  },
  {
   "cell_type": "code",
   "execution_count": 17,
   "metadata": {
    "execution": {
     "iopub.execute_input": "2020-12-01T07:12:48.014438Z",
     "iopub.status.busy": "2020-12-01T07:12:48.013507Z",
     "iopub.status.idle": "2020-12-01T07:13:28.189892Z",
     "shell.execute_reply": "2020-12-01T07:13:28.190485Z"
    },
    "papermill": {
     "duration": 40.215312,
     "end_time": "2020-12-01T07:13:28.190716",
     "exception": false,
     "start_time": "2020-12-01T07:12:47.975404",
     "status": "completed"
    },
    "tags": []
   },
   "outputs": [
    {
     "name": "stdout",
     "output_type": "stream",
     "text": [
      "Model: \"model_1\"\n",
      "__________________________________________________________________________________________________\n",
      "Layer (type)                    Output Shape         Param #     Connected to                     \n",
      "==================================================================================================\n",
      "input_3 (InputLayer)            [(None, 2, 299, 299, 0                                            \n",
      "__________________________________________________________________________________________________\n",
      "lambda_8 (Lambda)               (None, 299, 299, 3)  0           input_3[0][0]                    \n",
      "__________________________________________________________________________________________________\n",
      "lambda_9 (Lambda)               (None, 299, 299, 3)  0           input_3[0][0]                    \n",
      "__________________________________________________________________________________________________\n",
      "densenet201 (Model)             (None, 9, 9, 1920)   18321984    lambda_8[0][0]                   \n",
      "                                                                 lambda_9[0][0]                   \n",
      "__________________________________________________________________________________________________\n",
      "global_max_pooling2d_2 (GlobalM (None, 1920)         0           densenet201[1][0]                \n",
      "__________________________________________________________________________________________________\n",
      "global_max_pooling2d_3 (GlobalM (None, 1920)         0           densenet201[2][0]                \n",
      "__________________________________________________________________________________________________\n",
      "global_average_pooling2d_2 (Glo (None, 1920)         0           densenet201[1][0]                \n",
      "__________________________________________________________________________________________________\n",
      "global_average_pooling2d_3 (Glo (None, 1920)         0           densenet201[2][0]                \n",
      "__________________________________________________________________________________________________\n",
      "lambda_10 (Lambda)              (None, 1)            0           global_max_pooling2d_2[0][0]     \n",
      "                                                                 global_max_pooling2d_3[0][0]     \n",
      "__________________________________________________________________________________________________\n",
      "lambda_11 (Lambda)              (None, 1)            0           global_max_pooling2d_2[0][0]     \n",
      "                                                                 global_max_pooling2d_3[0][0]     \n",
      "__________________________________________________________________________________________________\n",
      "lambda_12 (Lambda)              (None, 1)            0           global_max_pooling2d_2[0][0]     \n",
      "                                                                 global_max_pooling2d_3[0][0]     \n",
      "__________________________________________________________________________________________________\n",
      "lambda_13 (Lambda)              (None, 1)            0           global_average_pooling2d_2[0][0] \n",
      "                                                                 global_average_pooling2d_3[0][0] \n",
      "__________________________________________________________________________________________________\n",
      "lambda_14 (Lambda)              (None, 1)            0           global_average_pooling2d_2[0][0] \n",
      "                                                                 global_average_pooling2d_3[0][0] \n",
      "__________________________________________________________________________________________________\n",
      "lambda_15 (Lambda)              (None, 1)            0           global_average_pooling2d_2[0][0] \n",
      "                                                                 global_average_pooling2d_3[0][0] \n",
      "__________________________________________________________________________________________________\n",
      "concatenate_1 (Concatenate)     (None, 6)            0           lambda_10[0][0]                  \n",
      "                                                                 lambda_11[0][0]                  \n",
      "                                                                 lambda_12[0][0]                  \n",
      "                                                                 lambda_13[0][0]                  \n",
      "                                                                 lambda_14[0][0]                  \n",
      "                                                                 lambda_15[0][0]                  \n",
      "__________________________________________________________________________________________________\n",
      "dense_1 (Dense)                 (None, 1)            7           concatenate_1[0][0]              \n",
      "==================================================================================================\n",
      "Total params: 18,321,991\n",
      "Trainable params: 18,092,935\n",
      "Non-trainable params: 229,056\n",
      "__________________________________________________________________________________________________\n"
     ]
    }
   ],
   "source": [
    "from keras.models import load_model\n",
    "\n",
    "# # DenseNet201 128, Non Manual Label Smoothing\n",
    "\n",
    "configs = {'DIM': DIM, 'f1_m': f1_m}\n",
    "model_path = \"../input/shopeeproductmatching/DenseNet201_Distance_Cosine_Manhattan_NegExpManhattan_64_128_30_1e-05_BinaryCrossEntropy.h5\"\n",
    "\n",
    "model = load_model(model_path, configs)\n",
    "model.summary()"
   ]
  },
  {
   "cell_type": "markdown",
   "metadata": {
    "papermill": {
     "duration": 0.029444,
     "end_time": "2020-12-01T07:13:28.250234",
     "exception": false,
     "start_time": "2020-12-01T07:13:28.220790",
     "status": "completed"
    },
    "tags": []
   },
   "source": [
    "### Prediction Pipeline"
   ]
  },
  {
   "cell_type": "code",
   "execution_count": 18,
   "metadata": {
    "execution": {
     "iopub.execute_input": "2020-12-01T07:13:28.327773Z",
     "iopub.status.busy": "2020-12-01T07:13:28.326910Z",
     "iopub.status.idle": "2020-12-01T07:13:29.571660Z",
     "shell.execute_reply": "2020-12-01T07:13:29.571008Z"
    },
    "papermill": {
     "duration": 1.291526,
     "end_time": "2020-12-01T07:13:29.571804",
     "exception": false,
     "start_time": "2020-12-01T07:13:28.280278",
     "status": "completed"
    },
    "tags": []
   },
   "outputs": [],
   "source": [
    "### Prepare Test Set\n",
    "\n",
    "# path\n",
    "GCS_DS_PATH = KaggleDatasets().get_gcs_path(\"product-matching-id-ndsc-2020\")\n",
    "SUBFOLDER = 'test_img'\n",
    "\n",
    "# read test file\n",
    "test = pd.read_csv(\"../input/product-matching-id-ndsc-2020/new_test_set.csv\").iloc[:,1:]\n",
    "\n",
    "# perform\n",
    "test_safe = test.iloc[0:19008,:]\n",
    "\n",
    "# get image paths\n",
    "test_im1, test_im2, dummy_label = get_images_path_and_labels(test_safe, SUBFOLDER, get_label=False)\n",
    "\n",
    "# Create TF Dataset for test set\n",
    "test_dataset = (tf.data.Dataset.from_tensor_slices((test_im1, test_im2, dummy_label))\n",
    "                 .map(decode_image, num_parallel_calls=AUTO)\n",
    "                 .batch(BATCH_SIZE)\n",
    "               )"
   ]
  },
  {
   "cell_type": "code",
   "execution_count": 19,
   "metadata": {
    "execution": {
     "iopub.execute_input": "2020-12-01T07:13:29.640619Z",
     "iopub.status.busy": "2020-12-01T07:13:29.639593Z",
     "iopub.status.idle": "2020-12-01T07:35:42.368599Z",
     "shell.execute_reply": "2020-12-01T07:35:42.365988Z"
    },
    "papermill": {
     "duration": 1332.766563,
     "end_time": "2020-12-01T07:35:42.368770",
     "exception": false,
     "start_time": "2020-12-01T07:13:29.602207",
     "status": "completed"
    },
    "tags": []
   },
   "outputs": [
    {
     "name": "stdout",
     "output_type": "stream",
     "text": [
      "Perform Scoring\n",
      "297/297 [==============================] - 1317s 4s/step\n",
      "Complete Scoring\n",
      "(19008, 1)\n"
     ]
    }
   ],
   "source": [
    "# Perform Prediction\n",
    "print(\"Perform Scoring\")\n",
    "y_proba1 = model.predict(test_dataset, verbose=1)\n",
    "\n",
    "print(\"Complete Scoring\")\n",
    "print(y_proba1.shape)"
   ]
  },
  {
   "cell_type": "code",
   "execution_count": 20,
   "metadata": {
    "execution": {
     "iopub.execute_input": "2020-12-01T07:35:42.681205Z",
     "iopub.status.busy": "2020-12-01T07:35:42.680123Z",
     "iopub.status.idle": "2020-12-01T07:35:42.685427Z",
     "shell.execute_reply": "2020-12-01T07:35:42.684672Z"
    },
    "papermill": {
     "duration": 0.164825,
     "end_time": "2020-12-01T07:35:42.685557",
     "exception": false,
     "start_time": "2020-12-01T07:35:42.520732",
     "status": "completed"
    },
    "tags": []
   },
   "outputs": [
    {
     "name": "stdout",
     "output_type": "stream",
     "text": [
      "prediction shape : (19008, 1)\n",
      "prediction proportion : 0.493108164983165\n"
     ]
    }
   ],
   "source": [
    "# Perform cut-off\n",
    "\n",
    "y_pred = np.where(y_proba1 >= best_threshold, 1, 0)\n",
    "\n",
    "print(\"prediction shape :\", y_pred.shape)\n",
    "print(\"prediction proportion :\", y_pred.mean())"
   ]
  },
  {
   "cell_type": "code",
   "execution_count": 21,
   "metadata": {
    "execution": {
     "iopub.execute_input": "2020-12-01T07:35:43.013329Z",
     "iopub.status.busy": "2020-12-01T07:35:43.012439Z",
     "iopub.status.idle": "2020-12-01T07:35:43.214235Z",
     "shell.execute_reply": "2020-12-01T07:35:43.214884Z"
    },
    "papermill": {
     "duration": 0.378408,
     "end_time": "2020-12-01T07:35:43.215062",
     "exception": false,
     "start_time": "2020-12-01T07:35:42.836654",
     "status": "completed"
    },
    "tags": []
   },
   "outputs": [
    {
     "data": {
      "text/html": [
       "<div>\n",
       "<style scoped>\n",
       "    .dataframe tbody tr th:only-of-type {\n",
       "        vertical-align: middle;\n",
       "    }\n",
       "\n",
       "    .dataframe tbody tr th {\n",
       "        vertical-align: top;\n",
       "    }\n",
       "\n",
       "    .dataframe thead th {\n",
       "        text-align: right;\n",
       "    }\n",
       "</style>\n",
       "<table border=\"1\" class=\"dataframe\">\n",
       "  <thead>\n",
       "    <tr style=\"text-align: right;\">\n",
       "      <th></th>\n",
       "      <th>title_1</th>\n",
       "      <th>image_1</th>\n",
       "      <th>title_2</th>\n",
       "      <th>image_2</th>\n",
       "      <th>pair_index</th>\n",
       "      <th>label</th>\n",
       "    </tr>\n",
       "  </thead>\n",
       "  <tbody>\n",
       "    <tr>\n",
       "      <th>0</th>\n",
       "      <td>Celana Chino Panjang Original Motz</td>\n",
       "      <td>6985a78ebd6b7d9f120f852b412bba5b.jpg</td>\n",
       "      <td>Celana Chino Panjang Original Motz</td>\n",
       "      <td>81f8fab965d009483d004af0c697dd97.jpg</td>\n",
       "      <td>0</td>\n",
       "      <td>0</td>\n",
       "    </tr>\n",
       "    <tr>\n",
       "      <th>1</th>\n",
       "      <td>[BISA COD] Tas LOL Boneka Flash Anak Ransel</td>\n",
       "      <td>4d6f929847cbe632b15baa556646a414.jpg</td>\n",
       "      <td>Bisa Cod Tas Lol Boneka Mewah Anak Ransel Tas ...</td>\n",
       "      <td>1e2facde94db9de3037741ec4a5313c8.jpg</td>\n",
       "      <td>1</td>\n",
       "      <td>1</td>\n",
       "    </tr>\n",
       "    <tr>\n",
       "      <th>2</th>\n",
       "      <td>KOYO AJAIB KINOKI GOLD paket Standard</td>\n",
       "      <td>e21056441f03442737a2c074a4ab232d.jpg</td>\n",
       "      <td>BL - V.PJG Baju Kaos Vneck Polos Lengan Panjan...</td>\n",
       "      <td>7b91ab6c71c6e9ed432201f12379509c.jpg</td>\n",
       "      <td>2</td>\n",
       "      <td>0</td>\n",
       "    </tr>\n",
       "    <tr>\n",
       "      <th>3</th>\n",
       "      <td>Zwitsal Natural Aloe Vera Baby Bath 2 In 1 Hai...</td>\n",
       "      <td>3ac880adf8ffbcf23846554efc052694.jpg</td>\n",
       "      <td>ZWITSAL Natural Baby Bath 2 in 1 Hair &amp; Body b...</td>\n",
       "      <td>46b00a7c6a869e00cad8cc08fb56a2f7.jpg</td>\n",
       "      <td>3</td>\n",
       "      <td>1</td>\n",
       "    </tr>\n",
       "    <tr>\n",
       "      <th>4</th>\n",
       "      <td>TAS IMPORT JAKARTA CLASSIC DIAMOND JELLY MATTE...</td>\n",
       "      <td>4ddd79c9d601bd25c1a56e0a10fb5708.jpg</td>\n",
       "      <td>TAS IMPORT JAKARTA CLASSIC DIAMOND JELLY MATTE...</td>\n",
       "      <td>10a97ae389e298f72bc455aa4cb4fba7.jpg</td>\n",
       "      <td>4</td>\n",
       "      <td>0</td>\n",
       "    </tr>\n",
       "  </tbody>\n",
       "</table>\n",
       "</div>"
      ],
      "text/plain": [
       "                                             title_1  \\\n",
       "0                 Celana Chino Panjang Original Motz   \n",
       "1        [BISA COD] Tas LOL Boneka Flash Anak Ransel   \n",
       "2              KOYO AJAIB KINOKI GOLD paket Standard   \n",
       "3  Zwitsal Natural Aloe Vera Baby Bath 2 In 1 Hai...   \n",
       "4  TAS IMPORT JAKARTA CLASSIC DIAMOND JELLY MATTE...   \n",
       "\n",
       "                                image_1  \\\n",
       "0  6985a78ebd6b7d9f120f852b412bba5b.jpg   \n",
       "1  4d6f929847cbe632b15baa556646a414.jpg   \n",
       "2  e21056441f03442737a2c074a4ab232d.jpg   \n",
       "3  3ac880adf8ffbcf23846554efc052694.jpg   \n",
       "4  4ddd79c9d601bd25c1a56e0a10fb5708.jpg   \n",
       "\n",
       "                                             title_2  \\\n",
       "0                 Celana Chino Panjang Original Motz   \n",
       "1  Bisa Cod Tas Lol Boneka Mewah Anak Ransel Tas ...   \n",
       "2  BL - V.PJG Baju Kaos Vneck Polos Lengan Panjan...   \n",
       "3  ZWITSAL Natural Baby Bath 2 in 1 Hair & Body b...   \n",
       "4  TAS IMPORT JAKARTA CLASSIC DIAMOND JELLY MATTE...   \n",
       "\n",
       "                                image_2  pair_index  label  \n",
       "0  81f8fab965d009483d004af0c697dd97.jpg           0      0  \n",
       "1  1e2facde94db9de3037741ec4a5313c8.jpg           1      1  \n",
       "2  7b91ab6c71c6e9ed432201f12379509c.jpg           2      0  \n",
       "3  46b00a7c6a869e00cad8cc08fb56a2f7.jpg           3      1  \n",
       "4  10a97ae389e298f72bc455aa4cb4fba7.jpg           4      0  "
      ]
     },
     "execution_count": 21,
     "metadata": {},
     "output_type": "execute_result"
    }
   ],
   "source": [
    "# create test dataframe\n",
    "test['pair_index'] = test.index\n",
    "test['label'] = 1\n",
    "test.iloc[0:19008,-1] = y_pred\n",
    "test[['pair_index', 'label']].to_csv(\"submission1.csv\", index=False)\n",
    "test.head()"
   ]
  },
  {
   "cell_type": "code",
   "execution_count": 22,
   "metadata": {
    "execution": {
     "iopub.execute_input": "2020-12-01T07:35:43.564105Z",
     "iopub.status.busy": "2020-12-01T07:35:43.538368Z",
     "iopub.status.idle": "2020-12-01T07:35:43.803487Z",
     "shell.execute_reply": "2020-12-01T07:35:43.802670Z"
    },
    "papermill": {
     "duration": 0.436262,
     "end_time": "2020-12-01T07:35:43.803641",
     "exception": false,
     "start_time": "2020-12-01T07:35:43.367379",
     "status": "completed"
    },
    "tags": []
   },
   "outputs": [],
   "source": [
    "# perform\n",
    "test_safe2 = test.iloc[19070:,:]\n",
    "\n",
    "# get image paths\n",
    "test_im1, test_im2, dummy_label = get_images_path_and_labels(test_safe2, SUBFOLDER, get_label=False)\n",
    "\n",
    "# Create TF Dataset for test set\n",
    "test_dataset = (tf.data.Dataset.from_tensor_slices((test_im1, test_im2, dummy_label))\n",
    "                 .map(decode_image, num_parallel_calls=AUTO)\n",
    "                 .batch(BATCH_SIZE)\n",
    "               )"
   ]
  },
  {
   "cell_type": "code",
   "execution_count": 23,
   "metadata": {
    "execution": {
     "iopub.execute_input": "2020-12-01T07:35:44.120242Z",
     "iopub.status.busy": "2020-12-01T07:35:44.119266Z",
     "iopub.status.idle": "2020-12-01T07:51:12.067512Z",
     "shell.execute_reply": "2020-12-01T07:51:12.066619Z"
    },
    "papermill": {
     "duration": 928.110686,
     "end_time": "2020-12-01T07:51:12.067719",
     "exception": false,
     "start_time": "2020-12-01T07:35:43.957033",
     "status": "completed"
    },
    "tags": []
   },
   "outputs": [
    {
     "name": "stdout",
     "output_type": "stream",
     "text": [
      "Perform Scoring\n",
      "212/212 [==============================] - 920s 4s/step\n",
      "Complete Scoring\n",
      "(13510, 1)\n"
     ]
    }
   ],
   "source": [
    "# Perform Prediction\n",
    "print(\"Perform Scoring\")\n",
    "y_proba2 = model.predict(test_dataset, verbose=1)\n",
    "\n",
    "print(\"Complete Scoring\")\n",
    "print(y_proba2.shape)"
   ]
  },
  {
   "cell_type": "code",
   "execution_count": 24,
   "metadata": {
    "execution": {
     "iopub.execute_input": "2020-12-01T07:51:12.548390Z",
     "iopub.status.busy": "2020-12-01T07:51:12.547432Z",
     "iopub.status.idle": "2020-12-01T07:51:12.552936Z",
     "shell.execute_reply": "2020-12-01T07:51:12.552170Z"
    },
    "papermill": {
     "duration": 0.248753,
     "end_time": "2020-12-01T07:51:12.553073",
     "exception": false,
     "start_time": "2020-12-01T07:51:12.304320",
     "status": "completed"
    },
    "tags": []
   },
   "outputs": [
    {
     "name": "stdout",
     "output_type": "stream",
     "text": [
      "prediction shape : (13510, 1)\n",
      "prediction proportion : 0.49844559585492226\n"
     ]
    }
   ],
   "source": [
    "# Perform cut-off\n",
    "\n",
    "y_pred = np.where(y_proba2 >= best_threshold, 1, 0)\n",
    "\n",
    "print(\"prediction shape :\", y_pred.shape)\n",
    "print(\"prediction proportion :\", y_pred.mean())"
   ]
  },
  {
   "cell_type": "code",
   "execution_count": 25,
   "metadata": {
    "execution": {
     "iopub.execute_input": "2020-12-01T07:51:13.042684Z",
     "iopub.status.busy": "2020-12-01T07:51:13.029338Z",
     "iopub.status.idle": "2020-12-01T07:51:13.126222Z",
     "shell.execute_reply": "2020-12-01T07:51:13.125517Z"
    },
    "papermill": {
     "duration": 0.337528,
     "end_time": "2020-12-01T07:51:13.126355",
     "exception": false,
     "start_time": "2020-12-01T07:51:12.788827",
     "status": "completed"
    },
    "tags": []
   },
   "outputs": [
    {
     "name": "stdout",
     "output_type": "stream",
     "text": [
      "Positive proportion : 0.4962860650705955\n",
      "File submission save\n"
     ]
    }
   ],
   "source": [
    "# Save the result for submission\n",
    "\n",
    "# # create test dataframe\n",
    "# test['label'] = y_pred\n",
    "# test['pair_index'] = test.index\n",
    "# test.head()\n",
    "\n",
    "test.iloc[19070:,-1] = y_pred\n",
    "\n",
    "# save as csv\n",
    "test[['pair_index', 'label']].to_csv(\"submission2.csv\", index=False)\n",
    "print(\"Positive proportion :\", test.label.mean())\n",
    "print(\"File submission save\")"
   ]
  }
 ],
 "metadata": {
  "kernelspec": {
   "display_name": "Python 3",
   "language": "python",
   "name": "python3"
  },
  "language_info": {
   "codemirror_mode": {
    "name": "ipython",
    "version": 3
   },
   "file_extension": ".py",
   "mimetype": "text/x-python",
   "name": "python",
   "nbconvert_exporter": "python",
   "pygments_lexer": "ipython3",
   "version": "3.7.6"
  },
  "papermill": {
   "duration": 2325.047238,
   "end_time": "2020-12-01T07:51:13.470248",
   "environment_variables": {},
   "exception": null,
   "input_path": "__notebook__.ipynb",
   "output_path": "__notebook__.ipynb",
   "parameters": {},
   "start_time": "2020-12-01T07:12:28.423010",
   "version": "2.1.0"
  }
 },
 "nbformat": 4,
 "nbformat_minor": 4
}
