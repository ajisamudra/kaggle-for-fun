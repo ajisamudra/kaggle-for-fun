{
 "cells": [
  {
   "cell_type": "markdown",
   "metadata": {},
   "source": [
    "Solving Twitter Real Disaster or Not?\n",
    "\n",
    "**Problem statement**: Predict whether the tweet represent real disaster or not given the text of tweet\n",
    "\n",
    "**Type**: Binary Classification (1: real disaster; 0: not disaster)\n",
    "\n",
    "**Performance metric**: Harmonic balance of precision and recall, F1 score.\n",
    "\n",
    "**What I did in this notebook**:\n",
    "**Comparing three vectorizations** that could be implemented using scikit-learn:\n",
    "1. Count Vectorization\n",
    "2. TF-IDF Vectorization\n",
    "3. Hashing Vectorization -> Binary Vectorization\n",
    "\n",
    "**Experimenting with several models**:\n",
    "1. Logistic Regression\n",
    "2. Multi Layer Perceptron\n",
    "\n",
    "**Conclusion**:\n",
    "1. **CountVectorizer with adjusted hyperparameter** (ngram_range, and max_features) fed to **Logistic Regression** perform the best compare to any variants I tried. It gives F1-score on validation data 0.7529.\n"
   ]
  },
  {
   "cell_type": "code",
   "execution_count": 1,
   "metadata": {
    "_cell_guid": "79c7e3d0-c299-4dcb-8224-4455121ee9b0",
    "_uuid": "d629ff2d2480ee46fbb7e2d37f6b5fab8052498a"
   },
   "outputs": [
    {
     "name": "stderr",
     "output_type": "stream",
     "text": [
      "Using TensorFlow backend.\n"
     ]
    }
   ],
   "source": [
    "# Library\n",
    "import pandas as pd\n",
    "import numpy as np\n",
    "import spacy\n",
    "import matplotlib.pyplot as plt\n",
    "import seaborn as sns\n",
    "\n",
    "from sklearn.model_selection import train_test_split\n",
    "from sklearn.metrics import f1_score\n",
    "from sklearn.feature_extraction.text import CountVectorizer\n",
    "from sklearn.feature_extraction.text import TfidfVectorizer\n",
    "from sklearn.feature_extraction.text import HashingVectorizer\n",
    "from sklearn.linear_model import LogisticRegression\n",
    "from sklearn.preprocessing import StandardScaler\n",
    "from sklearn.preprocessing import Normalizer\n",
    "from sklearn.feature_selection import SelectKBest\n",
    "from sklearn.feature_selection import f_classif\n",
    "from sklearn.feature_selection import chi2\n",
    "\n",
    "import tensorflow as tf\n",
    "from tensorflow import keras\n",
    "import keras.backend as K\n",
    "\n",
    "import warnings\n",
    "warnings.filterwarnings('ignore')"
   ]
  },
  {
   "cell_type": "code",
   "execution_count": 2,
   "metadata": {},
   "outputs": [],
   "source": [
    "# Read file\n",
    "train = pd.read_csv(\"/kaggle/input/nlp-getting-started/train.csv\")\n",
    "test = pd.read_csv(\"/kaggle/input/nlp-getting-started/test.csv\")\n",
    "sample_submission = pd.read_csv(\"/kaggle/input/nlp-getting-started/sample_submission.csv\")"
   ]
  },
  {
   "cell_type": "code",
   "execution_count": 3,
   "metadata": {},
   "outputs": [
    {
     "data": {
      "text/html": [
       "<div>\n",
       "<style scoped>\n",
       "    .dataframe tbody tr th:only-of-type {\n",
       "        vertical-align: middle;\n",
       "    }\n",
       "\n",
       "    .dataframe tbody tr th {\n",
       "        vertical-align: top;\n",
       "    }\n",
       "\n",
       "    .dataframe thead th {\n",
       "        text-align: right;\n",
       "    }\n",
       "</style>\n",
       "<table border=\"1\" class=\"dataframe\">\n",
       "  <thead>\n",
       "    <tr style=\"text-align: right;\">\n",
       "      <th></th>\n",
       "      <th>target</th>\n",
       "      <th>text</th>\n",
       "      <th>total</th>\n",
       "      <th>proportion</th>\n",
       "    </tr>\n",
       "  </thead>\n",
       "  <tbody>\n",
       "    <tr>\n",
       "      <th>0</th>\n",
       "      <td>0</td>\n",
       "      <td>4342</td>\n",
       "      <td>7613</td>\n",
       "      <td>0.57034</td>\n",
       "    </tr>\n",
       "    <tr>\n",
       "      <th>1</th>\n",
       "      <td>1</td>\n",
       "      <td>3271</td>\n",
       "      <td>7613</td>\n",
       "      <td>0.42966</td>\n",
       "    </tr>\n",
       "  </tbody>\n",
       "</table>\n",
       "</div>"
      ],
      "text/plain": [
       "   target  text  total  proportion\n",
       "0       0  4342   7613     0.57034\n",
       "1       1  3271   7613     0.42966"
      ]
     },
     "execution_count": 3,
     "metadata": {},
     "output_type": "execute_result"
    }
   ],
   "source": [
    "# See number of samples per label\n",
    "samples = train[['text', 'target']].groupby(\"target\").count().reset_index()\n",
    "samples['total'] = samples.text.sum()\n",
    "samples['proportion'] = samples.text / samples.total\n",
    "samples\n",
    "\n",
    "# This dataset is not an imbalance dataset"
   ]
  },
  {
   "cell_type": "code",
   "execution_count": 4,
   "metadata": {},
   "outputs": [],
   "source": [
    "# Count words / token in sample text\n",
    "def len_token(x):\n",
    "    return len(x.split())\n",
    "\n",
    "train['num_words'] = train.text.apply(lambda x: len_token(x))"
   ]
  },
  {
   "cell_type": "code",
   "execution_count": 5,
   "metadata": {},
   "outputs": [
    {
     "data": {
      "text/plain": [
       "count    7613.000000\n",
       "mean       14.903586\n",
       "std         5.732604\n",
       "min         1.000000\n",
       "25%        11.000000\n",
       "50%        15.000000\n",
       "75%        19.000000\n",
       "max        31.000000\n",
       "Name: num_words, dtype: float64"
      ]
     },
     "execution_count": 5,
     "metadata": {},
     "output_type": "execute_result"
    },
    {
     "data": {
      "image/png": "[encoded data removed]",
      "text/plain": [
       "<Figure size 576x576 with 1 Axes>"
      ]
     },
     "metadata": {
      "needs_background": "light"
     },
     "output_type": "display_data"
    }
   ],
   "source": [
    "# See number of words per samples\n",
    "plt.figure(figsize=(8,8))\n",
    "sns.countplot(x = train['num_words'])\n",
    "plt.xticks(rotation=90)\n",
    "\n",
    "train['num_words'].describe()\n",
    "# The average of num_words in samples is 17.7 words\n",
    "# and the 3rd quatile is 23"
   ]
  },
  {
   "cell_type": "code",
   "execution_count": 6,
   "metadata": {},
   "outputs": [
    {
     "data": {
      "text/html": [
       "<div>\n",
       "<style scoped>\n",
       "    .dataframe tbody tr th:only-of-type {\n",
       "        vertical-align: middle;\n",
       "    }\n",
       "\n",
       "    .dataframe tbody tr th {\n",
       "        vertical-align: top;\n",
       "    }\n",
       "\n",
       "    .dataframe thead tr th {\n",
       "        text-align: left;\n",
       "    }\n",
       "\n",
       "    .dataframe thead tr:last-of-type th {\n",
       "        text-align: right;\n",
       "    }\n",
       "</style>\n",
       "<table border=\"1\" class=\"dataframe\">\n",
       "  <thead>\n",
       "    <tr>\n",
       "      <th></th>\n",
       "      <th colspan=\"8\" halign=\"left\">num_words</th>\n",
       "    </tr>\n",
       "    <tr>\n",
       "      <th></th>\n",
       "      <th>count</th>\n",
       "      <th>mean</th>\n",
       "      <th>std</th>\n",
       "      <th>min</th>\n",
       "      <th>25%</th>\n",
       "      <th>50%</th>\n",
       "      <th>75%</th>\n",
       "      <th>max</th>\n",
       "    </tr>\n",
       "    <tr>\n",
       "      <th>target</th>\n",
       "      <th></th>\n",
       "      <th></th>\n",
       "      <th></th>\n",
       "      <th></th>\n",
       "      <th></th>\n",
       "      <th></th>\n",
       "      <th></th>\n",
       "      <th></th>\n",
       "    </tr>\n",
       "  </thead>\n",
       "  <tbody>\n",
       "    <tr>\n",
       "      <th>0</th>\n",
       "      <td>4342.0</td>\n",
       "      <td>14.704744</td>\n",
       "      <td>6.161564</td>\n",
       "      <td>1.0</td>\n",
       "      <td>10.0</td>\n",
       "      <td>15.0</td>\n",
       "      <td>19.0</td>\n",
       "      <td>31.0</td>\n",
       "    </tr>\n",
       "    <tr>\n",
       "      <th>1</th>\n",
       "      <td>3271.0</td>\n",
       "      <td>15.167533</td>\n",
       "      <td>5.096806</td>\n",
       "      <td>2.0</td>\n",
       "      <td>11.0</td>\n",
       "      <td>15.0</td>\n",
       "      <td>19.0</td>\n",
       "      <td>30.0</td>\n",
       "    </tr>\n",
       "  </tbody>\n",
       "</table>\n",
       "</div>"
      ],
      "text/plain": [
       "       num_words                                                  \n",
       "           count       mean       std  min   25%   50%   75%   max\n",
       "target                                                            \n",
       "0         4342.0  14.704744  6.161564  1.0  10.0  15.0  19.0  31.0\n",
       "1         3271.0  15.167533  5.096806  2.0  11.0  15.0  19.0  30.0"
      ]
     },
     "execution_count": 6,
     "metadata": {},
     "output_type": "execute_result"
    },
    {
     "data": {
      "image/png": "[encoded data removed]",
      "text/plain": [
       "<Figure size 360x360 with 1 Axes>"
      ]
     },
     "metadata": {
      "needs_background": "light"
     },
     "output_type": "display_data"
    }
   ],
   "source": [
    "# Difference on distribution num_words on label 1 and 0\n",
    "sns.catplot(x='target', y = 'num_words', kind = 'violin', data=train )\n",
    "train[['num_words', 'target']].groupby('target').describe()\n",
    "\n",
    "# Label 0 tend to have higher num_words showed in 3rd quartile and its higher std compare to label 1"
   ]
  },
  {
   "cell_type": "code",
   "execution_count": 7,
   "metadata": {},
   "outputs": [
    {
     "data": {
      "text/plain": [
       "510.8166594688924"
      ]
     },
     "execution_count": 7,
     "metadata": {},
     "output_type": "execute_result"
    }
   ],
   "source": [
    "# Get ratio of samples per number of word per samples\n",
    "train['num_words'].count() / (train['num_words'].sum() / train['num_words'].count())\n",
    "\n",
    "# The dataset have ratio (samples) per (number of word per samples) = 510 < 1500\n",
    "# Based on this post https://developers.google.com/machine-learning/guides/text-classification/step-2-5\n",
    "# The n-gram model would be better and perform well, we don't have to use sequence model yet"
   ]
  },
  {
   "cell_type": "code",
   "execution_count": 8,
   "metadata": {},
   "outputs": [
    {
     "data": {
      "text/plain": [
       "((6851, 6), (762, 6), (6851,), (762,))"
      ]
     },
     "execution_count": 8,
     "metadata": {},
     "output_type": "execute_result"
    }
   ],
   "source": [
    "# Split train and validation dataset\n",
    "X_train, X_val, y_train, y_val = train_test_split(train, train.target,\n",
    "                                                    test_size=0.1, random_state=1)\n",
    "\n",
    "X_train.shape, X_val.shape, y_train.shape, y_val.shape"
   ]
  },
  {
   "cell_type": "code",
   "execution_count": 9,
   "metadata": {},
   "outputs": [
    {
     "data": {
      "text/html": [
       "<div>\n",
       "<style scoped>\n",
       "    .dataframe tbody tr th:only-of-type {\n",
       "        vertical-align: middle;\n",
       "    }\n",
       "\n",
       "    .dataframe tbody tr th {\n",
       "        vertical-align: top;\n",
       "    }\n",
       "\n",
       "    .dataframe thead th {\n",
       "        text-align: right;\n",
       "    }\n",
       "</style>\n",
       "<table border=\"1\" class=\"dataframe\">\n",
       "  <thead>\n",
       "    <tr style=\"text-align: right;\">\n",
       "      <th></th>\n",
       "      <th>index</th>\n",
       "      <th>target</th>\n",
       "      <th>total</th>\n",
       "      <th>proportion</th>\n",
       "    </tr>\n",
       "  </thead>\n",
       "  <tbody>\n",
       "    <tr>\n",
       "      <th>0</th>\n",
       "      <td>0</td>\n",
       "      <td>3904</td>\n",
       "      <td>6851</td>\n",
       "      <td>0.569844</td>\n",
       "    </tr>\n",
       "    <tr>\n",
       "      <th>1</th>\n",
       "      <td>1</td>\n",
       "      <td>2947</td>\n",
       "      <td>6851</td>\n",
       "      <td>0.430156</td>\n",
       "    </tr>\n",
       "  </tbody>\n",
       "</table>\n",
       "</div>"
      ],
      "text/plain": [
       "   index  target  total  proportion\n",
       "0      0    3904   6851    0.569844\n",
       "1      1    2947   6851    0.430156"
      ]
     },
     "execution_count": 9,
     "metadata": {},
     "output_type": "execute_result"
    }
   ],
   "source": [
    "# See number of samples per label on the training dataset\n",
    "# The samples has the same proportion with the whole training data\n",
    "samples = y_train.value_counts().reset_index()\n",
    "samples['total'] = samples.target.sum()\n",
    "samples['proportion'] = samples.target / samples.total\n",
    "samples"
   ]
  },
  {
   "cell_type": "markdown",
   "metadata": {},
   "source": [
    "### Baseline Model (Count Vectorizer)"
   ]
  },
  {
   "cell_type": "code",
   "execution_count": 10,
   "metadata": {},
   "outputs": [
    {
     "data": {
      "text/plain": [
       "CountVectorizer(analyzer='word', binary=False, decode_error='strict',\n",
       "                dtype=<class 'numpy.int64'>, encoding='utf-8', input='content',\n",
       "                lowercase=True, max_df=1.0, max_features=None, min_df=1,\n",
       "                ngram_range=(1, 1), preprocessor=None, stop_words=None,\n",
       "                strip_accents=None, token_pattern='(?u)\\\\b\\\\w\\\\w+\\\\b',\n",
       "                tokenizer=None, vocabulary=None)"
      ]
     },
     "execution_count": 10,
     "metadata": {},
     "output_type": "execute_result"
    }
   ],
   "source": [
    "# Fit CountVectorizer and see the vocabulary\n",
    "vectorizer = CountVectorizer()\n",
    "vectorizer.fit(X_train['text'])\n",
    "# vectorizer.vocabulary_"
   ]
  },
  {
   "cell_type": "code",
   "execution_count": 11,
   "metadata": {},
   "outputs": [],
   "source": [
    "# Create vector from Count Vecorizer\n",
    "train_vector = vectorizer.transform(X_train['text']) \n",
    "val_vector = vectorizer.transform(X_val['text'])"
   ]
  },
  {
   "cell_type": "code",
   "execution_count": 12,
   "metadata": {},
   "outputs": [
    {
     "name": "stdout",
     "output_type": "stream",
     "text": [
      "F1 Score Baseline model on validation dataset: 0.7354409317803662\n"
     ]
    }
   ],
   "source": [
    "# Build simple model using Logistic Regression\n",
    "logreg = LogisticRegression()\n",
    "\n",
    "logreg.fit(train_vector, y_train)\n",
    "y_pred = logreg.predict(val_vector)\n",
    "\n",
    "score = f1_score(y_val, y_pred)\n",
    "print(\"F1 Score Baseline model on validation dataset: {}\".format(score))\n",
    "\n",
    "# 0.735 is our baseline score"
   ]
  },
  {
   "cell_type": "code",
   "execution_count": 13,
   "metadata": {},
   "outputs": [],
   "source": [
    "# Train model on all training data\n",
    "# Test using test dataset\n",
    "logreg = LogisticRegression()\n",
    "\n",
    "train_vector = vectorizer.transform(train['text'])\n",
    "test_vector = vectorizer.transform(test['text'])\n",
    "\n",
    "logreg.fit(train_vector, train.target)\n",
    "y_pred = logreg.predict(test_vector)"
   ]
  },
  {
   "cell_type": "code",
   "execution_count": 14,
   "metadata": {},
   "outputs": [],
   "source": [
    "# Submission using baseline model\n",
    "submission_baseline = pd.read_csv('/kaggle/input/nlp-getting-started/sample_submission.csv')\n",
    "submission_baseline['target'] = y_pred\n",
    "submission_baseline.to_csv('baseline_logreg.csv', index=False)"
   ]
  },
  {
   "cell_type": "markdown",
   "metadata": {},
   "source": [
    "### TF-IDF Vectorizer"
   ]
  },
  {
   "cell_type": "code",
   "execution_count": 15,
   "metadata": {},
   "outputs": [
    {
     "name": "stdout",
     "output_type": "stream",
     "text": [
      "F1 Score LogReg using TF-IDF on validation dataset: 0.7466216216216216\n"
     ]
    }
   ],
   "source": [
    "# Previously we are using CountVectorizer which using count of each word to generate vector representation of each instance.\n",
    "# Now we are using TF-IDF Vectorizer to generate vector representation of the instances.\n",
    "# The difference is TF-IDF will consider word Frequency and also Inverse Document (that the word appear on)Frequency\n",
    "# The implementation is using sklearn\n",
    "\n",
    "# Create vectorizer and fit with training data\n",
    "tfidfvectorizer = TfidfVectorizer(ngram_range= (1,4), max_features=4000)\n",
    "tfidfvectorizer.fit(X_train['text'])\n",
    "\n",
    "# Create vector of train and validation data using tfidf\n",
    "train_vector = tfidfvectorizer.transform(X_train['text'])\n",
    "val_vector = tfidfvectorizer.transform(X_val['text'])\n",
    "\n",
    "# Build simple model using LogisticRegression\n",
    "logreg = LogisticRegression()\n",
    "logreg.fit(train_vector, y_train)\n",
    "y_pred = logreg.predict(val_vector)\n",
    "\n",
    "score = f1_score(y_val, y_pred)\n",
    "print(\"F1 Score LogReg using TF-IDF on validation dataset: {}\".format(score))\n",
    "# The LogReg with TF-IDF with adjusted hyperparameter perform better than baseline model. Its f1 score is 0.7466"
   ]
  },
  {
   "cell_type": "code",
   "execution_count": 16,
   "metadata": {},
   "outputs": [],
   "source": [
    "# Train model on all training data\n",
    "# Test using test dataset\n",
    "\n",
    "# Create vectorizer and fit with training data\n",
    "tfidfvectorizer = TfidfVectorizer(ngram_range= (1,4), max_features=4000)\n",
    "tfidfvectorizer.fit(train['text'])\n",
    "\n",
    "train_vector = tfidfvectorizer.transform(train['text'])\n",
    "test_vector = tfidfvectorizer.transform(test['text'])\n",
    "\n",
    "logreg = LogisticRegression()\n",
    "\n",
    "logreg.fit(train_vector, train.target)\n",
    "y_pred = logreg.predict(test_vector)"
   ]
  },
  {
   "cell_type": "code",
   "execution_count": 17,
   "metadata": {},
   "outputs": [],
   "source": [
    "# Submission using baseline model\n",
    "submission_tfidf = pd.read_csv('/kaggle/input/nlp-getting-started/sample_submission.csv')\n",
    "submission_tfidf['target'] = y_pred\n",
    "submission_tfidf.to_csv('tfidf_logreg.csv', index=False)"
   ]
  },
  {
   "cell_type": "markdown",
   "metadata": {},
   "source": [
    "### Hashing Vectorizer to get Binary Vectorization"
   ]
  },
  {
   "cell_type": "code",
   "execution_count": 18,
   "metadata": {},
   "outputs": [
    {
     "name": "stdout",
     "output_type": "stream",
     "text": [
      "F1 Score LogReg using HashingVectorizer on validation dataset: 0.7401032702237521\n"
     ]
    }
   ],
   "source": [
    "# Create vectorizer and fit with training data\n",
    "vectorizer = HashingVectorizer(binary= True)\n",
    "vectorizer.fit(X_train['text'])\n",
    "\n",
    "# Create vector of train and validation data using tfidf\n",
    "train_vector = vectorizer.transform(X_train['text'])\n",
    "val_vector = vectorizer.transform(X_val['text'])\n",
    "\n",
    "# Build simple model using LogisticRegression\n",
    "logreg = LogisticRegression()\n",
    "logreg.fit(train_vector, y_train)\n",
    "y_pred = logreg.predict(val_vector)\n",
    "\n",
    "score = f1_score(y_val, y_pred)\n",
    "print(\"F1 Score LogReg using HashingVectorizer on validation dataset: {}\".format(score))\n",
    "# The Binary Vectorizer perform better than Count Vectorizer, but not TF-IDF Vectorizer\n",
    "# The F1 Score is 0.74"
   ]
  },
  {
   "cell_type": "code",
   "execution_count": 19,
   "metadata": {},
   "outputs": [],
   "source": [
    "# Train model on all training data\n",
    "# Test using test dataset\n",
    "\n",
    "# Create vectorizer and fit with training data\n",
    "vectorizer = HashingVectorizer(binary= True)\n",
    "vectorizer.fit(train['text'])\n",
    "\n",
    "train_vector = vectorizer.transform(train['text'])\n",
    "test_vector = vectorizer.transform(test['text'])\n",
    "\n",
    "logreg = LogisticRegression()\n",
    "\n",
    "logreg.fit(train_vector, train.target)\n",
    "y_pred = logreg.predict(test_vector)"
   ]
  },
  {
   "cell_type": "code",
   "execution_count": 20,
   "metadata": {},
   "outputs": [],
   "source": [
    "# Submission using binary vectorizer\n",
    "submission_binary = pd.read_csv('/kaggle/input/nlp-getting-started/sample_submission.csv')\n",
    "submission_binary['target'] = y_pred\n",
    "submission_binary.to_csv('binary_vect_logreg.csv', index=False)"
   ]
  },
  {
   "cell_type": "markdown",
   "metadata": {},
   "source": [
    "### Count Vectorizer with adjusted hyperparameter"
   ]
  },
  {
   "cell_type": "code",
   "execution_count": 21,
   "metadata": {},
   "outputs": [
    {
     "name": "stdout",
     "output_type": "stream",
     "text": [
      "F1 Score LogReg using CountVectorizer with adjusted hyperparameter on validation dataset: 0.7529021558872305\n"
     ]
    }
   ],
   "source": [
    "# Create vectorizer and fit with training data\n",
    "tfidfvectorizer = CountVectorizer(ngram_range= (1,4), max_features=4000)\n",
    "tfidfvectorizer.fit(X_train['text'])\n",
    "\n",
    "# Create vector of train and validation data using tfidf\n",
    "train_vector = tfidfvectorizer.transform(X_train['text'])\n",
    "val_vector = tfidfvectorizer.transform(X_val['text'])\n",
    "\n",
    "# Build simple model using LogisticRegression\n",
    "logreg = LogisticRegression()\n",
    "logreg.fit(train_vector, y_train)\n",
    "y_pred = logreg.predict(val_vector)\n",
    "\n",
    "score = f1_score(y_val, y_pred)\n",
    "print(\"F1 Score LogReg using CountVectorizer with adjusted hyperparameter on validation dataset: {}\".format(score))\n",
    "# These adjusted hyperparameter help CountVectorizer to perform better. its f1 score is 0.7529"
   ]
  },
  {
   "cell_type": "code",
   "execution_count": 22,
   "metadata": {},
   "outputs": [],
   "source": [
    "# Train model on all training data\n",
    "# Test using test dataset\n",
    "\n",
    "# Create vectorizer and fit with training data\n",
    "vectorizer = CountVectorizer(ngram_range= (1,4), max_features=4000)\n",
    "vectorizer.fit(train['text'])\n",
    "\n",
    "train_vector = vectorizer.transform(train['text'])\n",
    "test_vector = vectorizer.transform(test['text'])\n",
    "\n",
    "logreg = LogisticRegression()\n",
    "\n",
    "logreg.fit(train_vector, train.target)\n",
    "y_pred = logreg.predict(test_vector)"
   ]
  },
  {
   "cell_type": "code",
   "execution_count": 23,
   "metadata": {},
   "outputs": [],
   "source": [
    "# Submission using count vectorizer with adjusted hyperparameter\n",
    "submission_better_count = pd.read_csv('/kaggle/input/nlp-getting-started/sample_submission.csv')\n",
    "submission_better_count['target'] = y_pred\n",
    "submission_better_count.to_csv('better_count_logreg.csv', index=False)"
   ]
  },
  {
   "cell_type": "markdown",
   "metadata": {},
   "source": [
    "### Count Vectorizer with adjusted hyperparameter + Normalize features"
   ]
  },
  {
   "cell_type": "code",
   "execution_count": 24,
   "metadata": {},
   "outputs": [
    {
     "name": "stdout",
     "output_type": "stream",
     "text": [
      "F1 Score LogReg using CountVectorizer with adjusted hyperparameter on validation dataset: 0.7288135593220338\n"
     ]
    }
   ],
   "source": [
    "# Create vectorizer and fit with training data\n",
    "tfidfvectorizer = CountVectorizer(ngram_range= (1,4), max_features=4000)\n",
    "tfidfvectorizer.fit(X_train['text'])\n",
    "\n",
    "# Create vector of train and validation data using tfidf\n",
    "train_vector = tfidfvectorizer.transform(X_train['text'])\n",
    "val_vector = tfidfvectorizer.transform(X_val['text'])\n",
    "\n",
    "# Standadize features\n",
    "scaler = Normalizer()\n",
    "scaler.fit(train_vector)\n",
    "\n",
    "train_vector = scaler.transform(train_vector)\n",
    "val_vector = scaler.transform(val_vector)\n",
    "\n",
    "# Build simple model using LogisticRegression\n",
    "logreg = LogisticRegression()\n",
    "logreg.fit(train_vector, y_train)\n",
    "y_pred = logreg.predict(val_vector)\n",
    "\n",
    "score = f1_score(y_val, y_pred)\n",
    "print(\"F1 Score LogReg using CountVectorizer with adjusted hyperparameter on validation dataset: {}\".format(score))\n",
    "# These adjusted hyperparameter help CountVectorizer and Normalize did not perform better. its f1 score is 0.728"
   ]
  },
  {
   "cell_type": "markdown",
   "metadata": {},
   "source": [
    "### Multi Layer Perceptron + (Count Vectorizer / TF-IDF Vectorizer)"
   ]
  },
  {
   "cell_type": "code",
   "execution_count": 25,
   "metadata": {},
   "outputs": [
    {
     "name": "stdout",
     "output_type": "stream",
     "text": [
      "Train on 6851 samples\n",
      "Epoch 1/10\n",
      "6851/6851 [==============================] - 2s 310us/sample - loss: 0.4946 - accuracy: 0.7762\n",
      "Epoch 2/10\n",
      "6851/6851 [==============================] - 1s 111us/sample - loss: 0.2884 - accuracy: 0.8867\n",
      "Epoch 3/10\n",
      "6851/6851 [==============================] - 1s 113us/sample - loss: 0.1481 - accuracy: 0.9464\n",
      "Epoch 4/10\n",
      "6851/6851 [==============================] - 1s 113us/sample - loss: 0.0822 - accuracy: 0.9698\n",
      "Epoch 5/10\n",
      "6851/6851 [==============================] - 1s 117us/sample - loss: 0.0586 - accuracy: 0.9731\n",
      "Epoch 6/10\n",
      "6851/6851 [==============================] - 1s 113us/sample - loss: 0.0527 - accuracy: 0.9778\n",
      "Epoch 7/10\n",
      "6851/6851 [==============================] - 1s 125us/sample - loss: 0.0465 - accuracy: 0.9788\n",
      "Epoch 8/10\n",
      "6851/6851 [==============================] - 1s 118us/sample - loss: 0.0422 - accuracy: 0.9801\n",
      "Epoch 9/10\n",
      "6851/6851 [==============================] - 1s 110us/sample - loss: 0.0400 - accuracy: 0.9804\n",
      "Epoch 10/10\n",
      "6851/6851 [==============================] - 1s 110us/sample - loss: 0.0440 - accuracy: 0.9797\n"
     ]
    },
    {
     "data": {
      "text/plain": [
       "<tensorflow.python.keras.callbacks.History at 0x7f538f64c748>"
      ]
     },
     "execution_count": 25,
     "metadata": {},
     "output_type": "execute_result"
    }
   ],
   "source": [
    "# Now we have two possible vectorizer, we will try using difference modelling which is MLP\n",
    "# We will use shallow MLP first to see whether the model will perform better or not than Logistic Regression\n",
    "\n",
    "# MLP with Count Vectorizer\n",
    "\n",
    "# Create vectorizer and fit with training data\n",
    "vectorizer = CountVectorizer(ngram_range= (1,2), max_features=4000)\n",
    "vectorizer.fit(X_train['text'])\n",
    "\n",
    "# Create vector of train and validation data using tfidf\n",
    "train_count_vector = vectorizer.transform(X_train['text'])\n",
    "val_count_vector = vectorizer.transform(X_val['text'])\n",
    "\n",
    "# MLP Architecture\n",
    "mlp_count = keras.Sequential([\n",
    "    keras.layers.Dense(1028, activation= 'relu', kernel_initializer= 'he_normal', input_shape=train_count_vector.shape[1:]),\n",
    "    keras.layers.Dense(256, activation= 'relu', kernel_initializer= 'he_normal'),\n",
    "    keras.layers.Dense(1, activation='sigmoid')\n",
    "])\n",
    "\n",
    "# Compile MLP\n",
    "mlp_count.compile(optimizer= 'adam',\n",
    "                  loss= 'binary_crossentropy',\n",
    "                  metrics= ['accuracy']\n",
    "                 )\n",
    "\n",
    "# Train MLP\n",
    "mlp_count.fit(train_count_vector.toarray(), y_train, epochs=10)"
   ]
  },
  {
   "cell_type": "code",
   "execution_count": 26,
   "metadata": {},
   "outputs": [
    {
     "name": "stdout",
     "output_type": "stream",
     "text": [
      "MLP Accuracy on Validation: 0.7939632534980774\n",
      "F1 Score MLP and Count Vectorizer on validation dataset: 0.7279029462738302\n"
     ]
    }
   ],
   "source": [
    "# Evaluate model in validation dataset\n",
    "test_loss, test_acc = mlp_count.evaluate(val_count_vector.toarray(),y_val, verbose= 0)\n",
    "print(\"MLP Accuracy on Validation: {}\".format(test_acc))\n",
    "\n",
    "# Evaluate model in validation dataset\n",
    "y_pred = mlp_count.predict_classes(val_count_vector.toarray())\n",
    "score = f1_score(y_val, y_pred)\n",
    "print(\"F1 Score MLP and Count Vectorizer on validation dataset: {}\".format(score))"
   ]
  },
  {
   "cell_type": "code",
   "execution_count": 27,
   "metadata": {},
   "outputs": [],
   "source": [
    "# Train model on all training data\n",
    "# Test using test dataset\n",
    "\n",
    "# Create vectorizer and fit with training data\n",
    "vectorizer = CountVectorizer(ngram_range= (1,2), max_features=4000)\n",
    "vectorizer.fit(train['text'])\n",
    "\n",
    "train_vector = vectorizer.transform(train['text'])\n",
    "test_vector = vectorizer.transform(test['text'])\n",
    "\n",
    "# MLP Architecture\n",
    "mlp_count = keras.Sequential([\n",
    "    keras.layers.Dense(1028, activation= 'relu', kernel_initializer= 'he_normal', input_shape=train_count_vector.shape[1:]),\n",
    "    keras.layers.Dense(256, activation= 'relu', kernel_initializer= 'he_normal'),\n",
    "    keras.layers.Dense(1, activation='sigmoid')\n",
    "])\n",
    "\n",
    "# Compile MLP\n",
    "mlp_count.compile(optimizer= 'adam',\n",
    "                  loss= 'binary_crossentropy',\n",
    "                  metrics= ['accuracy']\n",
    "                 )\n",
    "\n",
    "# Train MLP\n",
    "mlp_count.fit(train_vector.toarray(), train.target, epochs=20, verbose=0)\n",
    "\n",
    "# Prediction on test dataset\n",
    "y_pred = mlp_count.predict_classes(test_vector.toarray())\n",
    "\n",
    "# Submission using MLP and count vectorizer\n",
    "submission_mlp_count = pd.read_csv('/kaggle/input/nlp-getting-started/sample_submission.csv')\n",
    "submission_mlp_count['target'] = y_pred\n",
    "submission_mlp_count.to_csv('count_mlp.csv', index=False)"
   ]
  },
  {
   "cell_type": "code",
   "execution_count": 28,
   "metadata": {},
   "outputs": [
    {
     "name": "stdout",
     "output_type": "stream",
     "text": [
      "Train on 6851 samples\n",
      "Epoch 1/10\n",
      "6851/6851 [==============================] - 1s 170us/sample - loss: 0.4979 - accuracy: 0.7581\n",
      "Epoch 2/10\n",
      "6851/6851 [==============================] - 1s 116us/sample - loss: 0.2955 - accuracy: 0.8780\n",
      "Epoch 3/10\n",
      "6851/6851 [==============================] - 1s 118us/sample - loss: 0.1638 - accuracy: 0.9399\n",
      "Epoch 4/10\n",
      "6851/6851 [==============================] - 1s 118us/sample - loss: 0.0886 - accuracy: 0.9691\n",
      "Epoch 5/10\n",
      "6851/6851 [==============================] - 1s 115us/sample - loss: 0.0614 - accuracy: 0.9749\n",
      "Epoch 6/10\n",
      "6851/6851 [==============================] - 1s 117us/sample - loss: 0.0503 - accuracy: 0.9788\n",
      "Epoch 7/10\n",
      "6851/6851 [==============================] - 1s 115us/sample - loss: 0.0447 - accuracy: 0.9787\n",
      "Epoch 8/10\n",
      "6851/6851 [==============================] - 1s 112us/sample - loss: 0.0411 - accuracy: 0.9806\n",
      "Epoch 9/10\n",
      "6851/6851 [==============================] - 1s 114us/sample - loss: 0.0391 - accuracy: 0.9807\n",
      "Epoch 10/10\n",
      "6851/6851 [==============================] - 1s 112us/sample - loss: 0.0386 - accuracy: 0.9816\n"
     ]
    },
    {
     "data": {
      "text/plain": [
       "<tensorflow.python.keras.callbacks.History at 0x7f53989a4a90>"
      ]
     },
     "execution_count": 28,
     "metadata": {},
     "output_type": "execute_result"
    }
   ],
   "source": [
    "# MLP with TF-IDF Vectorizer\n",
    "\n",
    "# Create vectorizer and fit with training data\n",
    "tfidfvectorizer = TfidfVectorizer(ngram_range= (1,2), max_features=4000)\n",
    "tfidfvectorizer.fit(X_train['text'])\n",
    "\n",
    "# Create vector of train and validation data using tfidf\n",
    "train_tfidf_vector = tfidfvectorizer.transform(X_train['text'])\n",
    "val_tfidf_vector = tfidfvectorizer.transform(X_val['text'])\n",
    "\n",
    "# MLP Architecture\n",
    "mlp_tfidf = keras.Sequential([\n",
    "    keras.layers.Dense(1028, activation= 'relu', kernel_initializer= 'he_normal', input_shape=train_tfidf_vector.shape[1:]),\n",
    "    keras.layers.Dense(256, activation= 'relu', kernel_initializer= 'he_normal'),\n",
    "    keras.layers.Dense(1, activation='sigmoid')\n",
    "])\n",
    "\n",
    "# Compile MLP\n",
    "mlp_tfidf.compile(optimizer= 'adam',\n",
    "                  loss= 'binary_crossentropy',\n",
    "                  metrics= ['accuracy']\n",
    "                 )\n",
    "\n",
    "# Train MLP\n",
    "mlp_tfidf.fit(train_tfidf_vector.toarray(), y_train, epochs=10)"
   ]
  },
  {
   "cell_type": "code",
   "execution_count": 29,
   "metadata": {},
   "outputs": [
    {
     "name": "stdout",
     "output_type": "stream",
     "text": [
      "MLP Accuracy on Validation: 0.7677165269851685\n",
      "F1 Score MLP and TF-IDF Vectorizer on validation dataset: 0.7354260089686099\n"
     ]
    }
   ],
   "source": [
    "# Evaluate model in validation dataset\n",
    "test_loss, test_acc = mlp_tfidf.evaluate(val_count_vector.toarray(),y_val, verbose= 0)\n",
    "print(\"MLP Accuracy on Validation: {}\".format(test_acc))\n",
    "\n",
    "# Evaluate model in validation dataset\n",
    "y_pred = mlp_tfidf.predict_classes(val_count_vector.toarray())\n",
    "score = f1_score(y_val, y_pred)\n",
    "print(\"F1 Score MLP and TF-IDF Vectorizer on validation dataset: {}\".format(score))"
   ]
  },
  {
   "cell_type": "code",
   "execution_count": 30,
   "metadata": {},
   "outputs": [],
   "source": [
    "# Train model on all training data\n",
    "# Test using test dataset\n",
    "\n",
    "# Create vectorizer and fit with training data\n",
    "tfidfvectorizer = TfidfVectorizer(ngram_range= (1,2), max_features=4000)\n",
    "vectorizer.fit(train['text'])\n",
    "\n",
    "train_vector = vectorizer.transform(train['text'])\n",
    "test_vector = vectorizer.transform(test['text'])\n",
    "\n",
    "# MLP Architecture\n",
    "mlp_tfidf = keras.Sequential([\n",
    "    keras.layers.Dense(1028, activation= 'relu', kernel_initializer= 'he_normal', input_shape=train_vector.shape[1:]),\n",
    "    keras.layers.Dense(256, activation= 'relu', kernel_initializer= 'he_normal'),\n",
    "    keras.layers.Dense(1, activation='sigmoid')\n",
    "])\n",
    "\n",
    "# Compile MLP\n",
    "mlp_tfidf.compile(optimizer= 'adam',\n",
    "                  loss= 'binary_crossentropy',\n",
    "                  metrics= ['accuracy']\n",
    "                 )\n",
    "\n",
    "# Train MLP\n",
    "mlp_tfidf.fit(train_vector.toarray(), train.target, epochs=10, verbose=0)\n",
    "\n",
    "# Prediction on test dataset\n",
    "y_pred = mlp_tfidf.predict_classes(test_vector.toarray())\n",
    "\n",
    "# Submission using MLP and count vectorizer\n",
    "submission_mlp_tfidf = pd.read_csv('/kaggle/input/nlp-getting-started/sample_submission.csv')\n",
    "submission_mlp_tfidf['target'] = y_pred\n",
    "submission_mlp_tfidf.to_csv('tfidf_mlp.csv', index=False)"
   ]
  },
  {
   "cell_type": "markdown",
   "metadata": {},
   "source": [
    "### EDA\n",
    "Since we have been benchmarking several models and found that the Logistic Regression perform better than MLP.\n",
    "I believe we need to take a look deeper into the data."
   ]
  },
  {
   "cell_type": "code",
   "execution_count": 31,
   "metadata": {},
   "outputs": [
    {
     "ename": "NameError",
     "evalue": "name 'ENGLISH_STOP_WORDS' is not defined",
     "output_type": "error",
     "traceback": [
      "\u001b[0;31m---------------------------------------------------------------------------\u001b[0m",
      "\u001b[0;31mNameError\u001b[0m                                 Traceback (most recent call last)",
      "\u001b[0;32m<ipython-input-31-a0979c13a8b6>\u001b[0m in \u001b[0;36m<module>\u001b[0;34m\u001b[0m\n\u001b[1;32m      1\u001b[0m \u001b[0;31m# First we want to see whether eliminating stopwords will increase the model performance\u001b[0m\u001b[0;34m\u001b[0m\u001b[0;34m\u001b[0m\u001b[0m\n\u001b[0;32m----> 2\u001b[0;31m \u001b[0mstop_words\u001b[0m \u001b[0;34m=\u001b[0m \u001b[0mlist\u001b[0m\u001b[0;34m(\u001b[0m\u001b[0mENGLISH_STOP_WORDS\u001b[0m\u001b[0;34m)\u001b[0m\u001b[0;34m\u001b[0m\u001b[0m\n\u001b[0m",
      "\u001b[0;31mNameError\u001b[0m: name 'ENGLISH_STOP_WORDS' is not defined"
     ]
    }
   ],
   "source": [
    "# First we want to see whether eliminating stopwords will increase the model performance\n",
    "stop_words = list(ENGLISH_STOP_WORDS)"
   ]
  },
  {
   "cell_type": "code",
   "execution_count": 32,
   "metadata": {},
   "outputs": [
    {
     "ename": "NameError",
     "evalue": "name 'stop_words' is not defined",
     "output_type": "error",
     "traceback": [
      "\u001b[0;31m---------------------------------------------------------------------------\u001b[0m",
      "\u001b[0;31mNameError\u001b[0m                                 Traceback (most recent call last)",
      "\u001b[0;32m<ipython-input-32-f101b275a5ac>\u001b[0m in \u001b[0;36m<module>\u001b[0;34m\u001b[0m\n\u001b[1;32m      1\u001b[0m \u001b[0;31m# Create vectorizer and fit with training data\u001b[0m\u001b[0;34m\u001b[0m\u001b[0;34m\u001b[0m\u001b[0m\n\u001b[0;32m----> 2\u001b[0;31m \u001b[0mvectorizer\u001b[0m \u001b[0;34m=\u001b[0m \u001b[0mCountVectorizer\u001b[0m\u001b[0;34m(\u001b[0m\u001b[0mngram_range\u001b[0m\u001b[0;34m=\u001b[0m \u001b[0;34m(\u001b[0m\u001b[0;36m1\u001b[0m\u001b[0;34m,\u001b[0m\u001b[0;36m4\u001b[0m\u001b[0;34m)\u001b[0m\u001b[0;34m,\u001b[0m \u001b[0mmax_features\u001b[0m \u001b[0;34m=\u001b[0m \u001b[0;36m4000\u001b[0m\u001b[0;34m,\u001b[0m \u001b[0mstop_words\u001b[0m \u001b[0;34m=\u001b[0m \u001b[0mstop_words\u001b[0m\u001b[0;34m)\u001b[0m\u001b[0;34m\u001b[0m\u001b[0m\n\u001b[0m\u001b[1;32m      3\u001b[0m \u001b[0mvectorizer\u001b[0m\u001b[0;34m.\u001b[0m\u001b[0mfit\u001b[0m\u001b[0;34m(\u001b[0m\u001b[0mX_train\u001b[0m\u001b[0;34m[\u001b[0m\u001b[0;34m'text'\u001b[0m\u001b[0;34m]\u001b[0m\u001b[0;34m)\u001b[0m\u001b[0;34m\u001b[0m\u001b[0m\n\u001b[1;32m      4\u001b[0m \u001b[0;34m\u001b[0m\u001b[0m\n\u001b[1;32m      5\u001b[0m \u001b[0;31m# Create vector of train and validation data using tfidf\u001b[0m\u001b[0;34m\u001b[0m\u001b[0;34m\u001b[0m\u001b[0m\n",
      "\u001b[0;31mNameError\u001b[0m: name 'stop_words' is not defined"
     ]
    }
   ],
   "source": [
    "# Create vectorizer and fit with training data\n",
    "vectorizer = CountVectorizer(ngram_range= (1,4), max_features = 4000, stop_words = stop_words)\n",
    "vectorizer.fit(X_train['text'])\n",
    "\n",
    "# Create vector of train and validation data using tfidf\n",
    "train_vector = vectorizer.transform(X_train['text'])\n",
    "val_vector = vectorizer.transform(X_val['text'])\n",
    "\n",
    "# Build simple model using LogisticRegression\n",
    "logreg = LogisticRegression()\n",
    "logreg.fit(train_vector, y_train)\n",
    "y_pred = logreg.predict(val_vector)\n",
    "\n",
    "score = f1_score(y_val, y_pred)\n",
    "print(\"F1 Score LogReg using Count Vectorizer with Stop Words on validation dataset: {}\".format(score))\n",
    "# Giving stop words worsen the model performance on F1 score"
   ]
  },
  {
   "cell_type": "code",
   "execution_count": 33,
   "metadata": {},
   "outputs": [],
   "source": [
    "# Get the models coefficients (and top 20 and bottom 20)\n",
    "def plot_top_bottom_20_coef(model, feature_names):\n",
    "    logReg_coeff = pd.DataFrame({'feature_name': feature_names, 'model_coefficient': model.coef_.transpose().flatten()})\n",
    "    logReg_coeff = logReg_coeff.sort_values('model_coefficient',ascending=False)\n",
    "    logReg_coeff_top = logReg_coeff.head(20)\n",
    "    logReg_coeff_bottom = logReg_coeff.tail(20)\n",
    "\n",
    "    plt.figure().set_size_inches(10, 6)\n",
    "    fg3 = sns.barplot(x='feature_name', y='model_coefficient',data=logReg_coeff_top, palette=\"Blues_d\")\n",
    "    fg3.set_xticklabels(rotation=35, labels=logReg_coeff_top.feature_name)\n",
    "    # Plot bottom 5 coefficients\n",
    "    plt.figure().set_size_inches(10,6)\n",
    "    fg4 = sns.barplot(x='feature_name', y='model_coefficient',data=logReg_coeff_bottom, palette=\"GnBu_d\")\n",
    "    fg4.set_xticklabels(rotation=35, labels=logReg_coeff_bottom.feature_name)\n",
    "    plt.xlabel('Feature')\n",
    "    plt.ylabel('Coefficient')\n",
    "    plt.subplots_adjust(bottom=0.4)"
   ]
  },
  {
   "cell_type": "code",
   "execution_count": 34,
   "metadata": {},
   "outputs": [
    {
     "data": {
      "image/png": "[encoded data removed]",
      "text/plain": [
       "<Figure size 720x432 with 1 Axes>"
      ]
     },
     "metadata": {
      "needs_background": "light"
     },
     "output_type": "display_data"
    },
    {
     "data": {
      "image/png": "[encoded data removed]",
      "text/plain": [
       "<Figure size 720x432 with 1 Axes>"
      ]
     },
     "metadata": {
      "needs_background": "light"
     },
     "output_type": "display_data"
    }
   ],
   "source": [
    "# Plot logistic regression coefficient on using Count Vectorizer\n",
    "# get feature names\n",
    "feature_names = np.array(vectorizer.get_feature_names())\n",
    "plot_top_bottom_20_coef(logreg, feature_names)"
   ]
  },
  {
   "cell_type": "code",
   "execution_count": 35,
   "metadata": {},
   "outputs": [
    {
     "name": "stdout",
     "output_type": "stream",
     "text": [
      "F1 Score LogReg using TF-IDF on validation dataset: 0.7466216216216216\n"
     ]
    }
   ],
   "source": [
    "# See coefficient Logistic Regression on TF-IDF Vectorizer\n",
    "\n",
    "# Create vectorizer and fit with training data\n",
    "tfidfvectorizer = TfidfVectorizer(ngram_range= (1,4), max_features=4000)\n",
    "tfidfvectorizer.fit(X_train['text'])\n",
    "\n",
    "# Create vector of train and validation data using tfidf\n",
    "train_vector = tfidfvectorizer.transform(X_train['text'])\n",
    "val_vector = tfidfvectorizer.transform(X_val['text'])\n",
    "\n",
    "# Build simple model using LogisticRegression\n",
    "logreg = LogisticRegression()\n",
    "logreg.fit(train_vector, y_train)\n",
    "y_pred = logreg.predict(val_vector)\n",
    "\n",
    "score = f1_score(y_val, y_pred)\n",
    "print(\"F1 Score LogReg using TF-IDF on validation dataset: {}\".format(score))\n"
   ]
  },
  {
   "cell_type": "code",
   "execution_count": 36,
   "metadata": {},
   "outputs": [
    {
     "data": {
      "image/png": "[encoded data removed]",
      "text/plain": [
       "<Figure size 720x432 with 1 Axes>"
      ]
     },
     "metadata": {
      "needs_background": "light"
     },
     "output_type": "display_data"
    },
    {
     "data": {
      "image/png": "[encoded data removed]",
      "text/plain": [
       "<Figure size 720x432 with 1 Axes>"
      ]
     },
     "metadata": {
      "needs_background": "light"
     },
     "output_type": "display_data"
    }
   ],
   "source": [
    "# Plot Coefficient TF-IDF LogReg Model\n",
    "\n",
    "# get feature names\n",
    "feature_names = np.array(tfidfvectorizer.get_feature_names())\n",
    "plot_top_bottom_20_coef(logreg, feature_names)\n",
    "\n",
    "# 20 positive coefficient features from Count Vectorizer and TF-IDF Vectorizer quite the same\n",
    "# The difference is in negative coefficient. Count Vectorizer tend to have higher negative coefficient than TF-IDF\n",
    "# Could we see which features that have the same correlation and drop it?"
   ]
  },
  {
   "cell_type": "code",
   "execution_count": 37,
   "metadata": {},
   "outputs": [
    {
     "name": "stdout",
     "output_type": "stream",
     "text": [
      "  . Most correlated unigrams:\n",
      ". friends\n",
      ". from\n",
      ". free\n",
      ". front\n",
      ". ft\n",
      ". fuck\n",
      ". fucking\n",
      ". fukushima\n",
      ". full\n",
      ". ûó\n",
      "  . Most correlated bigrams:\n",
      ". full read\n",
      ". from cameroon\n",
      ". from flight\n",
      ". from mh370\n",
      ". from missing\n",
      ". from my\n",
      ". from water\n",
      ". fukushima nuclear\n",
      ". full re\n",
      ". from the\n"
     ]
    }
   ],
   "source": [
    "# Chi Square test is one of the way to see linear correlation between features to label\n",
    "\n",
    "# Create vectorizer and fit with training data\n",
    "vectorizer = CountVectorizer(ngram_range= (1,4), max_features = 4000)\n",
    "vectorizer.fit(X_train['text'])\n",
    "\n",
    "# Create vector of train and validation data using tfidf\n",
    "train_vector = vectorizer.transform(X_train['text'])\n",
    "val_vector = vectorizer.transform(X_val['text'])\n",
    "\n",
    "# Convert vector to array\n",
    "features = train_vector.toarray()\n",
    "labels = y_train\n",
    "\n",
    "# Get unigram and bigram the most correlated features\n",
    "N = 10\n",
    "features_chi2 = chi2(features, labels == labels)\n",
    "indices = np.argsort(features_chi2[0])\n",
    "feature_names = np.array(vectorizer.get_feature_names())[indices]\n",
    "unigrams = [v for v in feature_names if len(v.split(' ')) == 1]\n",
    "bigrams = [v for v in feature_names if len(v.split(' ')) == 2]\n",
    "print(\"  . Most correlated unigrams:\\n. {}\".format('\\n. '.join(unigrams[-N:])))\n",
    "print(\"  . Most correlated bigrams:\\n. {}\".format('\\n. '.join(bigrams[-N:])))\n"
   ]
  },
  {
   "cell_type": "markdown",
   "metadata": {},
   "source": [
    "### Select K Best\n",
    "As Yann Claudel Notebook [here](https://www.kaggle.com/yclaudel/disaster-tweets-tfidf-selectkbest-mlp). I will try to improve using different metric \"chi2\" for selecting K best"
   ]
  },
  {
   "cell_type": "markdown",
   "metadata": {},
   "source": [
    "#### Select K Best with Logistic Regression"
   ]
  },
  {
   "cell_type": "code",
   "execution_count": 38,
   "metadata": {},
   "outputs": [
    {
     "name": "stdout",
     "output_type": "stream",
     "text": [
      "F1 Score LogReg using CountVectorizer and SelectKBest with f_classif on validation dataset: 0.7625418060200668\n"
     ]
    }
   ],
   "source": [
    "# Create vectorizer and fit with training data\n",
    "vectorizer = CountVectorizer(ngram_range= (1,2), max_features= 4000)\n",
    "vectorizer.fit(X_train['text'])\n",
    "\n",
    "# Create vector of train and validation data using tfidf\n",
    "train_vector = vectorizer.transform(X_train['text'])\n",
    "val_vector = vectorizer.transform(X_val['text'])\n",
    "\n",
    "# Select K best\n",
    "selector = SelectKBest(f_classif, k = 3000)\n",
    "selector.fit(train_vector, y_train)\n",
    "\n",
    "# Select vector\n",
    "train_vector = selector.transform(train_vector)\n",
    "val_vector = selector.transform(val_vector)\n",
    "\n",
    "# Build simple model using LogisticRegression\n",
    "logreg = LogisticRegression()\n",
    "logreg.fit(train_vector, y_train)\n",
    "y_pred = logreg.predict(val_vector)\n",
    "\n",
    "score = f1_score(y_val, y_pred)\n",
    "print(\"F1 Score LogReg using CountVectorizer and SelectKBest with f_classif on validation dataset: {}\".format(score))\n",
    "# Selecting 3000 with f_classif improve f1 score to 0.762\n",
    "# I tried to use chi2 to select features, but it does not give difference with f_classif"
   ]
  },
  {
   "cell_type": "code",
   "execution_count": 39,
   "metadata": {},
   "outputs": [],
   "source": [
    "# Train model on all training data\n",
    "# Test using test dataset\n",
    "\n",
    "# Create vectorizer and fit with training data\n",
    "vectorizer = CountVectorizer(ngram_range= (1,2), max_features=4000)\n",
    "vectorizer.fit(train['text'])\n",
    "\n",
    "train_vector = vectorizer.transform(train['text'])\n",
    "test_vector = vectorizer.transform(test['text'])\n",
    "\n",
    "# SelectKBest using f_classif\n",
    "selector = SelectKBest(f_classif, k = 3000)\n",
    "selector.fit(train_vector, train.target)\n",
    "\n",
    "# Select vector\n",
    "train_vector = selector.transform(train_vector)\n",
    "test_vector = selector.transform(test_vector)\n",
    "\n",
    "logreg = LogisticRegression()\n",
    "\n",
    "logreg.fit(train_vector, train.target)\n",
    "y_pred = logreg.predict(test_vector)\n",
    "\n",
    "# Submission using count vectorizer with adjusted hyperparameter\n",
    "submission_count_selectk = pd.read_csv('/kaggle/input/nlp-getting-started/sample_submission.csv')\n",
    "submission_count_selectk['target'] = y_pred\n",
    "submission_count_selectk.to_csv('count_selectk_logreg.csv', index=False)"
   ]
  },
  {
   "cell_type": "markdown",
   "metadata": {},
   "source": [
    "#### Select K Best with MLP"
   ]
  },
  {
   "cell_type": "code",
   "execution_count": 40,
   "metadata": {},
   "outputs": [],
   "source": [
    "# Previously we are optimizing the model using accuracy metric instead of f1_score\n",
    "# We now will implement custom metric f1_score for optimizing the model\n",
    "\n",
    "def f1(y_true, y_pred):\n",
    "    # Count positive samples.\n",
    "    c1 = K.sum(K.round(K.clip(y_true * y_pred, 0, 1)))\n",
    "    c2 = K.sum(K.round(K.clip(y_pred, 0, 1)))\n",
    "    c3 = K.sum(K.round(K.clip(y_true, 0, 1)))\n",
    "\n",
    "    # How many selected items are relevant?\n",
    "    precision = c1 / c2\n",
    "\n",
    "    # How many relevant items are selected?\n",
    "    recall = c1 / c3\n",
    "\n",
    "    # Calculate f1_score\n",
    "    f1_score = 2 * (precision * recall) / (precision + recall)\n",
    "    return f1_score "
   ]
  },
  {
   "cell_type": "code",
   "execution_count": 41,
   "metadata": {},
   "outputs": [
    {
     "name": "stdout",
     "output_type": "stream",
     "text": [
      "Train on 6851 samples\n",
      "Epoch 1/20\n",
      "6851/6851 [==============================] - 1s 179us/sample - loss: 0.1851 - accuracy: 0.7421 - f1: nan\n",
      "Epoch 2/20\n",
      "6851/6851 [==============================] - 1s 110us/sample - loss: 0.1334 - accuracy: 0.8178 - f1: 0.7606\n",
      "Epoch 3/20\n",
      "6851/6851 [==============================] - 1s 108us/sample - loss: 0.1201 - accuracy: 0.8400 - f1: 0.7923\n",
      "Epoch 4/20\n",
      "6851/6851 [==============================] - 1s 106us/sample - loss: 0.1110 - accuracy: 0.8495 - f1: 0.8072\n",
      "Epoch 5/20\n",
      "6851/6851 [==============================] - 1s 109us/sample - loss: 0.1069 - accuracy: 0.8564 - f1: 0.8164\n",
      "Epoch 6/20\n",
      "6851/6851 [==============================] - 1s 105us/sample - loss: 0.1016 - accuracy: 0.8634 - f1: nan\n",
      "Epoch 7/20\n",
      "6851/6851 [==============================] - 1s 105us/sample - loss: 0.0989 - accuracy: 0.8664 - f1: 0.8319\n",
      "Epoch 8/20\n",
      "6851/6851 [==============================] - 1s 106us/sample - loss: 0.0976 - accuracy: 0.8694 - f1: 0.8345\n",
      "Epoch 9/20\n",
      "6851/6851 [==============================] - 1s 105us/sample - loss: 0.0926 - accuracy: 0.8742 - f1: 0.8394\n",
      "Epoch 10/20\n",
      "6851/6851 [==============================] - 1s 105us/sample - loss: 0.0900 - accuracy: 0.8793 - f1: nan\n",
      "Epoch 11/20\n",
      "6851/6851 [==============================] - 1s 108us/sample - loss: 0.0870 - accuracy: 0.8837 - f1: 0.8502\n",
      "Epoch 12/20\n",
      "6851/6851 [==============================] - 1s 112us/sample - loss: 0.0823 - accuracy: 0.8913 - f1: 0.8635\n",
      "Epoch 13/20\n",
      "6851/6851 [==============================] - 1s 162us/sample - loss: 0.0804 - accuracy: 0.8945 - f1: nan\n",
      "Epoch 14/20\n",
      "6851/6851 [==============================] - 1s 105us/sample - loss: 0.0775 - accuracy: 0.8980 - f1: nan\n",
      "Epoch 15/20\n",
      "6851/6851 [==============================] - 1s 127us/sample - loss: 0.0750 - accuracy: 0.9025 - f1: 0.8766\n",
      "Epoch 16/20\n",
      "6851/6851 [==============================] - 1s 105us/sample - loss: 0.0737 - accuracy: 0.9024 - f1: nan\n",
      "Epoch 17/20\n",
      "6851/6851 [==============================] - 1s 112us/sample - loss: 0.0721 - accuracy: 0.9070 - f1: 0.8839\n",
      "Epoch 18/20\n",
      "6851/6851 [==============================] - 1s 110us/sample - loss: 0.0685 - accuracy: 0.9096 - f1: 0.8869\n",
      "Epoch 19/20\n",
      "6851/6851 [==============================] - 1s 107us/sample - loss: 0.0678 - accuracy: 0.9132 - f1: 0.8909\n",
      "Epoch 20/20\n",
      "6851/6851 [==============================] - 1s 152us/sample - loss: 0.0655 - accuracy: 0.9194 - f1: nan\n",
      "MLP Accuracy on Validation: 0.8044619560241699; F1 Score: 0.7435267567634583\n",
      "F1 Score MLP and Count Vectorizer Select K Best on validation dataset: 0.7478849407783418\n"
     ]
    }
   ],
   "source": [
    "# MLP with Select K Best\n",
    "\n",
    "# Create vectorizer and fit with training data\n",
    "vectorizer = CountVectorizer(ngram_range= (1,2), max_features= 4000)\n",
    "vectorizer.fit(X_train['text'])\n",
    "\n",
    "# Create vector of train and validation data using tfidf\n",
    "train_vector = vectorizer.transform(X_train['text'])\n",
    "val_vector = vectorizer.transform(X_val['text'])\n",
    "\n",
    "# Select K best\n",
    "selector = SelectKBest(f_classif, k = 3000)\n",
    "selector.fit(train_vector, y_train)\n",
    "\n",
    "# Select vector\n",
    "train_vector = selector.transform(train_vector)\n",
    "val_vector = selector.transform(val_vector)\n",
    "\n",
    "# MLP Architecture\n",
    "mlp = keras.Sequential([\n",
    "    keras.layers.Dropout(0.3, input_shape=train_vector.shape[1:]),\n",
    "    keras.layers.Dense(64, activation= 'relu', kernel_initializer= 'he_normal', ),\n",
    "    keras.layers.Dropout(0.1),\n",
    "    keras.layers.Dense(1, activation='sigmoid')\n",
    "])\n",
    "\n",
    "# Compile MLP\n",
    "mlp.compile(optimizer= 'adam',\n",
    "                  loss= 'mse',\n",
    "                  metrics= ['accuracy', f1]\n",
    "                 )\n",
    "\n",
    "# Train MLP\n",
    "mlp.fit(train_vector.toarray(), y_train, epochs=20)\n",
    "\n",
    "# Evaluate model in validation dataset\n",
    "test_loss, test_acc, test_f1 = mlp.evaluate(val_vector.toarray(),y_val, verbose= 0)\n",
    "print(\"MLP Accuracy on Validation: {}; F1 Score: {}\".format(test_acc, test_f1))\n",
    "\n",
    "# Evaluate model in validation dataset\n",
    "y_pred = mlp.predict_classes(val_vector.toarray())\n",
    "score = f1_score(y_val, y_pred)\n",
    "print(\"F1 Score MLP and Count Vectorizer Select K Best on validation dataset: {}\".format(score))\n",
    "\n",
    "# With current architecture it gives better performance f1_score at 0.760"
   ]
  },
  {
   "cell_type": "code",
   "execution_count": 42,
   "metadata": {},
   "outputs": [],
   "source": [
    "# Train model on all training data\n",
    "# Test using test dataset\n",
    "\n",
    "# Create vectorizer and fit with training data\n",
    "vectorizer = CountVectorizer(ngram_range= (1,2), max_features= 4000)\n",
    "vectorizer.fit(train['text'])\n",
    "\n",
    "# Create vector\n",
    "train_vector = vectorizer.transform(train['text'])\n",
    "test_vector = vectorizer.transform(test['text'])\n",
    "\n",
    "# Select K best\n",
    "selector = SelectKBest(f_classif, k = 3000)\n",
    "selector.fit(train_vector, train.target)\n",
    "\n",
    "# Select vector\n",
    "train_vector = selector.transform(train_vector)\n",
    "test_vector = selector.transform(test_vector)\n",
    "\n",
    "# MLP Architecture\n",
    "mlp = keras.Sequential([\n",
    "    keras.layers.Dropout(0.3, input_shape=train_vector.shape[1:]),\n",
    "    keras.layers.Dense(64, activation= 'relu', kernel_initializer= 'he_normal', ),\n",
    "    keras.layers.Dropout(0.1),\n",
    "    keras.layers.Dense(1, activation='sigmoid')\n",
    "])\n",
    "\n",
    "# Compile MLP\n",
    "mlp.compile(optimizer= 'adam',\n",
    "                  loss= 'mse',\n",
    "                  metrics= ['accuracy']\n",
    "                 )\n",
    "\n",
    "# Train MLP\n",
    "mlp.fit(train_vector.toarray(), train.target, epochs=20, verbose=0)\n",
    "\n",
    "# Prediction on test dataset\n",
    "y_pred = mlp.predict_classes(test_vector.toarray())\n",
    "\n",
    "# Submission using MLP and count vectorizer\n",
    "submission_mlp_select = pd.read_csv('/kaggle/input/nlp-getting-started/sample_submission.csv')\n",
    "submission_mlp_select['target'] = y_pred\n",
    "submission_mlp_select.to_csv('count_select_mlp.csv', index=False)"
   ]
  },
  {
   "cell_type": "code",
   "execution_count": null,
   "metadata": {},
   "outputs": [],
   "source": []
  }
 ],
 "metadata": {
  "kernelspec": {
   "display_name": "Python 3",
   "language": "python",
   "name": "python3"
  },
  "language_info": {
   "codemirror_mode": {
    "name": "ipython",
    "version": 3
   },
   "file_extension": ".py",
   "mimetype": "text/x-python",
   "name": "python",
   "nbconvert_exporter": "python",
   "pygments_lexer": "ipython3",
   "version": "3.6.6"
  }
 },
 "nbformat": 4,
 "nbformat_minor": 4
}
